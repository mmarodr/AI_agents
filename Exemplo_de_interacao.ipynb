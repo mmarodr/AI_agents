{
 "cells": [
  {
   "cell_type": "markdown",
   "metadata": {},
   "source": [
    "## Initiate"
   ]
  },
  {
   "cell_type": "markdown",
   "metadata": {},
   "source": [
    "#### Configurações gerais"
   ]
  },
  {
   "cell_type": "code",
   "execution_count": 1,
   "metadata": {},
   "outputs": [],
   "source": [
    "from Petrobras_AI_Agents import llmClient_AzureOpenAI as llmClient\n",
    "from Petrobras_AI_Agents import ChatDatabaseManager_Postgres as ChatMemory\n",
    "from Petrobras_AI_Agents import KnowledgeBaseManager_Databricks as Databricks_KnowledgeBase\n",
    "from Petrobras_AI_Agents import KnowledgeBaseManager_SQLite as PersonalCollection\n",
    "from Petrobras_AI_Agents import DatabaseManager_SQLite, DatabaseManager_Databricks\n",
    "from Petrobras_AI_Agents import AgentWork, BaseAgent, ChatInterpretorAgent, KnowledgeBaseAgent, MemoryAgent, DatabaseExpertAgent\n",
    "from Petrobras_AI_Agents import databricks_connector\n",
    "\n",
    "from Petrobras_AI_Agents import read_file\n",
    "from Petrobras_AI_Agents.TOOLS import basic_calculator, run_python_code, search_web\n",
    "\n",
    "import os\n",
    "from decouple import config"
   ]
  },
  {
   "cell_type": "code",
   "execution_count": 2,
   "metadata": {},
   "outputs": [],
   "source": [
    "username = os.getlogin().upper()\n",
    "username = None\n",
    "language = \"pt-br\"\n",
    "local_path = lambda path_tipe, file: os.path.normpath(os.path.join(\"C:/\", \"Users\", username.lower(), \"OneDrive - PETROBRAS\", \"Documents\", \"chat_contabilidade\", path_tipe, file))"
   ]
  },
  {
   "cell_type": "code",
   "execution_count": 3,
   "metadata": {},
   "outputs": [],
   "source": [
    "# Nome dos agentes a serem criados\n",
    "chat_interpretor_agent_name     = \"Chat Analista\"\n",
    "databricks_knowledge_agent_name = \"Documentos Databricks\"\n",
    "databricks_analytics_agent_name = \"Analytics Databricks\"\n",
    "personal_knowledge_agent_name   = \"Documentos Pessoais\"\n",
    "personal_analytics_agent_name   = \"Analytics Pessoal\""
   ]
  },
  {
   "cell_type": "code",
   "execution_count": 4,
   "metadata": {},
   "outputs": [],
   "source": [
    "agent_work = AgentWork(\n",
    "    start_agent = chat_interpretor_agent_name,\n",
    "    language = language,\n",
    "    llm = llmClient(\n",
    "        model_text  =\"gpt-4o-petrobras\",\n",
    "        model_emb   =\"text-embedding-3-large-petrobras\",\n",
    "        api_version =\"2024-06-01\", #\"2024-08-01-preview\",\n",
    "        base_url    =\"https://apit.petrobras.com.br/ia/openai/v1/openai-azure/openai\",\n",
    "        cert_file   =\"servicoca-petrobras-com-br-chain.pem\",\n",
    "        api_key     =config(\"AZURE_OPENAI_API_KEY\"),\n",
    "        temperature=0.1),\n",
    "    chat_memory = ChatMemory( \n",
    "        db_path     = config(\"POSTGRES_PASSWORD\"),\n",
    "        user        = username,\n",
    "        language    = language),\n",
    ")"
   ]
  },
  {
   "cell_type": "markdown",
   "metadata": {},
   "source": [
    "### Agentes Padrão"
   ]
  },
  {
   "cell_type": "markdown",
   "metadata": {},
   "source": [
    "#### ChatInterpretorAgent"
   ]
  },
  {
   "cell_type": "code",
   "execution_count": 7,
   "metadata": {},
   "outputs": [],
   "source": [
    "chat_interpretor_agent = ChatInterpretorAgent(\n",
    "    agent_name = chat_interpretor_agent_name,\n",
    "    work_instance = agent_work,\n",
    "    human_in_the_loop = False,\n",
    "    # next_agent_list = ['colocar o nome dos agentes']  por padrão esse agente pode se comunicar com todos os outros agentes\n",
    "    )"
   ]
  },
  {
   "cell_type": "markdown",
   "metadata": {},
   "source": [
    "### Agentes Databricks"
   ]
  },
  {
   "cell_type": "markdown",
   "metadata": {},
   "source": [
    "#### Databricks_KnowledgeBase"
   ]
  },
  {
   "cell_type": "code",
   "execution_count": 6,
   "metadata": {},
   "outputs": [],
   "source": [
    "config_json = os.path.join(\"config_json\", \"databricks\", \"config_databricks_doc_collection.json\")"
   ]
  },
  {
   "cell_type": "code",
   "execution_count": 7,
   "metadata": {},
   "outputs": [],
   "source": [
    "# Apenas necessário se ainda não existir config_file (se ja existir, esse comando será automaticamente ignorado)\n",
    "\n",
    "Databricks_KnowledgeBase.create_config_file(\n",
    "    config_json                 = config_json,\n",
    "    connection_server_hostname  = \"adb-671799829240675.15.azuredatabricks.net\",\n",
    "    connection_http_path        = \"/sql/1.0/warehouses/1fd972f888afd086\",\n",
    "    users_access_table_name     = \"dtcore_prd.aida.acesso_usuario\",\n",
    "    users_access_profile_prefix = \"GDB_DLKC_PRD_PFL_\",\n",
    "    db_functions_euclidean      = \"dt0047_prd.db_functions.euclidean_distance\",\n",
    "    db_functions_cosine         = \"dt0047_prd.db_functions.cosine_distance\",\n",
    "    source_col_name             = \"source\",\n",
    "    file_col_name               = \"file_as_str\",\n",
    "    context_col_name            = \"page_content\",\n",
    "    rag_col_name                = \"vector_embedding_3large\",\n",
    "    metadata_col_name           = \"metadata_dictionary\",\n",
    "    file_base_id_col_name       = \"id\",\n",
    "    vec_base_file_id_col_name   = \"file_id\"\n",
    "    )"
   ]
  },
  {
   "cell_type": "code",
   "execution_count": 8,
   "metadata": {},
   "outputs": [],
   "source": [
    "# Adiciona Coleções de Dados, quantas desejar (se já estiver cadastrada no config_json não precisa rodar)\n",
    "\n",
    "Databricks_KnowledgeBase.add_data_source(\n",
    "    process_name    = \"intimacoes_sefaz_rj\",\n",
    "    file_base       = \"dt0047_prd.chat_bot.intimacoes_fiscais_pgov_sefaz_rj_file_base\",\n",
    "    vec_base        = \"dt0047_prd.chat_bot.intimacoes_fiscais_pgov_sefaz_rj_vec_base\"\n",
    ")\n",
    "Databricks_KnowledgeBase.add_data_source(\n",
    "    process_name    = \"normas_contabeis\",\n",
    "    file_base       = \"dt0047_prd.chat_bot.normas_contabeis_guia_de_normas_file_base\",\n",
    "    vec_base        = \"dt0047_prd.chat_bot.normas_contabeis_guia_de_normas_vec_base\"\n",
    ")\n",
    "Databricks_KnowledgeBase.add_data_source(\n",
    "    process_name    = \"apontamento_hh_parcerias\",\n",
    "    file_base       = \"dt0047_prd.chat_bot.parcerias_apontamentohoras_file_base\",\n",
    "    vec_base        = \"dt0047_prd.chat_bot.parcerias_apontamentohoras_vec_base\"\n",
    ")"
   ]
  },
  {
   "cell_type": "code",
   "execution_count": 9,
   "metadata": {},
   "outputs": [
    {
     "name": "stdout",
     "output_type": "stream",
     "text": [
      "✅ databricks_connector: Conectado ao Databricks\n",
      "Manager iniciated\n"
     ]
    }
   ],
   "source": [
    "doc_manager_databricks = Databricks_KnowledgeBase(\n",
    "    config_json=config_json, \n",
    "    user=username,\n",
    "    connection_as_function=databricks_connector\n",
    "    )\n",
    "\n",
    "databricks_knowledge_agent = KnowledgeBaseAgent(\n",
    "    agent_name = databricks_knowledge_agent_name,\n",
    "    work_instance = agent_work,\n",
    "    KnowledgeBase=doc_manager_databricks,\n",
    "    k = 5,\n",
    "    allow_direct_response = True,\n",
    "    human_in_the_loop = False,\n",
    "#   next_agent_list = ['colocar o nome dos agentes']  por padrão esse agente não delega tarefa para nenhum outro agente\n",
    ")"
   ]
  },
  {
   "cell_type": "markdown",
   "metadata": {},
   "source": [
    "#### Analytics"
   ]
  },
  {
   "cell_type": "code",
   "execution_count": null,
   "metadata": {},
   "outputs": [],
   "source": [
    "config_json = os.path.join(\"config_json\", \"databricks\", \"config_databricks_datasources.json\")"
   ]
  },
  {
   "cell_type": "code",
   "execution_count": null,
   "metadata": {},
   "outputs": [],
   "source": [
    "# Apenas necessário se ainda não existir config_file (se ja existir, esse comando será automaticamente ignorado)\n",
    "\n",
    "DatabaseManager_Databricks.create_config_file(\n",
    "    config_json=config_json,\n",
    "    connection_server_hostname  = \"adb-671799829240675.15.azuredatabricks.net\",\n",
    "    connection_http_path        = \"/sql/1.0/warehouses/1fd972f888afd086\",\n",
    "    users_access_table_name     = \"dtcore_prd.aida.acesso_usuario\",\n",
    "    users_access_profile_prefix = \"GDB_DLKC_PRD_PFL_\"\n",
    "    )"
   ]
  },
  {
   "cell_type": "code",
   "execution_count": null,
   "metadata": {},
   "outputs": [],
   "source": [
    "# Adiciona Coleções de Dados, quantas desejar (se já estiver cadastrada no config_json não precisa rodar)\n",
    "\n",
    "DatabaseManager_Databricks.add_data_source(\n",
    "    collection          = \"intimacoes_sefaz_rj_pgov_gastos\",\n",
    "    process_description = \"Rateio de gastos auditados pela SEFAZ-RJ relacionados às participações governamentais\",\n",
    "    relationships       = \"A tabela 1 se relaciona com a 2 usando o campo abc\",\n",
    "    tables={\n",
    "        \"base_h\"        : \"dt0047_prd.gastos.base_h_pgov_sefaz_rj_gastos\",\n",
    "        \"base_r\"        : \"dt0047_prd.gastos.base_r_pgov_sefaz_rj_gastos\",\n",
    "        \"base_resultado\": \"dt0047_prd.gastos.base_result_pgov_sefaz_rj_gastos\"\n",
    "    }\n",
    ")\n",
    "\n",
    "DatabaseManager_Databricks.add_data_source(\n",
    "    collection          = \"Estoque_Produtos\",\n",
    "    process_description = \"Análise das contas de estoques de produtos registradas na transação CKM3 para montagem do custeio e outras análises relacionadas.\",\n",
    "    relationships       = \"\",\n",
    "    tables={\n",
    "        \"ckm3_custeio\": \"dt0047_prd.custeio.base_acumulada_custeio_ckm3\"\n",
    "    }\n",
    ")"
   ]
  },
  {
   "cell_type": "code",
   "execution_count": null,
   "metadata": {},
   "outputs": [
    {
     "name": "stdout",
     "output_type": "stream",
     "text": [
      "❌ databricks_connector: Falha na conexão com Databricks → Error during request to server\n",
      "❌ databricks_connector: Falha na conexão com Databricks → Error during request to server\n",
      "❌ databricks_connector: Falha na conexão com Databricks → Error during request to server\n",
      "❌ databricks_connector: Falha na conexão com Databricks → Error during request to server\n",
      "❌ databricks_connector: Falha na conexão com Databricks → Error during request to server\n",
      "❌ databricks_connector: Falha na conexão com Databricks → Error during request to server\n",
      "❌ databricks_connector: Falha na conexão com Databricks → Error during request to server\n",
      "❌ databricks_connector: Falha na conexão com Databricks → Error during request to server\n",
      "❌ databricks_connector: Falha na conexão com Databricks → Error during request to server\n",
      "❌ databricks_connector: Falha na conexão com Databricks → Error during request to server\n",
      "❌ databricks_connector: Falha na conexão com Databricks → Error during request to server\n",
      "❌ databricks_connector: Falha na conexão com Databricks → Error during request to server\n",
      "❌ databricks_connector: Falha na conexão com Databricks → Error during request to server\n"
     ]
    },
    {
     "ename": "ConnectionError",
     "evalue": "❌ Erro: Não foi possível conectar ao Databricks.",
     "output_type": "error",
     "traceback": [
      "\u001b[1;31m---------------------------------------------------------------------------\u001b[0m",
      "\u001b[1;31mConnectionError\u001b[0m                           Traceback (most recent call last)",
      "Cell \u001b[1;32mIn[15], line 1\u001b[0m\n\u001b[1;32m----> 1\u001b[0m dataanalytics_databricks \u001b[38;5;241m=\u001b[39m \u001b[43mDatabaseManager_Databricks\u001b[49m\u001b[43m(\u001b[49m\n\u001b[0;32m      2\u001b[0m \u001b[43m    \u001b[49m\u001b[43mconfig_json\u001b[49m\u001b[38;5;241;43m=\u001b[39;49m\u001b[43mconfig_json\u001b[49m\u001b[43m,\u001b[49m\u001b[43m \u001b[49m\n\u001b[0;32m      3\u001b[0m \u001b[43m    \u001b[49m\u001b[43muser\u001b[49m\u001b[38;5;241;43m=\u001b[39;49m\u001b[43musername\u001b[49m\u001b[43m,\u001b[49m\n\u001b[0;32m      4\u001b[0m \u001b[43m    \u001b[49m\u001b[43mconnection_as_function\u001b[49m\u001b[38;5;241;43m=\u001b[39;49m\u001b[43mdatabricks_connector\u001b[49m\n\u001b[0;32m      5\u001b[0m \u001b[43m    \u001b[49m\u001b[43m)\u001b[49m\n\u001b[0;32m      7\u001b[0m databricks_analytics_agent \u001b[38;5;241m=\u001b[39m DatabaseExpertAgent(\n\u001b[0;32m      8\u001b[0m     agent_name \u001b[38;5;241m=\u001b[39m databricks_analytics_agent_name,\n\u001b[0;32m      9\u001b[0m     work_instance \u001b[38;5;241m=\u001b[39m agent_work,\n\u001b[1;32m   (...)\u001b[0m\n\u001b[0;32m     13\u001b[0m \u001b[38;5;66;03m#   next_agent_list = ['colocar o nome dos agentes']  por padrão esse agente não delega tarefa para nenhum outro agente\u001b[39;00m\n\u001b[0;32m     14\u001b[0m )\n",
      "File \u001b[1;32mc:\\Users\\zcfv\\OneDrive - PETROBRAS\\Documents\\Phyton\\git_prd\\agentes\\s10883-gpt-contabil\\Petrobras_AI_Agents\\ANALYSIS\\databricks.py:125\u001b[0m, in \u001b[0;36mDatabaseManager_Databricks.__init__\u001b[1;34m(self, user, config_json, connection_as_function)\u001b[0m\n\u001b[0;32m    115\u001b[0m         \u001b[38;5;28mself\u001b[39m\u001b[38;5;241m.\u001b[39mconfig[\u001b[38;5;124m\"\u001b[39m\u001b[38;5;124mdata_sources\u001b[39m\u001b[38;5;124m\"\u001b[39m][collection][\u001b[38;5;124m\"\u001b[39m\u001b[38;5;124mtables\u001b[39m\u001b[38;5;124m\"\u001b[39m][table][\u001b[38;5;124m'\u001b[39m\u001b[38;5;124mgrants\u001b[39m\u001b[38;5;124m'\u001b[39m] \u001b[38;5;241m=\u001b[39m [\n\u001b[0;32m    116\u001b[0m             \u001b[38;5;28mint\u001b[39m(profile[\u001b[38;5;28mlen\u001b[39m(profile_prefix):]) \n\u001b[0;32m    117\u001b[0m             \u001b[38;5;28;01mfor\u001b[39;00m profile \u001b[38;5;129;01min\u001b[39;00m \u001b[38;5;28mself\u001b[39m\u001b[38;5;241m.\u001b[39mconfig[\u001b[38;5;124m\"\u001b[39m\u001b[38;5;124mdata_sources\u001b[39m\u001b[38;5;124m\"\u001b[39m][collection][\u001b[38;5;124m\"\u001b[39m\u001b[38;5;124mtables\u001b[39m\u001b[38;5;124m\"\u001b[39m][table][\u001b[38;5;124m'\u001b[39m\u001b[38;5;124mgrants\u001b[39m\u001b[38;5;124m'\u001b[39m]\n\u001b[0;32m    118\u001b[0m             \u001b[38;5;28;01mif\u001b[39;00m profile\u001b[38;5;241m.\u001b[39mstartswith(profile_prefix )]\n\u001b[0;32m    120\u001b[0m         \u001b[38;5;28mself\u001b[39m\u001b[38;5;241m.\u001b[39m_profile_table_list \u001b[38;5;241m+\u001b[39m\u001b[38;5;241m=\u001b[39m [\n\u001b[0;32m    121\u001b[0m                 {\u001b[38;5;124m\"\u001b[39m\u001b[38;5;124mprofile_id\u001b[39m\u001b[38;5;124m\"\u001b[39m: p, \u001b[38;5;124m\"\u001b[39m\u001b[38;5;124maddress\u001b[39m\u001b[38;5;124m\"\u001b[39m: \u001b[38;5;28mself\u001b[39m\u001b[38;5;241m.\u001b[39mconfig[\u001b[38;5;124m\"\u001b[39m\u001b[38;5;124mdata_sources\u001b[39m\u001b[38;5;124m\"\u001b[39m][collection][\u001b[38;5;124m\"\u001b[39m\u001b[38;5;124mtables\u001b[39m\u001b[38;5;124m\"\u001b[39m][table][\u001b[38;5;124m'\u001b[39m\u001b[38;5;124maddress\u001b[39m\u001b[38;5;124m'\u001b[39m]}\n\u001b[0;32m    122\u001b[0m                 \u001b[38;5;28;01mfor\u001b[39;00m p \u001b[38;5;129;01min\u001b[39;00m \u001b[38;5;28mself\u001b[39m\u001b[38;5;241m.\u001b[39mconfig[\u001b[38;5;124m\"\u001b[39m\u001b[38;5;124mdata_sources\u001b[39m\u001b[38;5;124m\"\u001b[39m][collection][\u001b[38;5;124m\"\u001b[39m\u001b[38;5;124mtables\u001b[39m\u001b[38;5;124m\"\u001b[39m][table][\u001b[38;5;124m'\u001b[39m\u001b[38;5;124mgrants\u001b[39m\u001b[38;5;124m'\u001b[39m]\n\u001b[0;32m    123\u001b[0m                 ]\n\u001b[1;32m--> 125\u001b[0m \u001b[38;5;28mself\u001b[39m\u001b[38;5;241m.\u001b[39mconfig \u001b[38;5;241m=\u001b[39m \u001b[38;5;28;43mself\u001b[39;49m\u001b[38;5;241;43m.\u001b[39;49m\u001b[43muser_config_file\u001b[49m\u001b[43m(\u001b[49m\u001b[43muser\u001b[49m\u001b[43m)\u001b[49m\n\u001b[0;32m    126\u001b[0m \u001b[38;5;28mself\u001b[39m\u001b[38;5;241m.\u001b[39mconfig_initial \u001b[38;5;241m=\u001b[39m copy\u001b[38;5;241m.\u001b[39mdeepcopy(\u001b[38;5;28mself\u001b[39m\u001b[38;5;241m.\u001b[39mconfig)\n",
      "File \u001b[1;32mc:\\Users\\zcfv\\OneDrive - PETROBRAS\\Documents\\Phyton\\git_prd\\agentes\\s10883-gpt-contabil\\Petrobras_AI_Agents\\ANALYSIS\\databricks.py:243\u001b[0m, in \u001b[0;36mDatabaseManager_Databricks.user_config_file\u001b[1;34m(self, user, reset_config_json, print_sql)\u001b[0m\n\u001b[0;32m    241\u001b[0m \u001b[38;5;28;01mdef\u001b[39;00m\u001b[38;5;250m \u001b[39m\u001b[38;5;21muser_config_file\u001b[39m(\u001b[38;5;28mself\u001b[39m, user, reset_config_json\u001b[38;5;241m=\u001b[39m\u001b[38;5;28;01mFalse\u001b[39;00m, print_sql\u001b[38;5;241m=\u001b[39m\u001b[38;5;28;01mFalse\u001b[39;00m):\n\u001b[1;32m--> 243\u001b[0m     allowed_tables \u001b[38;5;241m=\u001b[39m \u001b[38;5;28;43mself\u001b[39;49m\u001b[38;5;241;43m.\u001b[39;49m\u001b[43m_get_allowed_tables\u001b[49m\u001b[43m(\u001b[49m\u001b[43muser\u001b[49m\u001b[43m,\u001b[49m\u001b[43m \u001b[49m\u001b[43mprint_sql\u001b[49m\u001b[38;5;241;43m=\u001b[39;49m\u001b[43mprint_sql\u001b[49m\u001b[43m)\u001b[49m\n\u001b[0;32m    245\u001b[0m     \u001b[38;5;28;01mif\u001b[39;00m reset_config_json: \u001b[38;5;28mself\u001b[39m\u001b[38;5;241m.\u001b[39mconfig \u001b[38;5;241m=\u001b[39m copy\u001b[38;5;241m.\u001b[39mdeepcopy(\u001b[38;5;28mself\u001b[39m\u001b[38;5;241m.\u001b[39mconfig_initial)\n\u001b[0;32m    247\u001b[0m     config \u001b[38;5;241m=\u001b[39m copy\u001b[38;5;241m.\u001b[39mdeepcopy(\u001b[38;5;28mself\u001b[39m\u001b[38;5;241m.\u001b[39mconfig)\n",
      "File \u001b[1;32mc:\\Users\\zcfv\\OneDrive - PETROBRAS\\Documents\\Phyton\\git_prd\\agentes\\s10883-gpt-contabil\\Petrobras_AI_Agents\\ANALYSIS\\databricks.py:226\u001b[0m, in \u001b[0;36mDatabaseManager_Databricks._get_allowed_tables\u001b[1;34m(self, user, print_sql)\u001b[0m\n\u001b[0;32m    217\u001b[0m sql \u001b[38;5;241m=\u001b[39m \u001b[38;5;124mf\u001b[39m\u001b[38;5;124m'''\u001b[39m\n\u001b[0;32m    218\u001b[0m \u001b[38;5;124mSELECT PEPA_CD_PERFIL_PLATAFORMA as profile_id, VWRP_CD_ELEMENTO as user\u001b[39m\n\u001b[0;32m    219\u001b[0m \u001b[38;5;124mFROM \u001b[39m\u001b[38;5;132;01m{\u001b[39;00mtable\u001b[38;5;132;01m}\u001b[39;00m\n\u001b[0;32m    220\u001b[0m \u001b[38;5;124mWHERE PEPA_CD_PERFIL_PLATAFORMA IN (\u001b[39m\u001b[38;5;132;01m{\u001b[39;00mprofile_ids\u001b[38;5;132;01m}\u001b[39;00m\u001b[38;5;124m)\u001b[39m\n\u001b[0;32m    221\u001b[0m \u001b[38;5;124m\u001b[39m\u001b[38;5;132;01m{\u001b[39;00muser_line\u001b[38;5;132;01m}\u001b[39;00m\n\u001b[0;32m    222\u001b[0m \u001b[38;5;124m\u001b[39m\u001b[38;5;124m'''\u001b[39m\n\u001b[0;32m    224\u001b[0m \u001b[38;5;28;01mif\u001b[39;00m print_sql: \u001b[38;5;28mprint\u001b[39m(\u001b[38;5;124mf\u001b[39m\u001b[38;5;124m\"\u001b[39m\u001b[38;5;124mDatabaseManager_Databricks: \u001b[39m\u001b[38;5;130;01m\\n\u001b[39;00m\u001b[38;5;132;01m{\u001b[39;00msql\u001b[38;5;132;01m}\u001b[39;00m\u001b[38;5;124m\"\u001b[39m, flush\u001b[38;5;241m=\u001b[39m\u001b[38;5;28;01mTrue\u001b[39;00m)\n\u001b[1;32m--> 226\u001b[0m result \u001b[38;5;241m=\u001b[39m \u001b[38;5;28;43mself\u001b[39;49m\u001b[38;5;241;43m.\u001b[39;49m\u001b[43mget_table_as_dictionary\u001b[49m\u001b[43m(\u001b[49m\u001b[43msql\u001b[49m\u001b[43m)\u001b[49m\n\u001b[0;32m    227\u001b[0m \u001b[38;5;28;01mif\u001b[39;00m \u001b[38;5;129;01mnot\u001b[39;00m result: result_df \u001b[38;5;241m=\u001b[39m pd\u001b[38;5;241m.\u001b[39mDataFrame(columns\u001b[38;5;241m=\u001b[39m[\u001b[38;5;124m\"\u001b[39m\u001b[38;5;124mprofile_id\u001b[39m\u001b[38;5;124m\"\u001b[39m, \u001b[38;5;124m\"\u001b[39m\u001b[38;5;124muser\u001b[39m\u001b[38;5;124m\"\u001b[39m])\n\u001b[0;32m    228\u001b[0m \u001b[38;5;28;01melse\u001b[39;00m: result_df \u001b[38;5;241m=\u001b[39m pd\u001b[38;5;241m.\u001b[39mDataFrame(result)\n",
      "File \u001b[1;32mc:\\Users\\zcfv\\OneDrive - PETROBRAS\\Documents\\Phyton\\git_prd\\agentes\\s10883-gpt-contabil\\Petrobras_AI_Agents\\ANALYSIS\\databricks.py:201\u001b[0m, in \u001b[0;36mDatabaseManager_Databricks.get_table_as_dictionary\u001b[1;34m(self, sql_query, table)\u001b[0m\n\u001b[0;32m    199\u001b[0m \u001b[38;5;28;01mdef\u001b[39;00m\u001b[38;5;250m \u001b[39m\u001b[38;5;21mget_table_as_dictionary\u001b[39m(\u001b[38;5;28mself\u001b[39m, sql_query\u001b[38;5;241m=\u001b[39m\u001b[38;5;28;01mNone\u001b[39;00m, table\u001b[38;5;241m=\u001b[39m\u001b[38;5;28;01mNone\u001b[39;00m):\n\u001b[1;32m--> 201\u001b[0m     result \u001b[38;5;241m=\u001b[39m \u001b[38;5;28;43mself\u001b[39;49m\u001b[38;5;241;43m.\u001b[39;49m\u001b[43mget_table\u001b[49m\u001b[43m(\u001b[49m\u001b[43msql_query\u001b[49m\u001b[38;5;241;43m=\u001b[39;49m\u001b[43msql_query\u001b[49m\u001b[43m,\u001b[49m\u001b[43m \u001b[49m\u001b[43mtable\u001b[49m\u001b[38;5;241;43m=\u001b[39;49m\u001b[43mtable\u001b[49m\u001b[43m)\u001b[49m\n\u001b[0;32m    202\u001b[0m     rows_as_dict \u001b[38;5;241m=\u001b[39m [row\u001b[38;5;241m.\u001b[39masDict() \u001b[38;5;28;01mfor\u001b[39;00m row \u001b[38;5;129;01min\u001b[39;00m result]\n\u001b[0;32m    204\u001b[0m     \u001b[38;5;28;01mreturn\u001b[39;00m rows_as_dict\n",
      "File \u001b[1;32mc:\\Users\\zcfv\\OneDrive - PETROBRAS\\Documents\\Phyton\\git_prd\\agentes\\s10883-gpt-contabil\\Petrobras_AI_Agents\\ANALYSIS\\databricks.py:191\u001b[0m, in \u001b[0;36mDatabaseManager_Databricks.get_table\u001b[1;34m(self, sql_query, table)\u001b[0m\n\u001b[0;32m    189\u001b[0m \u001b[38;5;28;01mdef\u001b[39;00m\u001b[38;5;250m \u001b[39m\u001b[38;5;21mget_table\u001b[39m(\u001b[38;5;28mself\u001b[39m, sql_query\u001b[38;5;241m=\u001b[39m\u001b[38;5;28;01mNone\u001b[39;00m, table\u001b[38;5;241m=\u001b[39m\u001b[38;5;28;01mNone\u001b[39;00m):\n\u001b[1;32m--> 191\u001b[0m     cursor \u001b[38;5;241m=\u001b[39m \u001b[38;5;28;43mself\u001b[39;49m\u001b[38;5;241;43m.\u001b[39;49m\u001b[43mconnection\u001b[49m\u001b[38;5;241m.\u001b[39mcursor()\n\u001b[0;32m    193\u001b[0m     \u001b[38;5;28;01mif\u001b[39;00m sql_query \u001b[38;5;129;01mis\u001b[39;00m \u001b[38;5;28;01mNone\u001b[39;00m: sql_query \u001b[38;5;241m=\u001b[39m \u001b[38;5;124mf\u001b[39m\u001b[38;5;124m'\u001b[39m\u001b[38;5;124mSELECT * FROM \u001b[39m\u001b[38;5;132;01m{\u001b[39;00mtable\u001b[38;5;132;01m}\u001b[39;00m\u001b[38;5;124m'\u001b[39m\n\u001b[0;32m    194\u001b[0m     cursor\u001b[38;5;241m.\u001b[39mexecute(sql_query)\n",
      "File \u001b[1;32mc:\\Users\\zcfv\\OneDrive - PETROBRAS\\Documents\\Phyton\\git_prd\\agentes\\s10883-gpt-contabil\\Petrobras_AI_Agents\\ANALYSIS\\databricks.py:131\u001b[0m, in \u001b[0;36mDatabaseManager_Databricks.connection\u001b[1;34m(self)\u001b[0m\n\u001b[0;32m    128\u001b[0m \u001b[38;5;129m@property\u001b[39m\n\u001b[0;32m    129\u001b[0m \u001b[38;5;28;01mdef\u001b[39;00m\u001b[38;5;250m \u001b[39m\u001b[38;5;21mconnection\u001b[39m(\u001b[38;5;28mself\u001b[39m):\n\u001b[0;32m    130\u001b[0m \u001b[38;5;250m    \u001b[39m\u001b[38;5;124;03m\"\"\"Retorna a conexão, criando-a apenas se necessário.\"\"\"\u001b[39;00m\n\u001b[1;32m--> 131\u001b[0m     \u001b[38;5;28;01mreturn\u001b[39;00m \u001b[38;5;28;43mself\u001b[39;49m\u001b[38;5;241;43m.\u001b[39;49m\u001b[43mconnection_as_function\u001b[49m\u001b[43m(\u001b[49m\u001b[43m)\u001b[49m\n",
      "File \u001b[1;32mc:\\Users\\zcfv\\OneDrive - PETROBRAS\\Documents\\Phyton\\git_prd\\agentes\\s10883-gpt-contabil\\Petrobras_AI_Agents\\CONNECTORS\\databricks.py:71\u001b[0m, in \u001b[0;36mdatabricks_connector_global\u001b[1;34m(server_hostname, http_path, access_token)\u001b[0m\n\u001b[0;32m     69\u001b[0m         databricks_connector_global\u001b[38;5;241m.\u001b[39m_databricks_conn \u001b[38;5;241m=\u001b[39m conn  \u001b[38;5;66;03m# Armazena no escopo da função\u001b[39;00m\n\u001b[0;32m     70\u001b[0m     \u001b[38;5;28;01melse\u001b[39;00m:\n\u001b[1;32m---> 71\u001b[0m         \u001b[38;5;28;01mraise\u001b[39;00m \u001b[38;5;167;01mConnectionError\u001b[39;00m(\u001b[38;5;124m\"\u001b[39m\u001b[38;5;124m❌ Erro: Não foi possível conectar ao Databricks.\u001b[39m\u001b[38;5;124m\"\u001b[39m)  \u001b[38;5;66;03m# Erro explícito\u001b[39;00m\n\u001b[0;32m     73\u001b[0m \u001b[38;5;28;01mreturn\u001b[39;00m conn\n",
      "\u001b[1;31mConnectionError\u001b[0m: ❌ Erro: Não foi possível conectar ao Databricks."
     ]
    }
   ],
   "source": [
    "dataanalytics_databricks = DatabaseManager_Databricks(\n",
    "    config_json=config_json, \n",
    "    user=username,\n",
    "    connection_as_function=databricks_connector\n",
    "    )\n",
    "\n",
    "databricks_analytics_agent = DatabaseExpertAgent(\n",
    "    agent_name = databricks_analytics_agent_name,\n",
    "    work_instance = agent_work,\n",
    "    database_manager = dataanalytics_databricks,\n",
    "    human_in_the_loop = False,\n",
    "    allow_direct_response = True,\n",
    "#   next_agent_list = ['colocar o nome dos agentes']  por padrão esse agente não delega tarefa para nenhum outro agente\n",
    ")"
   ]
  },
  {
   "cell_type": "markdown",
   "metadata": {},
   "source": [
    "#### Teste Coleções"
   ]
  },
  {
   "cell_type": "code",
   "execution_count": 11,
   "metadata": {},
   "outputs": [],
   "source": [
    "doc_manager_databricks.user = \"CYGN\""
   ]
  },
  {
   "cell_type": "code",
   "execution_count": 12,
   "metadata": {},
   "outputs": [
    {
     "name": "stdout",
     "output_type": "stream",
     "text": [
      "✅ databricks_connector: Conectado ao Databricks\n",
      "KnowledgeBaseManager_Databricks: SQL:\n",
      " \n",
      "        SELECT DISTINCT PEPA_CD_PERFIL_PLATAFORMA as profile_id, VWRP_CD_ELEMENTO as user\n",
      "        FROM dtcore_prd.aida.acesso_usuario\n",
      "        WHERE PEPA_CD_PERFIL_PLATAFORMA IN (999999,468,467,468,466,468,669)\n",
      "        AND VWRP_CD_ELEMENTO = 'CYGN'\n",
      "        \n",
      "KnowledgeBaseManager_Databricks: result SQL:\n",
      "[{'profile_id': 467, 'user': 'CYGN'}]\n",
      "KnowledgeBaseManager_Databricks: result:\n",
      "['intimacoes_sefaz_rj']\n"
     ]
    },
    {
     "data": {
      "text/plain": [
       "['intimacoes_sefaz_rj']"
      ]
     },
     "execution_count": 12,
     "metadata": {},
     "output_type": "execute_result"
    }
   ],
   "source": [
    "doc_manager_databricks.get_available_collections(print_sql=True)"
   ]
  },
  {
   "cell_type": "code",
   "execution_count": 10,
   "metadata": {},
   "outputs": [
    {
     "data": {
      "text/plain": [
       "['intimacoes_sefaz_rj', 'normas_contabeis', 'apontamento_hh_parcerias']"
      ]
     },
     "execution_count": 10,
     "metadata": {},
     "output_type": "execute_result"
    }
   ],
   "source": [
    "doc_manager_databricks.available_collections"
   ]
  },
  {
   "cell_type": "code",
   "execution_count": null,
   "metadata": {},
   "outputs": [
    {
     "data": {
      "text/plain": [
       "['intimacoes_sefaz_rj_pgov_gastos', 'Estoque_Produtos']"
      ]
     },
     "execution_count": 15,
     "metadata": {},
     "output_type": "execute_result"
    }
   ],
   "source": [
    "dataanalytics_databricks.available_collections"
   ]
  },
  {
   "cell_type": "markdown",
   "metadata": {},
   "source": [
    "### Agents Pessoais"
   ]
  },
  {
   "cell_type": "code",
   "execution_count": 16,
   "metadata": {},
   "outputs": [],
   "source": [
    "update_personal_data = False # Alterar para usar as células de carga de dados"
   ]
  },
  {
   "cell_type": "markdown",
   "metadata": {},
   "source": [
    "#### Personal_KnowledgeBase"
   ]
  },
  {
   "cell_type": "code",
   "execution_count": 17,
   "metadata": {},
   "outputs": [],
   "source": [
    "config_json = local_path(\"config_json_personal\", \"config_personal_doc_collection.json\")\n",
    "db_path     = local_path('data_base', \"zdb_personal_collection.db\")"
   ]
  },
  {
   "cell_type": "code",
   "execution_count": 18,
   "metadata": {},
   "outputs": [
    {
     "name": "stdout",
     "output_type": "stream",
     "text": [
      "Manager iniciated\n"
     ]
    }
   ],
   "source": [
    "# Apenas necessário se ainda não existir config_file (se ja existir, esse comando será automaticamente ignorado)\n",
    "PersonalCollection.create_config_file(config_json =config_json, db_path=db_path)\n",
    "\n",
    "# Cria instância para a classe PersonalCollection\n",
    "Personal_Collection = PersonalCollection(config_json = config_json)"
   ]
  },
  {
   "cell_type": "code",
   "execution_count": 19,
   "metadata": {},
   "outputs": [],
   "source": [
    "if update_personal_data:\n",
    "        \n",
    "    # Adiciona Coleções de Dados, quantas desejar\n",
    "    nome_da_colecao = \"Pessoal\"\n",
    "\n",
    "    Personal_Collection.create_collection(\n",
    "        collection_name   = nome_da_colecao,\n",
    "        table_common_name = \"Dados de agendamento\",\n",
    "        curator           = \"eu\",\n",
    "        description       = \"meus documentos sobre requisições e agendamentos\",\n",
    "        gpt_instructions  = \"sem relacionamentos\"\n",
    "        )\n",
    "\n",
    "    file = r\"C:\\Users\\zcfv\\OneDrive - PETROBRAS\\Desktop\\MEST_CIEN_COMPUT_031_2023_retif.pdf\"\n",
    "\n",
    "    Personal_Collection.upload_document(\n",
    "        collection_name     = nome_da_colecao,\n",
    "        conflict_option     = \"ignore\",\n",
    "        file_path           = file,\n",
    "        read_file_class     = read_file, # Usa a classe read files da pasta READERS\n",
    "        llm_client          = BaseAgent.llm,\n",
    "        words_per_chunk     = 200,\n",
    "        overlap             = 15,\n",
    "        metadata_dictionary = {}\n",
    "        )"
   ]
  },
  {
   "cell_type": "code",
   "execution_count": 20,
   "metadata": {},
   "outputs": [],
   "source": [
    "personal_knowledge_agent = KnowledgeBaseAgent(\n",
    "    agent_name = personal_knowledge_agent_name,\n",
    "    work_instance = agent_work,\n",
    "    KnowledgeBase = None,\n",
    "    k = 5,\n",
    "    human_in_the_loop = False,\n",
    "    allow_direct_response = True,\n",
    "#   next_agent_list = ['colocar o nome dos agentes']  por padrão esse agente não delega tarefa para nenhum outro agente    \n",
    ")"
   ]
  },
  {
   "cell_type": "markdown",
   "metadata": {},
   "source": [
    "#### Personal_Analytics"
   ]
  },
  {
   "cell_type": "code",
   "execution_count": 21,
   "metadata": {},
   "outputs": [],
   "source": [
    "config_json = local_path(\"config_json_personal\", \"config_personal_datasources.json\")\n",
    "db_path     = local_path('data_base', \"zdb_personal_datasources.db\")"
   ]
  },
  {
   "cell_type": "code",
   "execution_count": 22,
   "metadata": {},
   "outputs": [
    {
     "name": "stdout",
     "output_type": "stream",
     "text": [
      "exists\n"
     ]
    }
   ],
   "source": [
    "# Apenas necessário se ainda não existir config_file (se ja existir, esse comando será automaticamente ignorado)\n",
    "DatabaseManager_SQLite.create_config_file(config_json =config_json, db_path=db_path)\n",
    "\n",
    "# Cria instância para a classe PersonalCollection\n",
    "dataanalytics_local = DatabaseManager_SQLite(config_json = config_json)"
   ]
  },
  {
   "cell_type": "code",
   "execution_count": 23,
   "metadata": {},
   "outputs": [],
   "source": [
    "if update_personal_data:\n",
    "    # Adiciona Coleções de Dados, quantas desejar\n",
    "    nome_da_colecao = \"sisrend\"\n",
    "        \n",
    "    dataanalytics_local.add_datasource(\n",
    "        data_source         = nome_da_colecao,\n",
    "        process_description = \"Análise dos lançamentos de arrendamento mercantil (IFRS 16)\",\n",
    "        relationships       = \"\"\n",
    "    )\n",
    "\n",
    "    # Fazer o upload do arquivo (subistitui se table_name já existir no data_source)\n",
    "    dataanalytics_local.load_csv_to_table(\n",
    "        data_source         = nome_da_colecao,\n",
    "        table_name          = \"razão\",\n",
    "        conflict_option     = \"replace\",\n",
    "        file_path           = r\"upload_files/sisrend/202201.csv\",\n",
    "        column_type         = {\"Data de lançamento\": \"DATE\"}\n",
    "    )\n",
    "\n",
    "    # Fazer o upload do arquivo (subistitui se table_name já existir no data_source)\n",
    "    dataanalytics_local.load_csv_to_table(\n",
    "        data_source         = nome_da_colecao,\n",
    "        table_name          = \"razão\",\n",
    "        conflict_option     = \"append\",\n",
    "        file_path           = r\"upload_files\\sisrend\\202202.csv\",\n",
    "    )\n",
    "    \n",
    "    # # Adiciona Coleções de Dados, quantas desejar\n",
    "    # nome_da_colecao = \"CKM3\"\n",
    "        \n",
    "    # dataanalytics_local.add_datasource(\n",
    "    #     data_source         = nome_da_colecao,\n",
    "    #     process_description = \"Análise do estoque de produtos utilizando os dados da movimentação de estoque obtidos pela transação CKM3\",\n",
    "    #     relationships       = \"\"\n",
    "    # )\n",
    "\n",
    "    # # Fazer o upload do arquivo (subistitui se table_name já existir no data_source)\n",
    "    # table_name = \"\"\n",
    "    # if table_name == \"\":\n",
    "    #     table_name=None\n",
    "    # file = \"upload_files\\CKM3_tdv_042024.csv\"\n",
    "\n",
    "    # csv_file = open(file, \"rb\")\n",
    "    # csv_file = {\n",
    "    #         'file_content': csv_file.read(),\n",
    "    #         'file_name': \"CKM3_tdv_042024.csv\"\n",
    "    #     }\n",
    "    # dataanalytics_local.load_csv_to_table(\n",
    "    #     data_source         = nome_da_colecao,\n",
    "    #     # conflict_option     = \"ignore\",\n",
    "    #     csv_file            = csv_file,\n",
    "    #     # file_path           = file,\n",
    "    #     table_name          = table_name,\n",
    "    #     # column_type         = { # Apenas se for necessário forçar o tipo de dados das colunas\n",
    "    #     #     \"Metade do valor (Moeda 10)\": \"float64\"\n",
    "    #     # }\n",
    "    # )"
   ]
  },
  {
   "cell_type": "code",
   "execution_count": 24,
   "metadata": {},
   "outputs": [],
   "source": [
    "personal_analytics_agent = DatabaseExpertAgent(\n",
    "    agent_name            = personal_analytics_agent_name,\n",
    "    work_instance = agent_work,\n",
    "    database_manager      = dataanalytics_local,\n",
    "    human_in_the_loop     = False,\n",
    "    allow_direct_response = True,\n",
    "#   next_agent_list = ['colocar o nome dos agentes']  por padrão esse agente não delega tarefa para nenhum outro agente    \n",
    ")"
   ]
  },
  {
   "cell_type": "markdown",
   "metadata": {},
   "source": [
    "## Chat"
   ]
  },
  {
   "cell_type": "code",
   "execution_count": 29,
   "metadata": {},
   "outputs": [],
   "source": [
    "agent_work.chat_mode = False"
   ]
  },
  {
   "cell_type": "code",
   "execution_count": 27,
   "metadata": {},
   "outputs": [
    {
     "name": "stdout",
     "output_type": "stream",
     "text": [
      "BaseAgent: crew_work\n",
      "08e02f13-af91-433a-8c42-9e8c8d96e958\n",
      "\u001b[4m\u001b[1m\u001b[34mBaseAgent: Agent: CHAT ANALISTA\n",
      "\u001b[0m\n",
      "llmClient_AzureOpenAI: message to llm: [{'role': 'system', 'content': '{\\n  \"agent_description\": {\\n    \"agent_name\": \"Chat Analista\",\\n    \"collection\": [],\\n    \"background\": [\\n      \"Seu conhecimento está limitado a um período no tempo, quando você parou de ser treinado.\",\\n      \"Por esse motivo, perguntas que envolvam dados atuais nunca devem ser respondidas com base no seu conhecimento.\",\\n      \"Além disso, seu conhecimento não comtempla as informações internas, conhecida por outros agentes.\"\\n    ],\\n    \"goal\": [\\n      \"Responda diretamente perguntas simples de saudações.\",\\n      \"De preferencia para respostas que se baseiem no conhecimento interno, que são dominio de outros agentes.\",\\n      \"Não sendo o caso, avalie se é necessário o uso de alguma ferramenta ou se deve passar logo a tarefa para outro agente.\",\\n      \"Quando usar uma ferramenta, não mencione que ela foi usada, apenas use a resposta para responder ao usuário.\"\\n    ]\\n  },\\n  \"response_parameters\": {\\n    \"instructions\": [\\n      \"Output must be in strict JSON format on a single line without any line breaks or additional text, or use \\\\\\\\n to break lines.\",\\n      \"Do not include explanations, formatting, or markers (e.g., `json` markers).\",\\n      \"Use valid JSON syntax with correctly escaped characters, especially quotes and control characters, to avoid decoding errors.\",\\n      \"Pay attention that \",\\n      \"Your response must be a dictionary with the folowwing keys and use instructions:\",\\n      \"\\'tool\\' and \\'input\\'\"\\n    ],\\n    \"tool\": [\\n      \"Select one tool from the list below.\",\\n      \"Return only the exact tool name from the list.\"\\n    ],\\n    \"input\": [\\n      \"Define the input parameters for the chosen tool.\",\\n      \"Adjust the input based on the tool\\'s description.\",\\n      \"The input can be a dictionary, string, or list, depending on the tool.\",\\n      \"Output must be in strict JSON format on a single line without any line breaks or additional text, or use \\\\\\\\n to break lines.\",\\n      \"Do not include explanations, formatting, or markers (e.g., `json` markers).\",\\n      \"Use valid JSON syntax with correctly escaped characters, especially quotes and control characters, to avoid decoding errors.\",\\n      \"Pay attention that \"\\n    ],\\n    \"tools_options\": {\\n      \"direct_anwser\": \"\\\\n        input:\\\\n            query_input: The exact question from the user, in natural language only.\\\\n        description:\\\\n            If you cam respond directly or another agent may have a better answer.\\\\n        details:\\\\n            - \\\\n        \",\\n      \"remake_user_question\": \"\\\\n        input:\\\\n            query_input: The exact question from the user, in natural language only.\\\\n            motivation: the reason why it must be remake.\\\\n        description:\\\\n            Essa função usa a llm para recriar a pergunta do usuario ajustando termos vagos.\\\\n            São usadas as conversas prévias para reformular a pergunta do usuário para que ela fique completa.\\\\n        details:\\\\n            - \\\\n        \",\\n      \"by_code\": \"\\\\n        Usado para tarefas que precisem de informações do computados, como hora atual, data, agenda, logs...\\\\n        :param inputs: The inputs to the function as a dictionary or a JSON string.\\\\n            :param code: The code to run.\\\\n            :param variable_to_return: The variable to return.\\\\n            :return: value of `variable_to_return` if successful, otherwise returns an error message.\\\\n        \",\\n      \"prompt_update\": \"\\\\n        input:\\\\n            json_dict: The json dictionary passed by the user that can be parsed into json.loads().\\\\n        description:\\\\n            If user asks for an update on agent prompts, get the JSON dictionary to update agents\\' background and goals.\\\\n        details:\\\\n            - input only a dictionary that can be parsed into json.loads().\\\\n            - The spected dictionat to use has the following format:\\\\n                {\\'json_dict\\': {\\'agent name\\':{\\'bacjgraund\\': list os string with prompt, \\'goal\\': list os string with prompt}}}\\\\n            - May are multiple agents and may are only background or goal.\\\\n            - If nessassary, ajust the user question to the expected format\\\\n                        \\\\n        \",\\n      \"agent_info\": \"\\\\n        input:\\\\n            agent_name: str as agent name on availavles agent list\\\\n            agent_info: list as the info availables possibilities.\\\\n        description:\\\\n            If user asks for agent info. Take the agent name provided and the info requared\\\\n        details:\\\\n            - The info availables are:\\\\n                - backgroung\\\\n                - goal\\\\n        \"\\n    }\\n  }\\n}'}, {'role': 'assistant', 'content': '{\\n  \"previous_chat_iteration\": {\\n    \"explanation\": [\\n      \"This is a recent chat history between the crew and the user.\",\\n      \"Below are the last 10 user questions and crew responses, listed from the most recent to the oldest.\",\\n      \"Use this information to gain context and insights to better complete your task.\"\\n    ],\\n    \"crew_conversation\": [\\n      {\\n        \"query_input\": \"bom dia, me chamo marcos\",\\n        \"answer\": \"Bom dia, Marcos! Como posso ajudar você hoje?\"\\n      }\\n    ]\\n  }\\n}', 'context': {'intent': ''}}, {'role': 'user', 'content': '{\\n  \"user_input\": \"bom dia, me chamo marcos\",\\n  \"complement from previous agent\": {\\n    \"agent_name\": null\\n  }\\n}'}]\n",
      "llmClient_AzureOpenAI: response_json: {'choices': [{'content_filter_results': {'hate': {'filtered': False, 'severity': 'safe'}, 'self_harm': {'filtered': False, 'severity': 'safe'}, 'sexual': {'filtered': False, 'severity': 'safe'}, 'violence': {'filtered': False, 'severity': 'safe'}}, 'finish_reason': 'stop', 'index': 0, 'logprobs': None, 'message': {'content': '{\\n  \"tool\": \"direct_anwser\",\\n  \"input\": {\\n    \"query_input\": \"bom dia, me chamo marcos\"\\n  }\\n}', 'role': 'assistant'}}], 'created': 1740502176, 'id': 'chatcmpl-B4sPgmhHnf7vm4Vr1BEZ7HhfDvTJm', 'model': 'gpt-4o-2024-05-13', 'object': 'chat.completion', 'prompt_filter_results': [{'prompt_index': 0, 'content_filter_results': {'hate': {'filtered': False, 'severity': 'safe'}, 'self_harm': {'filtered': False, 'severity': 'safe'}, 'sexual': {'filtered': False, 'severity': 'safe'}, 'violence': {'filtered': False, 'severity': 'safe'}}}], 'system_fingerprint': 'fp_65792305e4', 'usage': {'completion_tokens': 34, 'prompt_tokens': 1148, 'total_tokens': 1182}}\n",
      "llmClient_AzureOpenAI: response_json 2: {\n",
      "  \"tool\": \"direct_anwser\",\n",
      "  \"input\": {\n",
      "    \"query_input\": \"bom dia, me chamo marcos\"\n",
      "  }\n",
      "}\n",
      "BaseAgent:     Executando tool: direct_anwser\n",
      "\u001b[0m\n",
      "BaseAgent:     tool param: {'query_input': 'bom dia, me chamo marcos'}\n",
      "\u001b[0m\n",
      "llmClient_AzureOpenAI: message to llm: [{'role': 'system', 'content': '{\\n  \"agent_description\": {\\n    \"agent_name\": \"Chat Analista\",\\n    \"collection\": [],\\n    \"background\": [\\n      \"Seu conhecimento está limitado a um período no tempo, quando você parou de ser treinado.\",\\n      \"Por esse motivo, perguntas que envolvam dados atuais nunca devem ser respondidas com base no seu conhecimento.\",\\n      \"Além disso, seu conhecimento não comtempla as informações internas, conhecida por outros agentes.\"\\n    ],\\n    \"goal\": [\\n      \"Responda diretamente perguntas simples de saudações.\",\\n      \"De preferencia para respostas que se baseiem no conhecimento interno, que são dominio de outros agentes.\",\\n      \"Não sendo o caso, avalie se é necessário o uso de alguma ferramenta ou se deve passar logo a tarefa para outro agente.\",\\n      \"Quando usar uma ferramenta, não mencione que ela foi usada, apenas use a resposta para responder ao usuário.\"\\n    ]\\n  },\\n  \"response_parameters\": {\\n    \"instructions\": [\\n      \"Output must be in strict JSON format on a single line without any line breaks or additional text, or use \\\\\\\\n to break lines.\",\\n      \"Do not include explanations, formatting, or markers (e.g., `json` markers).\",\\n      \"Use valid JSON syntax with correctly escaped characters, especially quotes and control characters, to avoid decoding errors.\",\\n      \"Pay attention that \",\\n      \"Your response must be a dictionary with the folowwing keys and use instructions:\",\\n      \"\\'answer\\'\",\\n      \"and \\'next_agent\\'\",\\n      null\\n    ],\\n    \"answer\": [\\n      \"Always stick to your goals, defined on your description, when retriving responses.\",\\n      \"Give relevant details, especially mentioning key elements related to the context.\",\\n      \"Always consider the user\\'s input and the provided context, if available.\",\\n      \"Your answer may be a direct response or a task you are dalegating to another agent\"\\n    ],\\n    \"next_agent\": [\\n      \"Select one agent from the dictionary below.\",\\n      \"Return only the exact agent name from the list.\",\\n      \"Direct response allowed: You may respond directly to the user without involving other agents. In that case, use agent=None\",\\n      {\\n        \"next_agent_options\": {\\n          \"Chat Analista\": {\\n            \"collection\": [],\\n            \"background\": [\\n              \"Seu conhecimento está limitado a um período no tempo, quando você parou de ser treinado.\",\\n              \"Por esse motivo, perguntas que envolvam dados atuais nunca devem ser respondidas com base no seu conhecimento.\",\\n              \"Além disso, seu conhecimento não comtempla as informações internas, conhecida por outros agentes.\"\\n            ],\\n            \"goal\": [\\n              \"Responda diretamente perguntas simples de saudações.\",\\n              \"De preferencia para respostas que se baseiem no conhecimento interno, que são dominio de outros agentes.\",\\n              \"Não sendo o caso, avalie se é necessário o uso de alguma ferramenta ou se deve passar logo a tarefa para outro agente.\",\\n              \"Quando usar uma ferramenta, não mencione que ela foi usada, apenas use a resposta para responder ao usuário.\"\\n            ]\\n          },\\n          \"Documentos Databricks\": {\\n            \"collection\": [\\n              \"You are highly knowledgeable about the company\\'s internal documentation, covering the following topics: {\\\\n  \\\\\"intimacoes_sefaz_rj\\\\\": \\\\\"{\\\\\\\\n  \\\\\\\\\\\\\"table_common_name\\\\\\\\\\\\\": \\\\\\\\\\\\\"Intima\\\\\\\\u00e7\\\\\\\\u00f5es SEFAZ RJ - PGOV\\\\\\\\\\\\\",\\\\\\\\n  \\\\\\\\\\\\\"curator\\\\\\\\\\\\\": \\\\\\\\\\\\\"TRIBUTARIO\\\\\\\\\\\\\",\\\\\\\\n  \\\\\\\\\\\\\"table_description\\\\\\\\\\\\\": \\\\\\\\\\\\\"Base de arquivos relacionados as intima\\\\\\\\u00e7\\\\\\\\u00f5es do PGOV feitas pela SEFAZ-RJ\\\\\\\\\\\\\",\\\\\\\\n  \\\\\\\\\\\\\"text_normalize_function\\\\\\\\\\\\\": \\\\\\\\\\\\\"adjust_text_to_filter_field = lambda v: (\\\\\\\\n    datetime.strptime(v, \\'%d/%m/%Y\\').strftime(\\'%Y-%m-%d\\')  # Se for uma data, formata para yyyy-mm-dd\\\\\\\\n    if isinstance(v, str) and re.fullmatch(r\\'\\\\\\\\\\\\\\\\d{2}/\\\\\\\\\\\\\\\\d{2}/\\\\\\\\\\\\\\\\d{4}\\', v) else\\\\\\\\n    v  # Mant\\\\\\\\u00e9m inteiros, floats e booleanos como est\\\\\\\\u00e3o\\\\\\\\n    if isinstance(v, (int, float, bool)) else\\\\\\\\n    re.sub(r\\'[^a-zA-Z0-9\\\\\\\\\\\\\\\\s]\\', \\'\\', re.sub(r\\'\\\\\\\\\\\\\\\\s+\\', \\' \\', html.unescape(v.replace(\\'\\\\\\\\\\\\\\\\n\\', \\' \\').replace(\\'\\\\\\\\\\\\\\\\r\\', \\'\\').lower()))).strip()\\\\\\\\n    if isinstance(v, str) else\\\\\\\\n    v\\\\\\\\n)\\\\\\\\\\\\\",\\\\\\\\n  \\\\\\\\\\\\\"gpt_instructions\\\\\\\\\\\\\": \\\\\\\\\\\\\"O conhecimento necess\\\\\\\\u00e1rio para responder a uma pergunta pode n\\\\\\\\u00e3o estar relacionado nessa base. N\\\\\\\\u00e3o invente respostas alertando que a pergunta est\\\\\\\\u00e1 fora do contexto da base.\\\\\\\\\\\\\"\\\\\\\\n}\\\\\",\\\\n  \\\\\"normas_contabeis\\\\\": \\\\\"{\\\\\\\\n  \\\\\\\\\\\\\"table_common_name\\\\\\\\\\\\\": \\\\\\\\\\\\\"Manuais de Normas Cont\\\\\\\\u00e1beis\\\\\\\\\\\\\",\\\\\\\\n  \\\\\\\\\\\\\"curator\\\\\\\\\\\\\": \\\\\\\\\\\\\"CONTABILIDADE/PPC/NC\\\\\\\\\\\\\",\\\\\\\\n  \\\\\\\\\\\\\"table_description\\\\\\\\\\\\\": \\\\\\\\\\\\\"Base de arquivos relacionados as instru\\\\\\\\u00e7\\\\\\\\u00f5es e normativos cont\\\\\\\\u00e1beis, como o guia de normas cont\\\\\\\\u00e1beis desenvolvido dentro da Petrobras e outros guias de orienta\\\\\\\\u00e7\\\\\\\\u00e3o elaborados pelas empresas de auditoria\\\\\\\\\\\\\",\\\\\\\\n  \\\\\\\\\\\\\"text_normalize_function\\\\\\\\\\\\\": \\\\\\\\\\\\\"adjust_text_to_filter_field = lambda v: (\\\\\\\\n    datetime.strptime(v, \\'%d/%m/%Y\\').strftime(\\'%Y-%m-%d\\')  # Se for uma data, formata para yyyy-mm-dd\\\\\\\\n    if isinstance(v, str) and re.fullmatch(r\\'\\\\\\\\\\\\\\\\d{2}/\\\\\\\\\\\\\\\\d{2}/\\\\\\\\\\\\\\\\d{4}\\', v) else\\\\\\\\n    v  # Mant\\\\\\\\u00e9m inteiros, floats e booleanos como est\\\\\\\\u00e3o\\\\\\\\n    if isinstance(v, (int, float, bool)) else\\\\\\\\n    re.sub(r\\'[^a-zA-Z0-9\\\\\\\\\\\\\\\\s]\\', \\'\\', re.sub(r\\'\\\\\\\\\\\\\\\\s+\\', \\' \\', html.unescape(v.replace(\\'\\\\\\\\\\\\\\\\n\\', \\' \\').replace(\\'\\\\\\\\\\\\\\\\r\\', \\'\\').lower()))).strip()\\\\\\\\n    if isinstance(v, str) else\\\\\\\\n    v\\\\\\\\n)\\\\\\\\\\\\\",\\\\\\\\n  \\\\\\\\\\\\\"gpt_instructions\\\\\\\\\\\\\": \\\\\\\\\\\\\"O conhecimento necess\\\\\\\\u00e1rio para responder a uma pergunta pode n\\\\\\\\u00e3o estar relacionado nessa base. N\\\\\\\\u00e3o invente respostas alertando que a pergunta est\\\\\\\\u00e1 fora do contexto da base.\\\\\\\\\\\\\"\\\\\\\\n}\\\\\"\\\\n}.\"\\n            ],\\n            \"background\": [\\n              \"Your role involves performing various tasks related to document retrieval, summarization, and data analysis based on user queries.\",\\n              \"You are capable of retrieving relevant chunks of text from documents to answer specific questions (RAG).\",\\n              \"You can summarize or develop a broad understanding of entire documents when needed, providing detailed explanations or overviews.\",\\n              \"You can search and list documents relevant to user queries, similar to a search engine.\",\\n              \"Additionally, you are able to perform data analysis tasks, such as counting, grouping, and listing information, and return this as either structured data or natural language.\",\\n              \"For all those tasks, you have to use one of the available tools, if any\",\\n              \"Avoid delegating tasks that you can execute directly. Responses should always be based on the content of documents and data, without assumptions or fabricated information.\"\\n            ],\\n            \"goal\": [\\n              \"For specific user questions, retrieve relevant document fragments to provide accurate and context-based answers.\",\\n              \"For broader questions, provide summaries or detailed explanations of entire documents.\",\\n              \"If the user is searching for documents, return a relevant list of documents based on the query.\",\\n              \"For questions focused on data analysis, provide accurate counts, groupings, or other structured data as needed.\",\\n              \"Ensure that your responses are fully based in the documents and data, avoiding assumptions or fabrications.\"\\n            ]\\n          },\\n          \"Analytics Databricks\": {\\n            \"collection\": [\\n              \"You have access to the following database structures: {\\\\n  \\\\\"intimacoes_sefaz_rj_pgov_gastos\\\\\": \\\\\"Rateio de gastos auditados pela SEFAZ-RJ relacionados \\\\\\\\u00e0s participa\\\\\\\\u00e7\\\\\\\\u00f5es governamentais\\\\\",\\\\n  \\\\\"Estoque_Produtos\\\\\": \\\\\"An\\\\\\\\u00e1lise das contas de estoques de produtos registradas na transa\\\\\\\\u00e7\\\\\\\\u00e3o CKM3 para montagem do custeio e outras an\\\\\\\\u00e1lises relacionadas.\\\\\"\\\\n}.\"\\n            ],\\n            \"background\": [\\n              \"You are an expert in structured database querying, capable of analyzing complex database schemas.\",\\n              \"Your primary task is to analyze the resulting table based on the user\\'s request, focusing on insights, trends, or summaries derived from the queried data.\",\\n              \"The SQL generation is an intermediate step solely to retrieve the necessary data for analysis.\",\\n              \"You should also handle real-time data queries, leveraging relational mappings, views, and indexes for performance optimization.\",\\n              \"You can manage complex JOIN operations, subqueries, window functions, and nested queries as needed to support data retrieval.\"\\n            ],\\n            \"goal\": [\\n              \"To must answer or delegate only after you run a tool.\",\\n              \"After run a tool, with the relevant context given, anwser the task using this context\",\\n              \"Always refer to the documentation to confirm that fields and values used in the query align with documented standards and definitions.\",\\n              \"Analyze the resulting table and give a summary based on the query results.\",\\n              \"Return a plesant and well formated response.\",\\n              \"If the user explicitly requests only the SQL query, return just the query without additional analyses.\"\\n            ]\\n          }\\n        }\\n      }\\n    ]\\n  }\\n}'}, {'role': 'assistant', 'content': '{\\n  \"tool_result\": {\\n    \"explanaion\": [\\n      \"That is the tool\\'s response context resulted after you run a tool to respond your task\"\\n    ],\\n    \"result\": \"bom dia, me chamo marcos\"\\n  },\\n  \"previous_chat_iteration\": {\\n    \"explanation\": [\\n      \"This is a recent chat history between the crew and the user.\",\\n      \"Below are the last 10 user questions and crew responses, listed from the most recent to the oldest.\",\\n      \"Use this information to gain context and insights to better complete your task.\"\\n    ],\\n    \"crew_conversation\": [\\n      {\\n        \"query_input\": \"bom dia, me chamo marcos\",\\n        \"answer\": \"Bom dia, Marcos! Como posso ajudar você hoje?\"\\n      }\\n    ]\\n  }\\n}', 'context': {'intent': ''}}, {'role': 'user', 'content': '{\\n  \"user_input\": \"bom dia, me chamo marcos\",\\n  \"complement from previous agent\": {\\n    \"agent_name\": null\\n  }\\n}'}]\n",
      "llmClient_AzureOpenAI: response_json: {'choices': [{'content_filter_results': {'hate': {'filtered': False, 'severity': 'safe'}, 'self_harm': {'filtered': False, 'severity': 'safe'}, 'sexual': {'filtered': False, 'severity': 'safe'}, 'violence': {'filtered': False, 'severity': 'safe'}}, 'finish_reason': 'stop', 'index': 0, 'logprobs': None, 'message': {'content': '{\\n  \"answer\": \"Bom dia, Marcos! Como posso ajudar você hoje?\",\\n  \"next_agent\": null\\n}', 'role': 'assistant'}}], 'created': 1740502177, 'id': 'chatcmpl-B4sPhP3X5M7blnlk4nvAdFs4Bh4m7', 'model': 'gpt-4o-2024-05-13', 'object': 'chat.completion', 'prompt_filter_results': [{'prompt_index': 0, 'content_filter_results': {'hate': {'filtered': False, 'severity': 'safe'}, 'self_harm': {'filtered': False, 'severity': 'safe'}, 'sexual': {'filtered': False, 'severity': 'safe'}, 'violence': {'filtered': False, 'severity': 'safe'}}}], 'system_fingerprint': 'fp_65792305e4', 'usage': {'completion_tokens': 25, 'prompt_tokens': 2362, 'total_tokens': 2387}}\n",
      "llmClient_AzureOpenAI: response_json 2: {\n",
      "  \"answer\": \"Bom dia, Marcos! Como posso ajudar você hoje?\",\n",
      "  \"next_agent\": null\n",
      "}\n",
      "\u001b[1mBaseAgent: answer: Bom dia, Marcos! Como posso ajudar você hoje?\n",
      "\u001b[0m\n"
     ]
    }
   ],
   "source": [
    "agent_work.crew_work(\"bom dia, me chamo marcos\")"
   ]
  },
  {
   "cell_type": "code",
   "execution_count": null,
   "metadata": {},
   "outputs": [
    {
     "name": "stdout",
     "output_type": "stream",
     "text": [
      "crew_work\n"
     ]
    },
    {
     "name": "stderr",
     "output_type": "stream",
     "text": [
      "PythonTools can run arbitrary code, please provide human supervision.\n"
     ]
    }
   ],
   "source": [
    "agent_work.crew_work(\"que horas são?\")"
   ]
  },
  {
   "cell_type": "code",
   "execution_count": 32,
   "metadata": {},
   "outputs": [
    {
     "name": "stdout",
     "output_type": "stream",
     "text": [
      "crew_work\n",
      "\u001b[4m\u001b[1m\u001b[34mAgent: CHAT ANALISTA\n",
      "\u001b[0m\n",
      "    Executando tool: direct_anwser\n",
      "\u001b[0m\n",
      "    tool: {'query_input': 'Bom dia'}\n",
      "\u001b[0m\n",
      "\u001b[1manswer: Bom dia\n",
      "\u001b[0m\n"
     ]
    }
   ],
   "source": [
    "BaseAgent.crew_work(\"qual o meu nome\")"
   ]
  },
  {
   "cell_type": "code",
   "execution_count": null,
   "metadata": {},
   "outputs": [
    {
     "name": "stdout",
     "output_type": "stream",
     "text": [
      "\u001b[4m\u001b[1m\u001b[34mAgent: CHAT ANALISTA\n",
      "\u001b[0m\n",
      "    Executando tool: direct_anwser\n",
      "\u001b[0m\n",
      "    tool: {'query_input': 'qual o meu nome'}\n",
      "\u001b[0m\n",
      "\u001b[1manswer: Seu nome é Marcos.\n",
      "\u001b[0m\n"
     ]
    }
   ],
   "source": [
    "BaseAgent.crew_work(\"qual o meu nome\")"
   ]
  },
  {
   "cell_type": "code",
   "execution_count": null,
   "metadata": {},
   "outputs": [
    {
     "data": {
      "text/plain": [
       "'b45ed62c-b6e9-4d2a-86eb-5953075ac221'"
      ]
     },
     "execution_count": 34,
     "metadata": {},
     "output_type": "execute_result"
    }
   ],
   "source": [
    "BaseAgent.chat_memory.chat_id"
   ]
  },
  {
   "cell_type": "code",
   "execution_count": 12,
   "metadata": {},
   "outputs": [
    {
     "name": "stdout",
     "output_type": "stream",
     "text": [
      "BaseAgent: crew_work\n",
      "fb600e59-fe06-4c86-a3a3-d0cf69b7804e\n",
      "\u001b[4m\u001b[1m\u001b[34mBaseAgent: Agent: CHAT ANALISTA\n",
      "\u001b[0m\n",
      "llmClient_AzureOpenAI: message to llm: [{'role': 'system', 'content': '{\\n  \"agent_description\": {\\n    \"agent_name\": \"Chat Analista\",\\n    \"collection\": [],\\n    \"background\": [\\n      \"Seu conhecimento está limitado a um período no tempo, quando você parou de ser treinado.\",\\n      \"Por esse motivo, perguntas que envolvam dados atuais nunca devem ser respondidas com base no seu conhecimento.\",\\n      \"Além disso, seu conhecimento não comtempla as informações internas, conhecida por outros agentes.\"\\n    ],\\n    \"goal\": [\\n      \"Responda diretamente perguntas simples de saudações.\",\\n      \"De preferencia para respostas que se baseiem no conhecimento interno, que são dominio de outros agentes.\",\\n      \"Não sendo o caso, avalie se é necessário o uso de alguma ferramenta ou se deve passar logo a tarefa para outro agente.\",\\n      \"Quando usar uma ferramenta, não mencione que ela foi usada, apenas use a resposta para responder ao usuário.\"\\n    ]\\n  },\\n  \"response_parameters\": {\\n    \"instructions\": [\\n      \"Output must be in strict JSON format on a single line without any line breaks or additional text, or use \\\\\\\\n to break lines.\",\\n      \"Do not include explanations, formatting, or markers (e.g., `json` markers).\",\\n      \"Use valid JSON syntax with correctly escaped characters, especially quotes and control characters, to avoid decoding errors.\",\\n      \"Pay attention that \",\\n      \"Your response must be a dictionary with the folowwing keys and use instructions:\",\\n      \"\\'tool\\' and \\'input\\'\"\\n    ],\\n    \"tool\": [\\n      \"Select one tool from the list below.\",\\n      \"Return only the exact tool name from the list.\"\\n    ],\\n    \"input\": [\\n      \"Define the input parameters for the chosen tool.\",\\n      \"Adjust the input based on the tool\\'s description.\",\\n      \"The input can be a dictionary, string, or list, depending on the tool.\",\\n      \"Output must be in strict JSON format on a single line without any line breaks or additional text, or use \\\\\\\\n to break lines.\",\\n      \"Do not include explanations, formatting, or markers (e.g., `json` markers).\",\\n      \"Use valid JSON syntax with correctly escaped characters, especially quotes and control characters, to avoid decoding errors.\",\\n      \"Pay attention that \"\\n    ],\\n    \"tools_options\": {\\n      \"direct_anwser\": \"\\\\n        input:\\\\n            query_input: The exact question from the user, in natural language only.\\\\n        description:\\\\n            If you cam respond directly or another agent may have a better answer.\\\\n        details:\\\\n            - \\\\n        \",\\n      \"remake_user_question\": \"\\\\n        input:\\\\n            query_input: The exact question from the user, in natural language only.\\\\n            motivation: the reason why it must be remake.\\\\n        description:\\\\n            Essa função usa a llm para recriar a pergunta do usuario ajustando termos vagos.\\\\n            São usadas as conversas prévias para reformular a pergunta do usuário para que ela fique completa.\\\\n        details:\\\\n            - \\\\n        \",\\n      \"by_code\": \"\\\\n        Usado para tarefas que precisem de informações do computados, como hora atual, data, agenda, logs...\\\\n        :param inputs: The inputs to the function as a dictionary or a JSON string.\\\\n            :param code: The code to run.\\\\n            :param variable_to_return: The variable to return.\\\\n            :return: value of `variable_to_return` if successful, otherwise returns an error message.\\\\n        \",\\n      \"prompt_update\": \"\\\\n        input:\\\\n            json_dict: The json dictionary passed by the user that can be parsed into json.loads().\\\\n        description:\\\\n            If user asks for an update on agent prompts, get the JSON dictionary to update agents\\' background and goals.\\\\n        details:\\\\n            - input only a dictionary that can be parsed into json.loads().\\\\n            - The spected dictionat to use has the following format:\\\\n                {\\'json_dict\\': {\\'agent name\\':{\\'bacjgraund\\': list os string with prompt, \\'goal\\': list os string with prompt}}}\\\\n            - May are multiple agents and may are only background or goal.\\\\n            - If nessassary, ajust the user question to the expected format\\\\n                        \\\\n        \",\\n      \"agent_info\": \"\\\\n        input:\\\\n            agent_name: str as agent name on availavles agent list\\\\n            agent_info: list as the info availables possibilities.\\\\n        description:\\\\n            If user asks for agent info. Take the agent name provided and the info requared\\\\n        details:\\\\n            - The info availables are:\\\\n                - backgroung\\\\n                - goal\\\\n        \"\\n    }\\n  }\\n}'}, {'role': 'assistant', 'content': '{\\n  \"previous_chat_iteration\": {\\n    \"explanation\": [\\n      \"This is a recent chat history between the crew and the user.\",\\n      \"Below are the last 10 user questions and crew responses, listed from the most recent to the oldest.\",\\n      \"Use this information to gain context and insights to better complete your task.\"\\n    ],\\n    \"crew_conversation\": []\\n  }\\n}', 'context': {'intent': ''}}, {'role': 'user', 'content': '{\\n  \"user_input\": \"\\\\no que foi respondido a intimaçãoes na RAF 55668100\\\\n\",\\n  \"complement from previous agent\": {\\n    \"agent_name\": null\\n  }\\n}'}]\n",
      "llmClient_AzureOpenAI: response_json: {'choices': [{'content_filter_results': {'hate': {'filtered': False, 'severity': 'safe'}, 'self_harm': {'filtered': False, 'severity': 'safe'}, 'sexual': {'filtered': False, 'severity': 'safe'}, 'violence': {'filtered': False, 'severity': 'safe'}}, 'finish_reason': 'stop', 'index': 0, 'logprobs': None, 'message': {'content': '{\\n  \"tool\": \"direct_anwser\",\\n  \"input\": {\\n    \"query_input\": \"o que foi respondido a intimaçãoes na RAF 55668100\"\\n  }\\n}', 'role': 'assistant'}}], 'created': 1740503470, 'id': 'chatcmpl-B4skY3iHtFZt1GIniL1AokRz88MNg', 'model': 'gpt-4o-2024-05-13', 'object': 'chat.completion', 'prompt_filter_results': [{'prompt_index': 0, 'content_filter_results': {'hate': {'filtered': False, 'severity': 'safe'}, 'self_harm': {'filtered': False, 'severity': 'safe'}, 'sexual': {'filtered': False, 'severity': 'safe'}, 'violence': {'filtered': False, 'severity': 'safe'}}}], 'system_fingerprint': 'fp_65792305e4', 'usage': {'completion_tokens': 42, 'prompt_tokens': 1120, 'total_tokens': 1162}}\n",
      "llmClient_AzureOpenAI: response_json 2: {\n",
      "  \"tool\": \"direct_anwser\",\n",
      "  \"input\": {\n",
      "    \"query_input\": \"o que foi respondido a intimaçãoes na RAF 55668100\"\n",
      "  }\n",
      "}\n",
      "BaseAgent:     Executando tool: direct_anwser\n",
      "\u001b[0m\n",
      "BaseAgent:     tool param: {'query_input': 'o que foi respondido a intimaçãoes na RAF 55668100'}\n",
      "\u001b[0m\n",
      "llmClient_AzureOpenAI: message to llm: [{'role': 'system', 'content': '{\\n  \"agent_description\": {\\n    \"agent_name\": \"Chat Analista\",\\n    \"collection\": [],\\n    \"background\": [\\n      \"Seu conhecimento está limitado a um período no tempo, quando você parou de ser treinado.\",\\n      \"Por esse motivo, perguntas que envolvam dados atuais nunca devem ser respondidas com base no seu conhecimento.\",\\n      \"Além disso, seu conhecimento não comtempla as informações internas, conhecida por outros agentes.\"\\n    ],\\n    \"goal\": [\\n      \"Responda diretamente perguntas simples de saudações.\",\\n      \"De preferencia para respostas que se baseiem no conhecimento interno, que são dominio de outros agentes.\",\\n      \"Não sendo o caso, avalie se é necessário o uso de alguma ferramenta ou se deve passar logo a tarefa para outro agente.\",\\n      \"Quando usar uma ferramenta, não mencione que ela foi usada, apenas use a resposta para responder ao usuário.\"\\n    ]\\n  },\\n  \"response_parameters\": {\\n    \"instructions\": [\\n      \"Output must be in strict JSON format on a single line without any line breaks or additional text, or use \\\\\\\\n to break lines.\",\\n      \"Do not include explanations, formatting, or markers (e.g., `json` markers).\",\\n      \"Use valid JSON syntax with correctly escaped characters, especially quotes and control characters, to avoid decoding errors.\",\\n      \"Pay attention that \",\\n      \"Your response must be a dictionary with the folowwing keys and use instructions:\",\\n      \"\\'answer\\'\",\\n      \"and \\'next_agent\\'\",\\n      null\\n    ],\\n    \"answer\": [\\n      \"Always stick to your goals, defined on your description, when retriving responses.\",\\n      \"Give relevant details, especially mentioning key elements related to the context.\",\\n      \"Always consider the user\\'s input and the provided context, if available.\",\\n      \"Your answer may be a direct response or a task you are dalegating to another agent\"\\n    ],\\n    \"next_agent\": [\\n      \"Select one agent from the dictionary below.\",\\n      \"Return only the exact agent name from the list.\",\\n      \"Direct response allowed: You may respond directly to the user without involving other agents. In that case, use agent=None\",\\n      {\\n        \"next_agent_options\": {\\n          \"Chat Analista\": {\\n            \"collection\": [],\\n            \"background\": [\\n              \"Seu conhecimento está limitado a um período no tempo, quando você parou de ser treinado.\",\\n              \"Por esse motivo, perguntas que envolvam dados atuais nunca devem ser respondidas com base no seu conhecimento.\",\\n              \"Além disso, seu conhecimento não comtempla as informações internas, conhecida por outros agentes.\"\\n            ],\\n            \"goal\": [\\n              \"Responda diretamente perguntas simples de saudações.\",\\n              \"De preferencia para respostas que se baseiem no conhecimento interno, que são dominio de outros agentes.\",\\n              \"Não sendo o caso, avalie se é necessário o uso de alguma ferramenta ou se deve passar logo a tarefa para outro agente.\",\\n              \"Quando usar uma ferramenta, não mencione que ela foi usada, apenas use a resposta para responder ao usuário.\"\\n            ]\\n          }\\n        }\\n      }\\n    ]\\n  }\\n}'}, {'role': 'assistant', 'content': '{\\n  \"tool_result\": {\\n    \"explanaion\": [\\n      \"That is the tool\\'s response context resulted after you run a tool to respond your task\"\\n    ],\\n    \"result\": \"o que foi respondido a intimaçãoes na RAF 55668100\"\\n  },\\n  \"previous_chat_iteration\": {\\n    \"explanation\": [\\n      \"This is a recent chat history between the crew and the user.\",\\n      \"Below are the last 10 user questions and crew responses, listed from the most recent to the oldest.\",\\n      \"Use this information to gain context and insights to better complete your task.\"\\n    ],\\n    \"crew_conversation\": []\\n  }\\n}', 'context': {'intent': ''}}, {'role': 'user', 'content': '{\\n  \"user_input\": \"\\\\no que foi respondido a intimaçãoes na RAF 55668100\\\\n\",\\n  \"complement from previous agent\": {\\n    \"agent_name\": null\\n  }\\n}'}]\n",
      "llmClient_AzureOpenAI: response_json: {'choices': [{'content_filter_results': {'hate': {'filtered': False, 'severity': 'safe'}, 'self_harm': {'filtered': False, 'severity': 'safe'}, 'sexual': {'filtered': False, 'severity': 'safe'}, 'violence': {'filtered': False, 'severity': 'safe'}}, 'finish_reason': 'stop', 'index': 0, 'logprobs': None, 'message': {'content': '{\\n  \"answer\": \"Para obter informações sobre a resposta às intimações na RAF 55668100, por favor, consulte o departamento responsável ou o sistema interno onde essas informações são registradas.\",\\n  \"next_agent\": null\\n}', 'role': 'assistant'}}], 'created': 1740503471, 'id': 'chatcmpl-B4skZjHVrd6nHV4cmFYk4UpfC6Ze2', 'model': 'gpt-4o-2024-05-13', 'object': 'chat.completion', 'prompt_filter_results': [{'prompt_index': 0, 'content_filter_results': {'hate': {'filtered': False, 'severity': 'safe'}, 'self_harm': {'filtered': False, 'severity': 'safe'}, 'sexual': {'filtered': False, 'severity': 'safe'}, 'violence': {'filtered': False, 'severity': 'safe'}}}], 'system_fingerprint': 'fp_65792305e4', 'usage': {'completion_tokens': 49, 'prompt_tokens': 837, 'total_tokens': 886}}\n",
      "llmClient_AzureOpenAI: response_json 2: {\n",
      "  \"answer\": \"Para obter informações sobre a resposta às intimações na RAF 55668100, por favor, consulte o departamento responsável ou o sistema interno onde essas informações são registradas.\",\n",
      "  \"next_agent\": null\n",
      "}\n",
      "\u001b[1mBaseAgent: answer: Para obter informações sobre a resposta às intimações na RAF 55668100, por favor, consulte o departamento responsável ou o sistema interno onde essas informações são registradas.\n",
      "\u001b[0m\n"
     ]
    }
   ],
   "source": [
    "agent_work.crew_work(\"\"\"\n",
    "o que foi respondido a intimaçãoes na RAF 55668100\n",
    "\"\"\")"
   ]
  },
  {
   "cell_type": "code",
   "execution_count": null,
   "metadata": {},
   "outputs": [
    {
     "name": "stdout",
     "output_type": "stream",
     "text": [
      "\u001b[4m\u001b[1m\u001b[34mAgent: CHAT ANALISTA\n",
      "\u001b[0m\n"
     ]
    },
    {
     "name": "stderr",
     "output_type": "stream",
     "text": [
      "PythonTools can run arbitrary code, please provide human supervision.\n"
     ]
    },
    {
     "name": "stdout",
     "output_type": "stream",
     "text": [
      "    Executando tool: by_code\n",
      "\u001b[0m\n",
      "    tool: {'code': \"from datetime import datetime\\ncurrent_time = datetime.now().strftime('%H:%M:%S')\", 'variable_to_return': 'current_time'}\n",
      "\u001b[0m\n",
      "\u001b[4m\u001b[1manswer: São 18:54:30.\n",
      "\u001b[0m\n"
     ]
    }
   ],
   "source": [
    "BaseAgent.crew_work(\"\"\"\n",
    "que horas são\n",
    "                    \"\"\")"
   ]
  },
  {
   "cell_type": "code",
   "execution_count": null,
   "metadata": {},
   "outputs": [
    {
     "name": "stdout",
     "output_type": "stream",
     "text": [
      "\u001b[4m\u001b[1m\u001b[32mCHAT ANALISTA\n",
      "\u001b[0m\n",
      "    Executando tool: remake_user_question\n",
      "    {'query_input': 'Escolha uma cidade para morar', 'motivation': 'A pergunta original estava incompleta e vaga.'}\n",
      "\n",
      "\u001b[1m\n",
      "answer: Para qual tipo de estilo de vida ou características você está procurando ao escolher uma cidade para morar?\n",
      "\u001b[0m\n"
     ]
    }
   ],
   "source": [
    "BaseAgent.crew_work(\"\"\"\n",
    "para morar\n",
    "                    \"\"\")"
   ]
  },
  {
   "cell_type": "code",
   "execution_count": null,
   "metadata": {},
   "outputs": [
    {
     "name": "stdout",
     "output_type": "stream",
     "text": [
      "\u001b[4m\u001b[1m\u001b[32mCHAT ANALISTA\n",
      "\u001b[0m\n",
      "    Executando tool: remake_user_question\n",
      "    {'query_input': 'com boa empregabilidade', 'motivation': 'A pergunta está vaga e precisa de mais contexto para fornecer uma resposta adequada.'}\n",
      "\n",
      "\u001b[1m\n",
      "answer: Para qual tipo de estilo de vida ou características você está procurando ao escolher uma cidade para morar com boa empregabilidade?\n",
      "\u001b[0m\n"
     ]
    }
   ],
   "source": [
    "BaseAgent.crew_work(\"\"\"\n",
    "com boa empregabilidade\n",
    "                    \"\"\")"
   ]
  },
  {
   "cell_type": "code",
   "execution_count": null,
   "metadata": {},
   "outputs": [
    {
     "name": "stdout",
     "output_type": "stream",
     "text": [
      "\u001b[4m\u001b[1m\u001b[32mCHAT ANALISTA\n",
      "\u001b[0m\n"
     ]
    },
    {
     "name": "stderr",
     "output_type": "stream",
     "text": [
      "PythonTools can run arbitrary code, please provide human supervision.\n"
     ]
    },
    {
     "name": "stdout",
     "output_type": "stream",
     "text": [
      "    Executando tool: by_code\n",
      "    {'code': \"from datetime import datetime\\ncurrent_time = datetime.now().strftime('%H:%M:%S')\", 'variable_to_return': 'current_time'}\n",
      "\n",
      "\u001b[1m\n",
      "answer: São 15:16:48.\n",
      "\u001b[0m\n"
     ]
    }
   ],
   "source": [
    "BaseAgent.crew_work(\"\"\"\n",
    "que horas sao\n",
    "                    \"\"\")"
   ]
  },
  {
   "cell_type": "code",
   "execution_count": null,
   "metadata": {},
   "outputs": [],
   "source": [
    "BaseAgent.crew_work(\"\"\"\n",
    "me diga 3 festas no rio de janeiro para ir na próxima sexta feira, hora e e local de cada uma\n",
    "                                        \"\"\")"
   ]
  },
  {
   "cell_type": "code",
   "execution_count": null,
   "metadata": {},
   "outputs": [],
   "source": [
    "BaseAgent.crew_work(\"\"\"\n",
    "quero uma lista com festas reais\n",
    "                                        \"\"\")"
   ]
  },
  {
   "cell_type": "markdown",
   "metadata": {},
   "source": [
    "## Testes"
   ]
  },
  {
   "cell_type": "code",
   "execution_count": 21,
   "metadata": {},
   "outputs": [
    {
     "data": {
      "text/plain": [
       "<Petrobras_AI_Agents.KNWLBASE.databricks.KnowledgeBaseManager_Databricks at 0x1b62f97ef10>"
      ]
     },
     "execution_count": 21,
     "metadata": {},
     "output_type": "execute_result"
    }
   ],
   "source": [
    "doc_manager_databricks"
   ]
  },
  {
   "cell_type": "code",
   "execution_count": 22,
   "metadata": {},
   "outputs": [
    {
     "data": {
      "text/plain": [
       "<Petrobras_AI_Agents.KNWLBASE.databricks.KnowledgeBaseManager_Databricks at 0x1b6012bce10>"
      ]
     },
     "execution_count": 22,
     "metadata": {},
     "output_type": "execute_result"
    }
   ],
   "source": [
    "copy.deepcopy(doc_manager_databricks)"
   ]
  },
  {
   "cell_type": "code",
   "execution_count": 20,
   "metadata": {},
   "outputs": [],
   "source": [
    "teste['a']=\"f\""
   ]
  },
  {
   "cell_type": "code",
   "execution_count": 17,
   "metadata": {},
   "outputs": [
    {
     "name": "stdout",
     "output_type": "stream",
     "text": [
      "<function databricks_connector_global at 0x000001B6330E4540>\n",
      "<function databricks_connector_global at 0x000001B6330E4540>\n"
     ]
    }
   ],
   "source": [
    "print(databricks_connector_global)\n",
    "teste = copy.deepcopy(databricks_connector_global)\n",
    "print(teste)"
   ]
  },
  {
   "cell_type": "code",
   "execution_count": null,
   "metadata": {},
   "outputs": [],
   "source": []
  },
  {
   "cell_type": "code",
   "execution_count": 25,
   "metadata": {},
   "outputs": [],
   "source": [
    "from Petrobras_AI_Agents import AppSessionManager_Postgres as AppSessionManager\n",
    "\n",
    "global_session_db = AppSessionManager(db_path=\"s10883_aplicacao:nMAEzdHlVX@bdpgsqld.petrobras.com.br:5432/s10883d\")"
   ]
  },
  {
   "cell_type": "code",
   "execution_count": 30,
   "metadata": {},
   "outputs": [
    {
     "data": {
      "text/plain": [
       "'cd0d109b-7b8b-4d1a-8e2a-fed090a64f6f'"
      ]
     },
     "execution_count": 30,
     "metadata": {},
     "output_type": "execute_result"
    }
   ],
   "source": [
    "agent_work.chat_memory.chat_id"
   ]
  },
  {
   "cell_type": "code",
   "execution_count": 26,
   "metadata": {},
   "outputs": [],
   "source": [
    "global_session_db.save_sessiont('testes', 'agent_work', agent_work)"
   ]
  },
  {
   "cell_type": "code",
   "execution_count": 33,
   "metadata": {},
   "outputs": [],
   "source": [
    "agent_work.chat_memory.create_new_chat('testes', 'en')"
   ]
  },
  {
   "cell_type": "code",
   "execution_count": 34,
   "metadata": {},
   "outputs": [
    {
     "data": {
      "text/plain": [
       "'c9ab2116-0d73-4d8e-b080-e6a599232b29'"
      ]
     },
     "execution_count": 34,
     "metadata": {},
     "output_type": "execute_result"
    }
   ],
   "source": [
    "agent_work.chat_memory.chat_id"
   ]
  },
  {
   "cell_type": "code",
   "execution_count": 36,
   "metadata": {},
   "outputs": [],
   "source": [
    "agent_work2 = global_session_db.load_session('testes', 'agent_work')"
   ]
  },
  {
   "cell_type": "code",
   "execution_count": 37,
   "metadata": {},
   "outputs": [
    {
     "data": {
      "text/plain": [
       "'cd0d109b-7b8b-4d1a-8e2a-fed090a64f6f'"
      ]
     },
     "execution_count": 37,
     "metadata": {},
     "output_type": "execute_result"
    }
   ],
   "source": [
    "agent_work2.chat_memory.chat_id"
   ]
  },
  {
   "cell_type": "code",
   "execution_count": 20,
   "metadata": {},
   "outputs": [
    {
     "name": "stdout",
     "output_type": "stream",
     "text": [
      "2\n",
      "3\n"
     ]
    }
   ],
   "source": [
    "a = 3\n",
    "print(b)\n",
    "print(a)"
   ]
  },
  {
   "cell_type": "code",
   "execution_count": 1,
   "metadata": {},
   "outputs": [],
   "source": [
    "from Petrobras_AI_Agents import databricks_connector"
   ]
  },
  {
   "cell_type": "code",
   "execution_count": 2,
   "metadata": {},
   "outputs": [
    {
     "name": "stdout",
     "output_type": "stream",
     "text": [
      "❌ databricks_connector: Falha na conexão com Databricks → Error during request to server\n"
     ]
    }
   ],
   "source": [
    "databricks_conn = databricks_connector(\n",
    "    server_hostname=\"adb-671799829240675.15.azuredatabricks.net\",\n",
    "    http_path=\"/sql/1.0/warehouses/1fd972f888afd086\",\n",
    "    access_token=\n",
    ")"
   ]
  },
  {
   "cell_type": "code",
   "execution_count": 26,
   "metadata": {},
   "outputs": [
    {
     "data": {
      "text/plain": [
       "'gASVRgAAAAAAAACMKVBldHJvYnJhc19BSV9BZ2VudHMuQ09OTkVDVE9SUy5kYXRhYnJpY2tzlIwUZGF0YWJyaWNrc19jb25uZWN0b3KUk5Qu'"
      ]
     },
     "execution_count": 26,
     "metadata": {},
     "output_type": "execute_result"
    }
   ],
   "source": [
    "import dill\n",
    "import base64\n",
    "base64.b64encode(dill.dumps(databricks_connector)).decode('utf-8')"
   ]
  },
  {
   "cell_type": "code",
   "execution_count": 21,
   "metadata": {},
   "outputs": [],
   "source": [
    "import weakref\n",
    "conn = weakref.ref(databricks_conn)"
   ]
  },
  {
   "cell_type": "code",
   "execution_count": 22,
   "metadata": {},
   "outputs": [
    {
     "data": {
      "text/plain": [
       "<weakref at 0x0000010992981CB0; to 'Connection' at 0x0000010990B3DC50>"
      ]
     },
     "execution_count": 22,
     "metadata": {},
     "output_type": "execute_result"
    }
   ],
   "source": [
    "conn"
   ]
  },
  {
   "cell_type": "code",
   "execution_count": 23,
   "metadata": {},
   "outputs": [
    {
     "ename": "AttributeError",
     "evalue": "'weakref.ReferenceType' object has no attribute 'cursor'",
     "output_type": "error",
     "traceback": [
      "\u001b[1;31m---------------------------------------------------------------------------\u001b[0m",
      "\u001b[1;31mAttributeError\u001b[0m                            Traceback (most recent call last)",
      "Cell \u001b[1;32mIn[23], line 1\u001b[0m\n\u001b[1;32m----> 1\u001b[0m \u001b[38;5;28;01mwith\u001b[39;00m \u001b[43mconn\u001b[49m\u001b[38;5;241;43m.\u001b[39;49m\u001b[43mcursor\u001b[49m() \u001b[38;5;28;01mas\u001b[39;00m cursor:\n\u001b[0;32m      2\u001b[0m                     cursor\u001b[38;5;241m.\u001b[39mexecute(\u001b[38;5;124m\"\u001b[39m\u001b[38;5;124mSELECT 1\u001b[39m\u001b[38;5;124m\"\u001b[39m)\n\u001b[0;32m      3\u001b[0m                     result \u001b[38;5;241m=\u001b[39m cursor\u001b[38;5;241m.\u001b[39mfetchall()\n",
      "\u001b[1;31mAttributeError\u001b[0m: 'weakref.ReferenceType' object has no attribute 'cursor'"
     ]
    }
   ],
   "source": [
    "with conn.cursor() as cursor:\n",
    "                    cursor.execute(\"SELECT 1\")\n",
    "                    result = cursor.fetchall()\n",
    "                    print(result)"
   ]
  },
  {
   "cell_type": "code",
   "execution_count": null,
   "metadata": {},
   "outputs": [],
   "source": []
  },
  {
   "cell_type": "code",
   "execution_count": null,
   "metadata": {},
   "outputs": [],
   "source": []
  },
  {
   "cell_type": "code",
   "execution_count": 26,
   "metadata": {},
   "outputs": [
    {
     "data": {
      "text/plain": [
       "{'language': 'pt-br',\n",
       " 'llm': <Petrobras_AI_Agents.LLM.azure_openai.llmClient_AzureOpenAI at 0x1f0376f3c10>,\n",
       " 'chat_memory': <Petrobras_AI_Agents.MEMORY.postgres.ChatDatabaseManager_Postgres at 0x1f0693bd250>,\n",
       " 'start_agent': 'Chat Analista',\n",
       " 'chat_mode': False,\n",
       " 'short_memory_size': 10,\n",
       " 'agents': {'Chat Analista': {'agent': <Petrobras_AI_Agents.AGENTS.chatinterpretor.ChatInterpretorAgent at 0x1f035e7a610>,\n",
       "   'active': True},\n",
       "  'Documentos Databricks': {'agent': <Petrobras_AI_Agents.AGENTS.knowledge_agent.KnowledgeBaseAgent at 0x1f0376ccdd0>,\n",
       "   'active': True},\n",
       "  'Analytics Databricks': {'agent': <Petrobras_AI_Agents.AGENTS.dataanalysis_agent.DatabaseExpertAgent at 0x1f069720790>,\n",
       "   'active': True},\n",
       "  'Documentos Pessoais': {'agent': <Petrobras_AI_Agents.AGENTS.knowledge_agent.KnowledgeBaseAgent at 0x1f069786050>,\n",
       "   'active': False},\n",
       "  'Analytics Pessoal': {'agent': <Petrobras_AI_Agents.AGENTS.dataanalysis_agent.DatabaseExpertAgent at 0x1f069796410>,\n",
       "   'active': False}},\n",
       " 'agemt_prompts': {},\n",
       " 'local_memory': [],\n",
       " 'human_in_the_loop_screem_presentation': [False],\n",
       " 'user_interaction': None,\n",
       " 'user_Interaction_for_tool': True,\n",
       " 'need_user_evaluation': None}"
      ]
     },
     "execution_count": 26,
     "metadata": {},
     "output_type": "execute_result"
    }
   ],
   "source": [
    "agent_work.__dict__"
   ]
  },
  {
   "cell_type": "code",
   "execution_count": 40,
   "metadata": {},
   "outputs": [
    {
     "data": {
      "text/plain": [
       "{'connection': <databricks.sql.client.Connection at 0x1f0691fa150>,\n",
       " '_profile_table_list': [{'profile_id': 999999, 'address': ''},\n",
       "  {'profile_id': 191,\n",
       "   'address': 'dt0047_prd.gastos.base_h_pgov_sefaz_rj_gastos'},\n",
       "  {'profile_id': 361,\n",
       "   'address': 'dt0047_prd.gastos.base_h_pgov_sefaz_rj_gastos'},\n",
       "  {'profile_id': 191,\n",
       "   'address': 'dt0047_prd.gastos.base_r_pgov_sefaz_rj_gastos'},\n",
       "  {'profile_id': 361,\n",
       "   'address': 'dt0047_prd.gastos.base_r_pgov_sefaz_rj_gastos'},\n",
       "  {'profile_id': 191,\n",
       "   'address': 'dt0047_prd.gastos.base_result_pgov_sefaz_rj_gastos'},\n",
       "  {'profile_id': 361,\n",
       "   'address': 'dt0047_prd.gastos.base_result_pgov_sefaz_rj_gastos'},\n",
       "  {'profile_id': 411,\n",
       "   'address': 'dt0047_prd.custeio.base_acumulada_custeio_ckm3'},\n",
       "  {'profile_id': 191,\n",
       "   'address': 'dt0047_prd.custeio.base_acumulada_custeio_ckm3'}],\n",
       " 'config_json': 'config_json\\\\databricks\\\\config_databricks_datasources.json',\n",
       " '_allowed_tables': None,\n",
       " 'config': {'connection': {'server_hostname': 'adb-671799829240675.15.azuredatabricks.net',\n",
       "   'http_path': '/sql/1.0/warehouses/1fd972f888afd086'},\n",
       "  'users_access': {'table': 'dtcore_prd.aida.acesso_usuario',\n",
       "   'profile_prefix': 'GDB_DLKC_PRD_PFL_'},\n",
       "  'data_sources': {'intimacoes_sefaz_rj_pgov_gastos': {'process_description': 'Rateio de gastos auditados pela SEFAZ-RJ relacionados às participações governamentais',\n",
       "    'relationships': 'A tabela 1 se relaciona com a 2 usando o campo abc',\n",
       "    'tables': {'base_h': {'address': 'dt0047_prd.gastos.base_h_pgov_sefaz_rj_gastos',\n",
       "      'description': '\"Tabela H\"',\n",
       "      'columns': {'Mandante': 'TYPE: string COMMENT: {\\n  \"description\": \"Mandante no Sistema SAP\",\\n  \"synonyms\": \"\",\\n  \"column type\": \"STRING\",\\n  \"column content\": \"\",\\n  \"examples\": \"\"\\n}',\n",
       "       'Objeto_Pesquisado': 'TYPE: string COMMENT: {\\n  \"description\": \"Objeto de Custo a ser extraído no programa de extração de arquivos\",\\n  \"synonyms\": \"\",\\n  \"column type\": \"STRING\",\\n  \"column content\": \"\",\\n  \"examples\": \"\"\\n}',\n",
       "       'Periodo': 'TYPE: int COMMENT: {\\n  \"description\": \"Período da extração\",\\n  \"synonyms\": \"\",\\n  \"column type\": \"INT\",\\n  \"column content\": \"\",\\n  \"examples\": \"\"\\n}',\n",
       "       'Exercicio': 'TYPE: int COMMENT: {\\n  \"description\": \"Exercício da extração\",\\n  \"synonyms\": \"\",\\n  \"column type\": \"INT\",\\n  \"column content\": \"\",\\n  \"examples\": \"\"\\n}',\n",
       "       'Etapa': 'TYPE: int COMMENT: {\\n  \"description\": \"Representa etapas macro de repasse de um fluxo ou árvore de repasses\",\\n  \"synonyms\": \"\",\\n  \"column type\": \"INT\",\\n  \"column content\": \"\",\\n  \"examples\": \"\"\\n}',\n",
       "       'Node1_H': 'TYPE: string COMMENT: {\\n  \"description\": \"Identação ou quebra dos subníveis de uma árvore de repasses\",\\n  \"synonyms\": \"\",\\n  \"column type\": \"STRING\",\\n  \"column content\": \"\",\\n  \"examples\": \"\"\\n}',\n",
       "       'Node2': 'TYPE: string COMMENT: {\\n  \"description\": \"último subnível de uma cadeia de repasses, usado para lógica de agregação dos repasses\",\\n  \"synonyms\": \"\",\\n  \"column type\": \"STRING\",\\n  \"column content\": \"\",\\n  \"examples\": \"\"\\n}',\n",
       "       'Ordenacao': 'TYPE: string COMMENT: {\\n  \"description\": \"Identificador de ligação entre os registros do arquivo de Repasses com seu registro correspondente no arquivo de Hierarquia.\",\\n  \"synonyms\": \"\",\\n  \"column type\": \"STRING\",\\n  \"column content\": \"\",\\n  \"examples\": \"\"\\n}',\n",
       "       'Pesquisa': 'TYPE: string COMMENT: {\\n  \"description\": \"Representa a quantidade de níveis macro numa árvore de repasses\",\\n  \"synonyms\": \"\",\\n  \"column type\": \"STRING\",\\n  \"column content\": \"\",\\n  \"examples\": \"\"\\n}',\n",
       "       'Node_Pai': 'TYPE: string COMMENT: {\\n  \"description\": \"Representa a cadeia de repasses até o penúltimo subnível, usado para a lógica de agregação dos repasses\",\\n  \"synonyms\": \"\",\\n  \"column type\": \"STRING\",\\n  \"column content\": \"\",\\n  \"examples\": \"\"\\n}',\n",
       "       'Objeto': 'TYPE: string COMMENT: {\\n  \"description\": \"Objeto de Custo de um conjunto de operações de CO\",\\n  \"synonyms\": \"\",\\n  \"column type\": \"STRING\",\\n  \"column content\": \"\",\\n  \"examples\": \"\"\\n}',\n",
       "       'Objeto_Parceiro': 'TYPE: string COMMENT: {\\n  \"description\": \"Objeto de custo parceiro de um conjunto de operações de CO\",\\n  \"synonyms\": \"\",\\n  \"column type\": \"STRING\",\\n  \"column content\": \"\",\\n  \"examples\": \"\"\\n}',\n",
       "       'Objeto_Parceiro_Ajustado_H': 'TYPE: string COMMENT: {\\n  \"description\": \"Campo adicional para viabilizar lógica de análise. Classifica os objetos em seu nível final na cadeia de repasse (FOLHA, MATERIALIDADE, DEMANDA) \",\\n  \"synonyms\": \"\",\\n  \"column type\": \"STRING\",\\n  \"column content\": \"\",\\n  \"examples\": \"\"\\n}',\n",
       "       'Valor': 'TYPE: float COMMENT: {\\n  \"description\": \"Valor que um objeto recebe de seu parceiro para cada linha de registro\",\\n  \"synonyms\": \"\",\\n  \"column type\": \"FLOAT\",\\n  \"column content\": \"\",\\n  \"examples\": \"\"\\n}',\n",
       "       'Moeda': 'TYPE: string COMMENT: {\\n  \"description\": \"Moeda do Valor que um objeto recebe de seu parceiro para cada linha de registro\",\\n  \"synonyms\": \"\",\\n  \"column type\": \"STRING\",\\n  \"column content\": \"\",\\n  \"examples\": \"\"\\n}',\n",
       "       'Total': 'TYPE: float COMMENT: {\\n  \"description\": \"Total do gasto do objeto parceiro\",\\n  \"synonyms\": \"\",\\n  \"column type\": \"FLOAT\",\\n  \"column content\": \"\",\\n  \"examples\": \"\"\\n}',\n",
       "       'Rateio': 'TYPE: float COMMENT: {\\n  \"description\": \"% de rateio alocado ao Objeto. Calculado com base na coluna (Valor/Total)*100 \",\\n  \"synonyms\": \"\",\\n  \"column type\": \"FLOAT\",\\n  \"column content\": \"\",\\n  \"examples\": \"\"\\n}',\n",
       "       'Rateio_Acumulado_H': 'TYPE: float COMMENT: {\\n  \"description\": \"Coluna Rateio * Rateio Acumulado do nível de repasse anterior\",\\n  \"synonyms\": \"\",\\n  \"column type\": \"FLOAT\",\\n  \"column content\": \"\",\\n  \"examples\": \"\"\\n}',\n",
       "       'Ciclo_Rateio': 'TYPE: string COMMENT: {\\n  \"description\": \"Código do Ciclo de rateio envolvido na operação\",\\n  \"synonyms\": \"\",\\n  \"column type\": \"STRING\",\\n  \"column content\": \"\",\\n  \"examples\": \"\"\\n}',\n",
       "       'Valor_Calculado_H': 'TYPE: float COMMENT: {\\n  \"description\": \"Valor Calculado (Valor * Rateio Acumulado)\",\\n  \"synonyms\": \"\",\\n  \"column type\": \"FLOAT\",\\n  \"column content\": \"\",\\n  \"examples\": \"\"\\n}',\n",
       "       'id': 'TYPE: string COMMENT: {\\n  \"description\": \"Identificador único para as linhas da tabela\",\\n  \"synonyms\": [\\n    \"chave, chave primária, key, primary key\"\\n  ],\\n  \"column type\": \"STRING\",\\n  \"column content\": \"Chave primária como string uuid\",\\n  \"examples\": \"\"\\n}',\n",
       "       'folder': 'TYPE: string COMMENT: {\\n  \"description\": \"Nome da pasta com base no período\",\\n  \"synonyms\": \"\",\\n  \"column type\": \"STRING\",\\n  \"column content\": \"Utiliz o padrão: aaaa/0mm. Exemplo: \"2015_012\"\",\\n  \"examples\": \"\"\\n}',\n",
       "       'status_processamento': 'TYPE: string COMMENT: {\\n  \"description\": \"Informação sobre status de processamento da pasta\",\\n  \"synonyms\": \"\",\\n  \"column type\": \"STRING\",\\n  \"column content\": [\\n    \"PROCESSADOS\",\\n    \"NAO_PROCESSADOS\"\\n  ],\\n  \"examples\": \"\"\\n}'},\n",
       "      'grants': [191, 361]},\n",
       "     'base_r': {'address': 'dt0047_prd.gastos.base_r_pgov_sefaz_rj_gastos',\n",
       "      'description': '\"Tabela R\"',\n",
       "      'columns': {'Mandante': 'TYPE: string COMMENT: {\\n  \"description\": \"Mandante no Sistema SAP\",\\n  \"synonyms\": \"\",\\n  \"column type\": \"STRING\",\\n  \"column content\": \"\",\\n  \"examples\": \"\"\\n}',\n",
       "       'Objeto_Pesquisado': 'TYPE: string COMMENT: {\\n  \"description\": \"Objeto de Custo a ser extraído no programa de extração de arquivos\",\\n  \"synonyms\": \"\",\\n  \"column type\": \"STRING\",\\n  \"column content\": \"\",\\n  \"examples\": \"\"\\n}',\n",
       "       'Documento_CO': 'TYPE: string COMMENT: {\\n  \"description\": \"Documento de Contabilidade de Custos (módulo CO) onde é registrada uma operação de contabilidade de custos.\",\\n  \"synonyms\": \"\",\\n  \"column type\": \"STRING\",\\n  \"column content\": \"\",\\n  \"examples\": \"\"\\n}',\n",
       "       'Item': 'TYPE: string COMMENT: {\\n  \"description\": \"Item de um documento de CO.  Representa uma partida de um documento contábil de CO\",\\n  \"synonyms\": \"\",\\n  \"column type\": \"STRING\",\\n  \"column content\": \"\",\\n  \"examples\": \"\"\\n}',\n",
       "       'Periodo': 'TYPE: int COMMENT: {\\n  \"description\": \"Período da extração\",\\n  \"synonyms\": \"\",\\n  \"column type\": \"INT\",\\n  \"column content\": \"\",\\n  \"examples\": \"\"\\n}',\n",
       "       'Exercicio': 'TYPE: int COMMENT: {\\n  \"description\": \"Exercício da extração\",\\n  \"synonyms\": \"\",\\n  \"column type\": \"INT\",\\n  \"column content\": \"\",\\n  \"examples\": \"\"\\n}',\n",
       "       'Versao': 'TYPE: string COMMENT: {\\n  \"description\": \"Agrupamento, com base na área de contabilidade de custos, de códigos dependentes do ano para dados planejados. Sempre será versão 0 – Versão planejado/real\",\\n  \"synonyms\": \"\",\\n  \"column type\": \"STRING\",\\n  \"column content\": \"\",\\n  \"examples\": \"\"\\n}',\n",
       "       'Ledger': 'TYPE: string COMMENT: {\\n  \"description\": \"Ledger para objetos de controlling.  Sempre será Ledger 0 – ledger standard\",\\n  \"synonyms\": \"\",\\n  \"column type\": \"STRING\",\\n  \"column content\": \"\",\\n  \"examples\": \"\"\\n}',\n",
       "       'Montante': 'TYPE: float COMMENT: {\\n  \"description\": \"Valor do item do documento CO \",\\n  \"synonyms\": \"\",\\n  \"column type\": \"FLOAT\",\\n  \"column content\": \"\",\\n  \"examples\": \"\"\\n}',\n",
       "       'Objeto': 'TYPE: string COMMENT: {\\n  \"description\": \"Objeto de Custo de um conjunto de operações de CO\",\\n  \"synonyms\": \"\",\\n  \"column type\": \"STRING\",\\n  \"column content\": \"\",\\n  \"examples\": \"\"\\n}',\n",
       "       'Objeto_Parceiro': 'TYPE: string COMMENT: {\\n  \"description\": \"Objeto de custo parceiro de um conjunto de operações de CO\",\\n  \"synonyms\": \"\",\\n  \"column type\": \"STRING\",\\n  \"column content\": \"\",\\n  \"examples\": \"\"\\n}',\n",
       "       'C_D': 'TYPE: string COMMENT: {\\n  \"description\": \"S – Lançamento a débito ou débito receptor; H -> Lançamento a Crédito ou crédito emissor ; A -> Liquidação de Ordem/PEP \",\\n  \"synonyms\": \"\",\\n  \"column type\": \"STRING\",\\n  \"column content\": \"\",\\n  \"examples\": \"\"\\n}',\n",
       "       'Ordenacao': 'TYPE: string COMMENT: {\\n  \"description\": \"Identificador de ligação entre os registros do arquivo de Repasses com seu registro correspondente no arquivo de Hierarquia.\",\\n  \"synonyms\": \"\",\\n  \"column type\": \"STRING\",\\n  \"column content\": \"\",\\n  \"examples\": \"\"\\n}',\n",
       "       'Pesquisa': 'TYPE: string COMMENT: {\\n  \"description\": \"Representa a quantidade de níveis macro numa árvore de repasses\",\\n  \"synonyms\": \"\",\\n  \"column type\": \"STRING\",\\n  \"column content\": \"\",\\n  \"examples\": \"\"\\n}',\n",
       "       'Moeda': 'TYPE: string COMMENT: {\\n  \"description\": \"Moeda do Valor que um objeto recebe de seu parceiro para cada linha de registro\",\\n  \"synonyms\": \"\",\\n  \"column type\": \"STRING\",\\n  \"column content\": \"\",\\n  \"examples\": \"\"\\n}',\n",
       "       'Objeto_Parceiro_Ajustado': 'TYPE: string COMMENT: {\\n  \"description\": \"Campo adicional para viabilizar lógica de análise. Classifica os objetos em seu nível final na cadeia de repasse (FOLHA, MATERIALIDADE, DEMANDA) \",\\n  \"synonyms\": \"\",\\n  \"column type\": \"STRING\",\\n  \"column content\": \"\",\\n  \"examples\": \"\"\\n}',\n",
       "       'Data': 'TYPE: date COMMENT: {\\n  \"description\": \"Data de registro do documento de CO\",\\n  \"synonyms\": \"\",\\n  \"column type\": \"DATE\",\\n  \"column content\": \"\",\\n  \"examples\": \"\"\\n}',\n",
       "       'Hora': 'TYPE: string COMMENT: {\\n  \"description\": \"Hora do registro do documento de CO\",\\n  \"synonyms\": \"\",\\n  \"column type\": \"STRING\",\\n  \"column content\": \"\",\\n  \"examples\": \"\"\\n}',\n",
       "       'Ciclo_Rateio': 'TYPE: string COMMENT: {\\n  \"description\": \"Código do Ciclo de rateio envolvido na operação\",\\n  \"synonyms\": \"\",\\n  \"column type\": \"STRING\",\\n  \"column content\": \"\",\\n  \"examples\": \"\"\\n}',\n",
       "       'Item_Rateio': 'TYPE: string COMMENT: {\\n  \"description\": \"Assume o valor ‘0” para operações que não sejam rateio e “1” para operações de rateio \",\\n  \"synonyms\": \"\",\\n  \"column type\": \"STRING\",\\n  \"column content\": \"\",\\n  \"examples\": \"\"\\n}',\n",
       "       'Data_Rateio': 'TYPE: string COMMENT: {\\n  \"description\": \"Data da operação e rateio\",\\n  \"synonyms\": \"\",\\n  \"column type\": \"STRING\",\\n  \"column content\": \"\",\\n  \"examples\": \"\"\\n}',\n",
       "       'Operacao': 'TYPE: string COMMENT: {\\n  \"description\": \"Códigos de operação do sistema SAP\",\\n  \"synonyms\": \"\",\\n  \"column type\": \"STRING\",\\n  \"column content\": \"\",\\n  \"examples\": \"\"\\n}',\n",
       "       'Classe_de_custo': 'TYPE: string COMMENT: {\\n  \"description\": \"Contas contábeis refletidas na contabilidade de custos – módulo CO\",\\n  \"synonyms\": \"\",\\n  \"column type\": \"STRING\",\\n  \"column content\": \"\",\\n  \"examples\": \"\"\\n}',\n",
       "       'Valor_Transacao': 'TYPE: float COMMENT: {\\n  \"description\": \"Valor da transação\",\\n  \"synonyms\": \"\",\\n  \"column type\": \"FLOAT\",\\n  \"column content\": \"\",\\n  \"examples\": \"\"\\n}',\n",
       "       'Moeda_Transacao': 'TYPE: string COMMENT: {\\n  \"description\": \"Moeda da transação\",\\n  \"synonyms\": \"\",\\n  \"column type\": \"STRING\",\\n  \"column content\": \"\",\\n  \"examples\": \"\"\\n}',\n",
       "       'Doc_Compra': 'TYPE: string COMMENT: {\\n  \"description\": \"Pedido de compra\",\\n  \"synonyms\": \"\",\\n  \"column type\": \"STRING\",\\n  \"column content\": \"\",\\n  \"examples\": \"\"\\n}',\n",
       "       'Item_Doc_Compra': 'TYPE: string COMMENT: {\\n  \"description\": \"Item do pedido de compra\",\\n  \"synonyms\": \"\",\\n  \"column type\": \"STRING\",\\n  \"column content\": \"\",\\n  \"examples\": \"\"\\n}',\n",
       "       'Item_Class_Cont': 'TYPE: string COMMENT: {\\n  \"description\": \"Número que define a classificação contábil de um item do documento de compras.\",\\n  \"synonyms\": \"\",\\n  \"column type\": \"STRING\",\\n  \"column content\": \"\",\\n  \"examples\": \"\"\\n}',\n",
       "       'Centro': 'TYPE: string COMMENT: {\\n  \"description\": \"Centro\",\\n  \"synonyms\": \"\",\\n  \"column type\": \"STRING\",\\n  \"column content\": \"\",\\n  \"examples\": \"\"\\n}',\n",
       "       'Material': 'TYPE: string COMMENT: {\\n  \"description\": \"Código do material\",\\n  \"synonyms\": \"\",\\n  \"column type\": \"STRING\",\\n  \"column content\": \"\",\\n  \"examples\": \"\"\\n}',\n",
       "       'Quantidade_Entrada': 'TYPE: float COMMENT: {\\n  \"description\": \"Quantidade entrada na operação\",\\n  \"synonyms\": \"\",\\n  \"column type\": \"FLOAT\",\\n  \"column content\": \"\",\\n  \"examples\": \"\"\\n}',\n",
       "       'Unidade_Medida': 'TYPE: string COMMENT: {\\n  \"description\": \"Unidade de medida\",\\n  \"synonyms\": \"\",\\n  \"column type\": \"STRING\",\\n  \"column content\": \"\",\\n  \"examples\": \"\"\\n}',\n",
       "       'Chave_subno': 'TYPE: string COMMENT: {\\n  \"description\": \"CO chave subnº\",\\n  \"synonyms\": \"\",\\n  \"column type\": \"STRING\",\\n  \"column content\": \"\",\\n  \"examples\": \"\"\\n}',\n",
       "       'Item_Doc_Ref': 'TYPE: string COMMENT: {\\n  \"description\": \"Item do documento de referência\",\\n  \"synonyms\": \"\",\\n  \"column type\": \"STRING\",\\n  \"column content\": \"\",\\n  \"examples\": \"\"\\n}',\n",
       "       'Categoria_Doc_Ref': 'TYPE: string COMMENT: {\\n  \"description\": \"Categoria do documento de referência\",\\n  \"synonyms\": \"\",\\n  \"column type\": \"STRING\",\\n  \"column content\": \"\",\\n  \"examples\": \"\"\\n}',\n",
       "       'Documento_Referencia': 'TYPE: string COMMENT: {\\n  \"description\": \"Documento de referência do documento de CO\",\\n  \"synonyms\": \"\",\\n  \"column type\": \"STRING\",\\n  \"column content\": \"\",\\n  \"examples\": \"\"\\n}',\n",
       "       'Empresa_Doc_Ref': 'TYPE: string COMMENT: {\\n  \"description\": \"Empresa do documento de referência\",\\n  \"synonyms\": \"\",\\n  \"column type\": \"STRING\",\\n  \"column content\": \"\",\\n  \"examples\": \"\"\\n}',\n",
       "       'Exercicio_Doc_Ref': 'TYPE: int COMMENT: {\\n  \"description\": \"Exercício do documento de referência\",\\n  \"synonyms\": \"\",\\n  \"column type\": \"INT\",\\n  \"column content\": \"\",\\n  \"examples\": \"\"\\n}',\n",
       "       'Tipo_Doc_Ref': 'TYPE: string COMMENT: {\\n  \"description\": \"Tipo do documento de referência de FI\",\\n  \"synonyms\": \"\",\\n  \"column type\": \"STRING\",\\n  \"column content\": \"\",\\n  \"examples\": \"\"\\n}',\n",
       "       'Conta_Contrapartida': 'TYPE: string COMMENT: {\\n  \"description\": \"Conta de contrapartida do item de registro do documento de CO\",\\n  \"synonyms\": \"\",\\n  \"column type\": \"STRING\",\\n  \"column content\": \"\",\\n  \"examples\": \"\"\\n}',\n",
       "       'Status': 'TYPE: string COMMENT: {\\n  \"description\": \"Observação do Lançamento\",\\n  \"synonyms\": \"\",\\n  \"column type\": \"STRING\",\\n  \"column content\": \"\",\\n  \"examples\": \"\"\\n}',\n",
       "       'Rateio_acumulado': 'TYPE: string COMMENT: {\\n  \"description\": \"Coluna Rateio * Rateio Acumulado do nível de repasse anterior\",\\n  \"synonyms\": \"\",\\n  \"column type\": \"STRING\",\\n  \"column content\": \"\",\\n  \"examples\": \"\"\\n}',\n",
       "       'Origem_Repasse': 'TYPE: string COMMENT: {\\n  \"description\": \"Classificação Origem – G e Repasse - R\",\\n  \"synonyms\": \"\",\\n  \"column type\": \"STRING\",\\n  \"column content\": \"\",\\n  \"examples\": \"\"\\n}',\n",
       "       'Tipo_do_objeto_de_custo': 'TYPE: string COMMENT: {\\n  \"description\": \"Tipo do objeto de custo\",\\n  \"synonyms\": \"\",\\n  \"column type\": \"STRING\",\\n  \"column content\": \"\",\\n  \"examples\": \"\"\\n}',\n",
       "       'Tipo_do_objeto_parceiro': 'TYPE: string COMMENT: {\\n  \"description\": \"Tipo do objeto parceiro\",\\n  \"synonyms\": \"\",\\n  \"column type\": \"STRING\",\\n  \"column content\": \"\",\\n  \"examples\": \"\"\\n}',\n",
       "       'Grupo_de_conta': 'TYPE: string COMMENT: {\\n  \"description\": \"Grupo de conta (4, 5 ou 6)\",\\n  \"synonyms\": \"\",\\n  \"column type\": \"STRING\",\\n  \"column content\": \"\",\\n  \"examples\": \"\"\\n}',\n",
       "       'Conta_reduzida': 'TYPE: string COMMENT: {\\n  \"description\": \"Dois primeiros dígitos das classes de custos\",\\n  \"synonyms\": \"\",\\n  \"column type\": \"STRING\",\\n  \"column content\": \"\",\\n  \"examples\": \"\"\\n}',\n",
       "       'Tipo_de_custos': 'TYPE: string COMMENT: {\\n  \"description\": \"Informação utilizada para contabilidade de parcerias\",\\n  \"synonyms\": \"\",\\n  \"column type\": \"STRING\",\\n  \"column content\": \"\",\\n  \"examples\": \"\"\\n}',\n",
       "       'Texto_breve_material': 'TYPE: string COMMENT: {\\n  \"description\": \"Texto breve do material\",\\n  \"synonyms\": \"\",\\n  \"column type\": \"STRING\",\\n  \"column content\": \"\",\\n  \"examples\": \"\"\\n}',\n",
       "       'Tipo_de_avaliacao': 'TYPE: string COMMENT: {\\n  \"description\": \"Código que identifica univocamente os estoques avaliados separadamente de um material.\",\\n  \"synonyms\": \"\",\\n  \"column type\": \"STRING\",\\n  \"column content\": \"\",\\n  \"examples\": \"\"\\n}',\n",
       "       'Contrato_basico': 'TYPE: string COMMENT: {\\n  \"description\": \"Contrato básico que subsidia a operação\",\\n  \"synonyms\": \"\",\\n  \"column type\": \"STRING\",\\n  \"column content\": \"\",\\n  \"examples\": \"\"\\n}',\n",
       "       'Instrumento_Contratual_Juridico': 'TYPE: string COMMENT: {\\n  \"description\": \"Instrumento Contratual Jurídico\",\\n  \"synonyms\": \"\",\\n  \"column type\": \"STRING\",\\n  \"column content\": \"\",\\n  \"examples\": \"\"\\n}',\n",
       "       'Fornecedor': 'TYPE: string COMMENT: {\\n  \"description\": \"Código do Fornecedor\",\\n  \"synonyms\": \"\",\\n  \"column type\": \"STRING\",\\n  \"column content\": \"\",\\n  \"examples\": \"\"\\n}',\n",
       "       'Nome_completo_do_Fornecedor': 'TYPE: string COMMENT: {\\n  \"description\": \"Nome completo do Fornecedor\",\\n  \"synonyms\": \"\",\\n  \"column type\": \"STRING\",\\n  \"column content\": \"\",\\n  \"examples\": \"\"\\n}',\n",
       "       'N_nota_fiscal': 'TYPE: string COMMENT: {\\n  \"description\": \"Nº nota fiscal\",\\n  \"synonyms\": \"\",\\n  \"column type\": \"STRING\",\\n  \"column content\": \"\",\\n  \"examples\": \"\"\\n}',\n",
       "       'N_da_NF_e': 'TYPE: string COMMENT: {\\n  \"description\": \"Nº da NF-e\",\\n  \"synonyms\": \"\",\\n  \"column type\": \"STRING\",\\n  \"column content\": \"\",\\n  \"examples\": \"\"\\n}',\n",
       "       'Protocolo_de_Recebimento_de_Nota_Fiscal': 'TYPE: string COMMENT: {\\n  \"description\": \"Protocolo de Recebimento de Nota Fiscal\",\\n  \"synonyms\": \"\",\\n  \"column type\": \"STRING\",\\n  \"column content\": \"\",\\n  \"examples\": \"\"\\n}',\n",
       "       'N_de_documento_da_fatura': 'TYPE: string COMMENT: {\\n  \"description\": \"Nº de documento da fatura - MIRO\",\\n  \"synonyms\": \"\",\\n  \"column type\": \"STRING\",\\n  \"column content\": \"\",\\n  \"examples\": \"\"\\n}',\n",
       "       'Exercicio_da_fatura': 'TYPE: string COMMENT: {\\n  \"description\": \"Exercício da fatura\",\\n  \"synonyms\": \"\",\\n  \"column type\": \"STRING\",\\n  \"column content\": \"\",\\n  \"examples\": \"\"\\n}',\n",
       "       'Folha_reg_servicos': 'TYPE: string COMMENT: {\\n  \"description\": \"Folha de registro de serviços - FRS\",\\n  \"synonyms\": \"\",\\n  \"column type\": \"STRING\",\\n  \"column content\": \"\",\\n  \"examples\": \"\"\\n}',\n",
       "       'Relatorio_de_Medicao': 'TYPE: string COMMENT: {\\n  \"description\": \"Registro de Medição - RM\",\\n  \"synonyms\": \"\",\\n  \"column type\": \"STRING\",\\n  \"column content\": \"\",\\n  \"examples\": \"\"\\n}',\n",
       "       'Doc_material': 'TYPE: string COMMENT: {\\n  \"description\": \"Documento de material - MIGO\",\\n  \"synonyms\": \"\",\\n  \"column type\": \"STRING\",\\n  \"column content\": \"\",\\n  \"examples\": \"\"\\n}',\n",
       "       'Chave_de_acesso_da_NF_e': 'TYPE: string COMMENT: {\\n  \"description\": \"Chave de acesso da NF-e\",\\n  \"synonyms\": \"\",\\n  \"column type\": \"STRING\",\\n  \"column content\": \"\",\\n  \"examples\": \"\"\\n}',\n",
       "       'Observacoes': 'TYPE: string COMMENT: {\\n  \"description\": \"Campo para controle de análise e geração do arquivo\",\\n  \"synonyms\": \"\",\\n  \"column type\": \"STRING\",\\n  \"column content\": \"\",\\n  \"examples\": \"\"\\n}',\n",
       "       'id': 'TYPE: string COMMENT: {\\n  \"description\": \"Identificador único para as linhas da tabela\",\\n  \"synonyms\": [\\n    \"chave, chave primária, key, primary key\"\\n  ],\\n  \"column type\": \"STRING\",\\n  \"column content\": \"Chave primária como string uuid\",\\n  \"examples\": \"\"\\n}',\n",
       "       'folder': 'TYPE: string COMMENT: {\\n  \"description\": \"Nome da pasta com base no período\",\\n  \"synonyms\": \"\",\\n  \"column type\": \"STRING\",\\n  \"column content\": \"Utiliz o padrão: aaaa/0mm. Exemplo: \"2015_012\"\",\\n  \"examples\": \"\"\\n}',\n",
       "       'status_processamento': 'TYPE: string COMMENT: {\\n  \"description\": \"Informação sobre status de processamento da pasta\",\\n  \"synonyms\": \"\",\\n  \"column type\": \"STRING\",\\n  \"column content\": [\\n    \"PROCESSADOS\",\\n    \"NAO_PROCESSADOS\"\\n  ],\\n  \"examples\": \"\"\\n}'},\n",
       "      'grants': [191, 361]},\n",
       "     'base_resultado': {'address': 'dt0047_prd.gastos.base_result_pgov_sefaz_rj_gastos',\n",
       "      'description': '\"Tabela resultado entre o merge das tabelas H e R\"',\n",
       "      'columns': {'Mandante': 'TYPE: string COMMENT: {\\n  \"description\": \"Mandante no Sistema SAP\",\\n  \"synonyms\": \"\",\\n  \"column type\": \"STRING\",\\n  \"column content\": \"\",\\n  \"examples\": \"\"\\n}',\n",
       "       'Objeto_Pesquisado': 'TYPE: string COMMENT: {\\n  \"description\": \"Objeto de Custo a ser extraído no programa de extração de arquivos\",\\n  \"synonyms\": \"\",\\n  \"column type\": \"STRING\",\\n  \"column content\": \"\",\\n  \"examples\": \"\"\\n}',\n",
       "       'Documento_CO': 'TYPE: string COMMENT: {\\n  \"description\": \"Documento de Contabilidade de Custos (módulo CO) onde é registrada uma operação de contabilidade de custos.\",\\n  \"synonyms\": \"\",\\n  \"column type\": \"STRING\",\\n  \"column content\": \"\",\\n  \"examples\": \"\"\\n}',\n",
       "       'Item': 'TYPE: string COMMENT: {\\n  \"description\": \"Item de um documento de CO.  Representa uma partida de um documento contábil de CO\",\\n  \"synonyms\": \"\",\\n  \"column type\": \"STRING\",\\n  \"column content\": \"\",\\n  \"examples\": \"\"\\n}',\n",
       "       'Periodo': 'TYPE: int COMMENT: {\\n  \"description\": \"Período da extração\",\\n  \"synonyms\": \"\",\\n  \"column type\": \"INT\",\\n  \"column content\": \"\",\\n  \"examples\": \"\"\\n}',\n",
       "       'Exercicio': 'TYPE: int COMMENT: {\\n  \"description\": \"Exercício da extração\",\\n  \"synonyms\": \"\",\\n  \"column type\": \"INT\",\\n  \"column content\": \"\",\\n  \"examples\": \"\"\\n}',\n",
       "       'Versao': 'TYPE: string COMMENT: {\\n  \"description\": \"Agrupamento, com base na área de contabilidade de custos, de códigos dependentes do ano para dados planejados. Sempre será versão 0 – Versão planejado/real\",\\n  \"synonyms\": \"\",\\n  \"column type\": \"STRING\",\\n  \"column content\": \"\",\\n  \"examples\": \"\"\\n}',\n",
       "       'Ledger': 'TYPE: string COMMENT: {\\n  \"description\": \"Ledger para objetos de controlling.  Sempre será Ledger 0 – ledger standard\",\\n  \"synonyms\": \"\",\\n  \"column type\": \"STRING\",\\n  \"column content\": \"\",\\n  \"examples\": \"\"\\n}',\n",
       "       'Montante': 'TYPE: float COMMENT: {\\n  \"description\": \"Valor do item do documento CO \",\\n  \"synonyms\": \"\",\\n  \"column type\": \"FLOAT\",\\n  \"column content\": \"\",\\n  \"examples\": \"\"\\n}',\n",
       "       'Objeto': 'TYPE: string COMMENT: {\\n  \"description\": \"Objeto de Custo de um conjunto de operações de CO\",\\n  \"synonyms\": \"\",\\n  \"column type\": \"STRING\",\\n  \"column content\": \"\",\\n  \"examples\": \"\"\\n}',\n",
       "       'Objeto_Parceiro': 'TYPE: string COMMENT: {\\n  \"description\": \"Objeto de custo parceiro de um conjunto de operações de CO\",\\n  \"synonyms\": \"\",\\n  \"column type\": \"STRING\",\\n  \"column content\": \"\",\\n  \"examples\": \"\"\\n}',\n",
       "       'C_D': 'TYPE: string COMMENT: {\\n  \"description\": \"S – Lançamento a débito ou débito receptor; H -> Lançamento a Crédito ou crédito emissor ; A -> Liquidação de Ordem/PEP \",\\n  \"synonyms\": \"\",\\n  \"column type\": \"STRING\",\\n  \"column content\": \"\",\\n  \"examples\": \"\"\\n}',\n",
       "       'Ordenacao': 'TYPE: string COMMENT: {\\n  \"description\": \"Identificador de ligação entre os registros do arquivo de Repasses com seu registro correspondente no arquivo de Hierarquia.\",\\n  \"synonyms\": \"\",\\n  \"column type\": \"STRING\",\\n  \"column content\": \"\",\\n  \"examples\": \"\"\\n}',\n",
       "       'Pesquisa': 'TYPE: string COMMENT: {\\n  \"description\": \"Representa a quantidade de níveis macro numa árvore de repasses\",\\n  \"synonyms\": \"\",\\n  \"column type\": \"STRING\",\\n  \"column content\": \"\",\\n  \"examples\": \"\"\\n}',\n",
       "       'Moeda': 'TYPE: string COMMENT: {\\n  \"description\": \"Moeda do Valor que um objeto recebe de seu parceiro para cada linha de registro\",\\n  \"synonyms\": \"\",\\n  \"column type\": \"STRING\",\\n  \"column content\": \"\",\\n  \"examples\": \"\"\\n}',\n",
       "       'Objeto_Parceiro_Ajustado': 'TYPE: string COMMENT: {\\n  \"description\": \"Campo adicional para viabilizar lógica de análise. Classifica os objetos em seu nível final na cadeia de repasse (FOLHA, MATERIALIDADE, DEMANDA) \",\\n  \"synonyms\": \"\",\\n  \"column type\": \"STRING\",\\n  \"column content\": \"\",\\n  \"examples\": \"\"\\n}',\n",
       "       'Data': 'TYPE: date COMMENT: {\\n  \"description\": \"Data de registro do documento de CO\",\\n  \"synonyms\": \"\",\\n  \"column type\": \"DATE\",\\n  \"column content\": \"\",\\n  \"examples\": \"\"\\n}',\n",
       "       'Hora': 'TYPE: string COMMENT: {\\n  \"description\": \"Hora do registro do documento de CO\",\\n  \"synonyms\": \"\",\\n  \"column type\": \"STRING\",\\n  \"column content\": \"\",\\n  \"examples\": \"\"\\n}',\n",
       "       'Ciclo_Rateio': 'TYPE: string COMMENT: {\\n  \"description\": \"Código do Ciclo de rateio envolvido na operação\",\\n  \"synonyms\": \"\",\\n  \"column type\": \"STRING\",\\n  \"column content\": \"\",\\n  \"examples\": \"\"\\n}',\n",
       "       'Item_Rateio': 'TYPE: string COMMENT: {\\n  \"description\": \"Assume o valor ‘0” para operações que não sejam rateio e “1” para operações de rateio \",\\n  \"synonyms\": \"\",\\n  \"column type\": \"STRING\",\\n  \"column content\": \"\",\\n  \"examples\": \"\"\\n}',\n",
       "       'Data_Rateio': 'TYPE: string COMMENT: {\\n  \"description\": \"Data da operação e rateio\",\\n  \"synonyms\": \"\",\\n  \"column type\": \"STRING\",\\n  \"column content\": \"\",\\n  \"examples\": \"\"\\n}',\n",
       "       'Operacao': 'TYPE: string COMMENT: {\\n  \"description\": \"Códigos de operação do sistema SAP\",\\n  \"synonyms\": \"\",\\n  \"column type\": \"STRING\",\\n  \"column content\": \"\",\\n  \"examples\": \"\"\\n}',\n",
       "       'Classe_de_custo': 'TYPE: string COMMENT: {\\n  \"description\": \"Contas contábeis refletidas na contabilidade de custos – módulo CO\",\\n  \"synonyms\": \"\",\\n  \"column type\": \"STRING\",\\n  \"column content\": \"\",\\n  \"examples\": \"\"\\n}',\n",
       "       'Valor_Transacao': 'TYPE: float COMMENT: {\\n  \"description\": \"Valor da transação\",\\n  \"synonyms\": \"\",\\n  \"column type\": \"FLOAT\",\\n  \"column content\": \"\",\\n  \"examples\": \"\"\\n}',\n",
       "       'Moeda_Transacao': 'TYPE: string COMMENT: {\\n  \"description\": \"Moeda da transação\",\\n  \"synonyms\": \"\",\\n  \"column type\": \"STRING\",\\n  \"column content\": \"\",\\n  \"examples\": \"\"\\n}',\n",
       "       'Doc_Compra': 'TYPE: string COMMENT: {\\n  \"description\": \"Pedido de compra\",\\n  \"synonyms\": \"\",\\n  \"column type\": \"STRING\",\\n  \"column content\": \"\",\\n  \"examples\": \"\"\\n}',\n",
       "       'Item_Doc_Compra': 'TYPE: string COMMENT: {\\n  \"description\": \"Item do pedido de compra\",\\n  \"synonyms\": \"\",\\n  \"column type\": \"STRING\",\\n  \"column content\": \"\",\\n  \"examples\": \"\"\\n}',\n",
       "       'Item_Class_Cont': 'TYPE: string COMMENT: {\\n  \"description\": \"Número que define a classificação contábil de um item do documento de compras.\",\\n  \"synonyms\": \"\",\\n  \"column type\": \"STRING\",\\n  \"column content\": \"\",\\n  \"examples\": \"\"\\n}',\n",
       "       'Centro': 'TYPE: string COMMENT: {\\n  \"description\": \"Centro\",\\n  \"synonyms\": \"\",\\n  \"column type\": \"STRING\",\\n  \"column content\": \"\",\\n  \"examples\": \"\"\\n}',\n",
       "       'Material': 'TYPE: string COMMENT: {\\n  \"description\": \"Código do material\",\\n  \"synonyms\": \"\",\\n  \"column type\": \"STRING\",\\n  \"column content\": \"\",\\n  \"examples\": \"\"\\n}',\n",
       "       'Quantidade_Entrada': 'TYPE: float COMMENT: {\\n  \"description\": \"Quantidade entrada na operação\",\\n  \"synonyms\": \"\",\\n  \"column type\": \"FLOAT\",\\n  \"column content\": \"\",\\n  \"examples\": \"\"\\n}',\n",
       "       'Unidade_Medida': 'TYPE: string COMMENT: {\\n  \"description\": \"Unidade de medida\",\\n  \"synonyms\": \"\",\\n  \"column type\": \"STRING\",\\n  \"column content\": \"\",\\n  \"examples\": \"\"\\n}',\n",
       "       'Chave_subno': 'TYPE: string COMMENT: {\\n  \"description\": \"CO chave subnº\",\\n  \"synonyms\": \"\",\\n  \"column type\": \"STRING\",\\n  \"column content\": \"\",\\n  \"examples\": \"\"\\n}',\n",
       "       'Item_Doc_Ref': 'TYPE: string COMMENT: {\\n  \"description\": \"Item do documento de referência\",\\n  \"synonyms\": \"\",\\n  \"column type\": \"STRING\",\\n  \"column content\": \"\",\\n  \"examples\": \"\"\\n}',\n",
       "       'Categoria_Doc_Ref': 'TYPE: string COMMENT: {\\n  \"description\": \"Categoria do documento de referência\",\\n  \"synonyms\": \"\",\\n  \"column type\": \"STRING\",\\n  \"column content\": \"\",\\n  \"examples\": \"\"\\n}',\n",
       "       'Documento_Referencia': 'TYPE: string COMMENT: {\\n  \"description\": \"Documento de referência do documento de CO\",\\n  \"synonyms\": \"\",\\n  \"column type\": \"STRING\",\\n  \"column content\": \"\",\\n  \"examples\": \"\"\\n}',\n",
       "       'Empresa_Doc_Ref': 'TYPE: string COMMENT: {\\n  \"description\": \"Empresa do documento de referência\",\\n  \"synonyms\": \"\",\\n  \"column type\": \"STRING\",\\n  \"column content\": \"\",\\n  \"examples\": \"\"\\n}',\n",
       "       'Exercicio_Doc_Ref': 'TYPE: int COMMENT: {\\n  \"description\": \"Exercício do documento de referência\",\\n  \"synonyms\": \"\",\\n  \"column type\": \"INT\",\\n  \"column content\": \"\",\\n  \"examples\": \"\"\\n}',\n",
       "       'Tipo_Doc_Ref': 'TYPE: string COMMENT: {\\n  \"description\": \"Tipo do documento de referência de FI\",\\n  \"synonyms\": \"\",\\n  \"column type\": \"STRING\",\\n  \"column content\": \"\",\\n  \"examples\": \"\"\\n}',\n",
       "       'Conta_Contrapartida': 'TYPE: string COMMENT: {\\n  \"description\": \"Conta de contrapartida do item de registro do documento de CO\",\\n  \"synonyms\": \"\",\\n  \"column type\": \"STRING\",\\n  \"column content\": \"\",\\n  \"examples\": \"\"\\n}',\n",
       "       'Status': 'TYPE: string COMMENT: {\\n  \"description\": \"Observação do Lançamento\",\\n  \"synonyms\": \"\",\\n  \"column type\": \"STRING\",\\n  \"column content\": \"\",\\n  \"examples\": \"\"\\n}',\n",
       "       'Rateio_acumulado': 'TYPE: string COMMENT: {\\n  \"description\": \"Coluna Rateio * Rateio Acumulado do nível de repasse anterior\",\\n  \"synonyms\": \"\",\\n  \"column type\": \"STRING\",\\n  \"column content\": \"\",\\n  \"examples\": \"\"\\n}',\n",
       "       'Origem_Repasse': 'TYPE: string COMMENT: {\\n  \"description\": \"Classificação Origem – G e Repasse - R\",\\n  \"synonyms\": \"\",\\n  \"column type\": \"STRING\",\\n  \"column content\": \"\",\\n  \"examples\": \"\"\\n}',\n",
       "       'Tipo_do_objeto_de_custo': 'TYPE: string COMMENT: {\\n  \"description\": \"Tipo do objeto de custo\",\\n  \"synonyms\": \"\",\\n  \"column type\": \"STRING\",\\n  \"column content\": \"\",\\n  \"examples\": \"\"\\n}',\n",
       "       'Tipo_do_objeto_parceiro': 'TYPE: string COMMENT: {\\n  \"description\": \"Tipo do objeto parceiro\",\\n  \"synonyms\": \"\",\\n  \"column type\": \"STRING\",\\n  \"column content\": \"\",\\n  \"examples\": \"\"\\n}',\n",
       "       'Grupo_de_conta': 'TYPE: string COMMENT: {\\n  \"description\": \"Grupo de conta (4, 5 ou 6)\",\\n  \"synonyms\": \"\",\\n  \"column type\": \"STRING\",\\n  \"column content\": \"\",\\n  \"examples\": \"\"\\n}',\n",
       "       'Conta_reduzida': 'TYPE: string COMMENT: {\\n  \"description\": \"Dois primeiros dígitos das classes de custos\",\\n  \"synonyms\": \"\",\\n  \"column type\": \"STRING\",\\n  \"column content\": \"\",\\n  \"examples\": \"\"\\n}',\n",
       "       'Tipo_de_custos': 'TYPE: string COMMENT: {\\n  \"description\": \"Informação utilizada para contabilidade de parcerias\",\\n  \"synonyms\": \"\",\\n  \"column type\": \"STRING\",\\n  \"column content\": \"\",\\n  \"examples\": \"\"\\n}',\n",
       "       'Texto_breve_material': 'TYPE: string COMMENT: {\\n  \"description\": \"Texto breve do material\",\\n  \"synonyms\": \"\",\\n  \"column type\": \"STRING\",\\n  \"column content\": \"\",\\n  \"examples\": \"\"\\n}',\n",
       "       'Tipo_de_avaliacao': 'TYPE: string COMMENT: {\\n  \"description\": \"Código que identifica univocamente os estoques avaliados separadamente de um material.\",\\n  \"synonyms\": \"\",\\n  \"column type\": \"STRING\",\\n  \"column content\": \"\",\\n  \"examples\": \"\"\\n}',\n",
       "       'Contrato_basico': 'TYPE: string COMMENT: {\\n  \"description\": \"Contrato básico que subsidia a operação\",\\n  \"synonyms\": \"\",\\n  \"column type\": \"STRING\",\\n  \"column content\": \"\",\\n  \"examples\": \"\"\\n}',\n",
       "       'Instrumento_Contratual_Juridico': 'TYPE: string COMMENT: {\\n  \"description\": \"Instrumento Contratual Jurídico\",\\n  \"synonyms\": \"\",\\n  \"column type\": \"STRING\",\\n  \"column content\": \"\",\\n  \"examples\": \"\"\\n}',\n",
       "       'Fornecedor': 'TYPE: string COMMENT: {\\n  \"description\": \"Código do Fornecedor\",\\n  \"synonyms\": \"\",\\n  \"column type\": \"STRING\",\\n  \"column content\": \"\",\\n  \"examples\": \"\"\\n}',\n",
       "       'Nome_completo_do_Fornecedor': 'TYPE: string COMMENT: {\\n  \"description\": \"Nome completo do Fornecedor\",\\n  \"synonyms\": \"\",\\n  \"column type\": \"STRING\",\\n  \"column content\": \"\",\\n  \"examples\": \"\"\\n}',\n",
       "       'N_nota_fiscal': 'TYPE: string COMMENT: {\\n  \"description\": \"Nº nota fiscal\",\\n  \"synonyms\": \"\",\\n  \"column type\": \"STRING\",\\n  \"column content\": \"\",\\n  \"examples\": \"\"\\n}',\n",
       "       'N_da_NF_e': 'TYPE: string COMMENT: {\\n  \"description\": \"Nº da NF-e\",\\n  \"synonyms\": \"\",\\n  \"column type\": \"STRING\",\\n  \"column content\": \"\",\\n  \"examples\": \"\"\\n}',\n",
       "       'Protocolo_de_Recebimento_de_Nota_Fiscal': 'TYPE: string COMMENT: {\\n  \"description\": \"Protocolo de Recebimento de Nota Fiscal\",\\n  \"synonyms\": \"\",\\n  \"column type\": \"STRING\",\\n  \"column content\": \"\",\\n  \"examples\": \"\"\\n}',\n",
       "       'N_de_documento_da_fatura': 'TYPE: string COMMENT: {\\n  \"description\": \"Nº de documento da fatura - MIRO\",\\n  \"synonyms\": \"\",\\n  \"column type\": \"STRING\",\\n  \"column content\": \"\",\\n  \"examples\": \"\"\\n}',\n",
       "       'Exercicio_da_fatura': 'TYPE: string COMMENT: {\\n  \"description\": \"Exercício da fatura\",\\n  \"synonyms\": \"\",\\n  \"column type\": \"STRING\",\\n  \"column content\": \"\",\\n  \"examples\": \"\"\\n}',\n",
       "       'Folha_reg_servicos': 'TYPE: string COMMENT: {\\n  \"description\": \"Folha de registro de serviços - FRS\",\\n  \"synonyms\": \"\",\\n  \"column type\": \"STRING\",\\n  \"column content\": \"\",\\n  \"examples\": \"\"\\n}',\n",
       "       'Relatorio_de_Medicao': 'TYPE: string COMMENT: {\\n  \"description\": \"Registro de Medição - RM\",\\n  \"synonyms\": \"\",\\n  \"column type\": \"STRING\",\\n  \"column content\": \"\",\\n  \"examples\": \"\"\\n}',\n",
       "       'Doc_material': 'TYPE: string COMMENT: {\\n  \"description\": \"Documento de material - MIGO\",\\n  \"synonyms\": \"\",\\n  \"column type\": \"STRING\",\\n  \"column content\": \"\",\\n  \"examples\": \"\"\\n}',\n",
       "       'Chave_de_acesso_da_NF_e': 'TYPE: string COMMENT: {\\n  \"description\": \"Chave de acesso da NF-e\",\\n  \"synonyms\": \"\",\\n  \"column type\": \"STRING\",\\n  \"column content\": \"\",\\n  \"examples\": \"\"\\n}',\n",
       "       'Observacoes': 'TYPE: string COMMENT: {\\n  \"description\": \"Campo para controle de análise e geração do arquivo\",\\n  \"synonyms\": \"\",\\n  \"column type\": \"STRING\",\\n  \"column content\": \"\",\\n  \"examples\": \"\"\\n}',\n",
       "       'Objeto_Parceiro_Ajustado_H': 'TYPE: string COMMENT: {\\n  \"description\": \"Campo adicional para viabilizar lógica de análise. Classifica os objetos em seu nível final na cadeia de repasse (FOLHA, MATERIALIDADE, DEMANDA) \",\\n  \"synonyms\": \"\",\\n  \"column type\": \"STRING\",\\n  \"column content\": \"\",\\n  \"examples\": \"\"\\n}',\n",
       "       'Rateio_Acumulado_H': 'TYPE: float COMMENT: {\\n  \"description\": \"Coluna Rateio * Rateio Acumulado do nível de repasse anterior\",\\n  \"synonyms\": \"\",\\n  \"column type\": \"FLOAT\",\\n  \"column content\": \"\",\\n  \"examples\": \"\"\\n}',\n",
       "       'Valor_Calculado_H': 'TYPE: float COMMENT: {\\n  \"description\": \"Valor Calculado (Valor * Rateio Acumulado)\",\\n  \"synonyms\": \"\",\\n  \"column type\": \"FLOAT\",\\n  \"column content\": \"\",\\n  \"examples\": \"\"\\n}',\n",
       "       'Valor_Calculado_R': 'TYPE: float COMMENT: {\\n  \"description\": \"Valor Calculado (Montante * Rateio Acumulado)\",\\n  \"synonyms\": \"\",\\n  \"column type\": \"FLOAT\",\\n  \"column content\": \"\",\\n  \"examples\": \"\"\\n}',\n",
       "       'id': 'TYPE: string COMMENT: {\\n  \"description\": \"Identificador único para as linhas da tabela\",\\n  \"synonyms\": [\\n    \"chave, chave primária, key, primary key\"\\n  ],\\n  \"column type\": \"STRING\",\\n  \"column content\": \"Chave primária como string uuid\",\\n  \"examples\": \"\"\\n}',\n",
       "       'folder': 'TYPE: string COMMENT: {\\n  \"description\": \"Nome da pasta com base no período\",\\n  \"synonyms\": \"\",\\n  \"column type\": \"STRING\",\\n  \"column content\": \"Utiliz o padrão: aaaa/0mm. Exemplo: \"2015_012\"\",\\n  \"examples\": \"\"\\n}',\n",
       "       'status_processamento': 'TYPE: string COMMENT: {\\n  \"description\": \"Informação sobre status de processamento da pasta\",\\n  \"synonyms\": \"\",\\n  \"column type\": \"STRING\",\\n  \"column content\": [\\n    \"PROCESSADOS\",\\n    \"NAO_PROCESSADOS\"\\n  ],\\n  \"examples\": \"\"\\n}'},\n",
       "      'grants': [191, 361]}}},\n",
       "   'Estoque_Produtos': {'process_description': 'Análise das contas de estoques de produtos registradas na transação CKM3 para montagem do custeio e outras análises relacionadas.',\n",
       "    'relationships': '',\n",
       "    'tables': {'ckm3_custeio': {'address': 'dt0047_prd.custeio.base_acumulada_custeio_ckm3',\n",
       "      'description': '\"CKM3\"',\n",
       "      'columns': {'classificao': 'TYPE: string COMMENT: {\\n  \"description\": \"\",\\n  \"synonyms\": \"\",\\n  \"column type\": \"STRING\",\\n  \"column content\": \"\",\\n  \"examples\": \"\"\\n}',\n",
       "       'agrupamento_grupo_de_mercadorias': 'TYPE: string COMMENT: {\\n  \"description\": \"\",\\n  \"synonyms\": \"\",\\n  \"column type\": \"STRING\",\\n  \"column content\": \"\",\\n  \"examples\": \"\"\\n}',\n",
       "       'grupo_de_mercadorias': 'TYPE: string COMMENT: {\\n  \"description\": \"\",\\n  \"synonyms\": \"\",\\n  \"column type\": \"STRING\",\\n  \"column content\": \"\",\\n  \"examples\": \"\"\\n}',\n",
       "       'desc_gr_merc': 'TYPE: string COMMENT: {\\n  \"description\": \"\",\\n  \"synonyms\": \"\",\\n  \"column type\": \"STRING\",\\n  \"column content\": \"\",\\n  \"examples\": \"\"\\n}',\n",
       "       'centro_de_lucro': 'TYPE: string COMMENT: {\\n  \"description\": \"\",\\n  \"synonyms\": \"\",\\n  \"column type\": \"STRING\",\\n  \"column content\": \"\",\\n  \"examples\": \"\"\\n}',\n",
       "       'desc_clucro': 'TYPE: string COMMENT: {\\n  \"description\": \"\",\\n  \"synonyms\": \"\",\\n  \"column type\": \"STRING\",\\n  \"column content\": \"\",\\n  \"examples\": \"\"\\n}',\n",
       "       'classe_de_avaliacao': 'TYPE: string COMMENT: {\\n  \"description\": \"\",\\n  \"synonyms\": \"\",\\n  \"column type\": \"STRING\",\\n  \"column content\": \"\",\\n  \"examples\": \"\"\\n}',\n",
       "       'desc_classe_aval': 'TYPE: string COMMENT: {\\n  \"description\": \"\",\\n  \"synonyms\": \"\",\\n  \"column type\": \"STRING\",\\n  \"column content\": \"\",\\n  \"examples\": \"\"\\n}',\n",
       "       'centro': 'TYPE: string COMMENT: {\\n  \"description\": \"\",\\n  \"synonyms\": \"\",\\n  \"column type\": \"STRING\",\\n  \"column content\": \"\",\\n  \"examples\": \"\"\\n}',\n",
       "       'desc_centro': 'TYPE: string COMMENT: {\\n  \"description\": \"\",\\n  \"synonyms\": \"\",\\n  \"column type\": \"STRING\",\\n  \"column content\": \"\",\\n  \"examples\": \"\"\\n}',\n",
       "       'tp_material': 'TYPE: string COMMENT: {\\n  \"description\": \"\",\\n  \"synonyms\": \"\",\\n  \"column type\": \"STRING\",\\n  \"column content\": \"\",\\n  \"examples\": \"\"\\n}',\n",
       "       'un_medida': 'TYPE: string COMMENT: {\\n  \"description\": \"\",\\n  \"synonyms\": \"\",\\n  \"column type\": \"STRING\",\\n  \"column content\": \"\",\\n  \"examples\": \"\"\\n}',\n",
       "       'material': 'TYPE: string COMMENT: {\\n  \"description\": \"\",\\n  \"synonyms\": \"\",\\n  \"column type\": \"STRING\",\\n  \"column content\": \"\",\\n  \"examples\": \"\"\\n}',\n",
       "       'desc_material': 'TYPE: string COMMENT: {\\n  \"description\": \"\",\\n  \"synonyms\": \"\",\\n  \"column type\": \"STRING\",\\n  \"column content\": \"\",\\n  \"examples\": \"\"\\n}',\n",
       "       'tipo_de_avaliacao': 'TYPE: string COMMENT: {\\n  \"description\": \"\",\\n  \"synonyms\": \"\",\\n  \"column type\": \"STRING\",\\n  \"column content\": \"\",\\n  \"examples\": \"\"\\n}',\n",
       "       'exercicio_periodo': 'TYPE: string COMMENT: {\\n  \"description\": \"\",\\n  \"synonyms\": \"\",\\n  \"column type\": \"STRING\",\\n  \"column content\": \"\",\\n  \"examples\": \"\"\\n}',\n",
       "       'quantidade_em_umb_moeda_10': 'TYPE: float COMMENT: {\\n  \"description\": \"\",\\n  \"synonyms\": \"\",\\n  \"column type\": \"FLOAT\",\\n  \"column content\": \"\",\\n  \"examples\": \"\"\\n}',\n",
       "       'valor_moeda_10': 'TYPE: float COMMENT: {\\n  \"description\": \"\",\\n  \"synonyms\": \"\",\\n  \"column type\": \"FLOAT\",\\n  \"column content\": \"\",\\n  \"examples\": \"\"\\n}',\n",
       "       'dif__preco_nivel_unico_moeda_10': 'TYPE: float COMMENT: {\\n  \"description\": \"\",\\n  \"synonyms\": \"\",\\n  \"column type\": \"FLOAT\",\\n  \"column content\": \"\",\\n  \"examples\": \"\"\\n}',\n",
       "       'dif__preco_multinivel_moeda_10': 'TYPE: float COMMENT: {\\n  \"description\": \"\",\\n  \"synonyms\": \"\",\\n  \"column type\": \"FLOAT\",\\n  \"column content\": \"\",\\n  \"examples\": \"\"\\n}',\n",
       "       'custo_total_do_material_moeda_10': 'TYPE: float COMMENT: {\\n  \"description\": \"\",\\n  \"synonyms\": \"\",\\n  \"column type\": \"FLOAT\",\\n  \"column content\": \"\",\\n  \"examples\": \"\"\\n}',\n",
       "       'custo_total_do_material_moeda_12': 'TYPE: float COMMENT: {\\n  \"description\": \"\",\\n  \"synonyms\": \"\",\\n  \"column type\": \"FLOAT\",\\n  \"column content\": \"\",\\n  \"examples\": \"\"\\n}',\n",
       "       'custo_total_do_material_moeda_30': 'TYPE: float COMMENT: {\\n  \"description\": \"\",\\n  \"synonyms\": \"\",\\n  \"column type\": \"FLOAT\",\\n  \"column content\": \"\",\\n  \"examples\": \"\"\\n}',\n",
       "       'custo_unit_umb': 'TYPE: float COMMENT: {\\n  \"description\": \"\",\\n  \"synonyms\": \"\",\\n  \"column type\": \"FLOAT\",\\n  \"column content\": \"\",\\n  \"examples\": \"\"\\n}',\n",
       "       'chave_m20': 'TYPE: string COMMENT: {\\n  \"description\": \"\",\\n  \"synonyms\": \"\",\\n  \"column type\": \"STRING\",\\n  \"column content\": \"\",\\n  \"examples\": \"\"\\n}',\n",
       "       'fator': 'TYPE: float COMMENT: {\\n  \"description\": \"\",\\n  \"synonyms\": \"\",\\n  \"column type\": \"FLOAT\",\\n  \"column content\": \"\",\\n  \"examples\": \"\"\\n}',\n",
       "       'quant_m20': 'TYPE: float COMMENT: {\\n  \"description\": \"\",\\n  \"synonyms\": \"\",\\n  \"column type\": \"FLOAT\",\\n  \"column content\": \"\",\\n  \"examples\": \"\"\\n}',\n",
       "       'valor_reais': 'TYPE: float COMMENT: {\\n  \"description\": \"\",\\n  \"synonyms\": \"\",\\n  \"column type\": \"FLOAT\",\\n  \"column content\": \"\",\\n  \"examples\": \"\"\\n}',\n",
       "       'conta': 'TYPE: string COMMENT: {\\n  \"description\": \"\",\\n  \"synonyms\": \"\",\\n  \"column type\": \"STRING\",\\n  \"column content\": \"\",\\n  \"examples\": \"\"\\n}',\n",
       "       'tipo': 'TYPE: string COMMENT: {\\n  \"description\": \"\",\\n  \"synonyms\": \"\",\\n  \"column type\": \"STRING\",\\n  \"column content\": \"\",\\n  \"examples\": \"\"\\n}',\n",
       "       'grupamento': 'TYPE: string COMMENT: {\\n  \"description\": \"\",\\n  \"synonyms\": \"\",\\n  \"column type\": \"STRING\",\\n  \"column content\": \"\",\\n  \"examples\": \"\"\\n}',\n",
       "       'uo': 'TYPE: string COMMENT: {\\n  \"description\": \"\",\\n  \"synonyms\": \"\",\\n  \"column type\": \"STRING\",\\n  \"column content\": \"\",\\n  \"examples\": \"\"\\n}',\n",
       "       'c_unit': 'TYPE: string COMMENT: {\\n  \"description\": \"\",\\n  \"synonyms\": \"\",\\n  \"column type\": \"STRING\",\\n  \"column content\": \"\",\\n  \"examples\": \"\"\\n}',\n",
       "       'es': 'TYPE: string COMMENT: {\\n  \"description\": \"\",\\n  \"synonyms\": \"\",\\n  \"column type\": \"STRING\",\\n  \"column content\": \"\",\\n  \"examples\": \"\"\\n}',\n",
       "       'empresa': 'TYPE: string COMMENT: {\\n  \"description\": \"\",\\n  \"synonyms\": \"\",\\n  \"column type\": \"STRING\",\\n  \"column content\": \"\",\\n  \"examples\": \"\"\\n}',\n",
       "       'ano': 'TYPE: int COMMENT: {\\n  \"description\": \"\",\\n  \"synonyms\": \"\",\\n  \"column type\": \"INT\",\\n  \"column content\": \"\",\\n  \"examples\": \"\"\\n}',\n",
       "       'periodo': 'TYPE: int COMMENT: {\\n  \"description\": \"\",\\n  \"synonyms\": \"\",\\n  \"column type\": \"INT\",\\n  \"column content\": \"\",\\n  \"examples\": \"\"\\n}',\n",
       "       'ab_eep_ge': 'TYPE: string COMMENT: {\\n  \"description\": \"\",\\n  \"synonyms\": \"\",\\n  \"column type\": \"STRING\",\\n  \"column content\": \"\",\\n  \"examples\": \"\"\\n}',\n",
       "       'mes_ano': 'TYPE: string COMMENT: {\\n  \"description\": \"\",\\n  \"synonyms\": \"\",\\n  \"column type\": \"STRING\",\\n  \"column content\": \"\",\\n  \"examples\": \"\"\\n}',\n",
       "       'origem': 'TYPE: string COMMENT: {\\n  \"description\": \"\",\\n  \"synonyms\": \"\",\\n  \"column type\": \"STRING\",\\n  \"column content\": \"\",\\n  \"examples\": \"\"\\n}'},\n",
       "      'grants': [411, 191]}}}}},\n",
       " 'data_sources': {'intimacoes_sefaz_rj_pgov_gastos': {'process_description': 'Rateio de gastos auditados pela SEFAZ-RJ relacionados às participações governamentais',\n",
       "   'relationships': 'A tabela 1 se relaciona com a 2 usando o campo abc',\n",
       "   'tables': {'base_h': {'address': 'dt0047_prd.gastos.base_h_pgov_sefaz_rj_gastos',\n",
       "     'description': '\"Tabela H\"',\n",
       "     'columns': {'Mandante': 'TYPE: string COMMENT: {\\n  \"description\": \"Mandante no Sistema SAP\",\\n  \"synonyms\": \"\",\\n  \"column type\": \"STRING\",\\n  \"column content\": \"\",\\n  \"examples\": \"\"\\n}',\n",
       "      'Objeto_Pesquisado': 'TYPE: string COMMENT: {\\n  \"description\": \"Objeto de Custo a ser extraído no programa de extração de arquivos\",\\n  \"synonyms\": \"\",\\n  \"column type\": \"STRING\",\\n  \"column content\": \"\",\\n  \"examples\": \"\"\\n}',\n",
       "      'Periodo': 'TYPE: int COMMENT: {\\n  \"description\": \"Período da extração\",\\n  \"synonyms\": \"\",\\n  \"column type\": \"INT\",\\n  \"column content\": \"\",\\n  \"examples\": \"\"\\n}',\n",
       "      'Exercicio': 'TYPE: int COMMENT: {\\n  \"description\": \"Exercício da extração\",\\n  \"synonyms\": \"\",\\n  \"column type\": \"INT\",\\n  \"column content\": \"\",\\n  \"examples\": \"\"\\n}',\n",
       "      'Etapa': 'TYPE: int COMMENT: {\\n  \"description\": \"Representa etapas macro de repasse de um fluxo ou árvore de repasses\",\\n  \"synonyms\": \"\",\\n  \"column type\": \"INT\",\\n  \"column content\": \"\",\\n  \"examples\": \"\"\\n}',\n",
       "      'Node1_H': 'TYPE: string COMMENT: {\\n  \"description\": \"Identação ou quebra dos subníveis de uma árvore de repasses\",\\n  \"synonyms\": \"\",\\n  \"column type\": \"STRING\",\\n  \"column content\": \"\",\\n  \"examples\": \"\"\\n}',\n",
       "      'Node2': 'TYPE: string COMMENT: {\\n  \"description\": \"último subnível de uma cadeia de repasses, usado para lógica de agregação dos repasses\",\\n  \"synonyms\": \"\",\\n  \"column type\": \"STRING\",\\n  \"column content\": \"\",\\n  \"examples\": \"\"\\n}',\n",
       "      'Ordenacao': 'TYPE: string COMMENT: {\\n  \"description\": \"Identificador de ligação entre os registros do arquivo de Repasses com seu registro correspondente no arquivo de Hierarquia.\",\\n  \"synonyms\": \"\",\\n  \"column type\": \"STRING\",\\n  \"column content\": \"\",\\n  \"examples\": \"\"\\n}',\n",
       "      'Pesquisa': 'TYPE: string COMMENT: {\\n  \"description\": \"Representa a quantidade de níveis macro numa árvore de repasses\",\\n  \"synonyms\": \"\",\\n  \"column type\": \"STRING\",\\n  \"column content\": \"\",\\n  \"examples\": \"\"\\n}',\n",
       "      'Node_Pai': 'TYPE: string COMMENT: {\\n  \"description\": \"Representa a cadeia de repasses até o penúltimo subnível, usado para a lógica de agregação dos repasses\",\\n  \"synonyms\": \"\",\\n  \"column type\": \"STRING\",\\n  \"column content\": \"\",\\n  \"examples\": \"\"\\n}',\n",
       "      'Objeto': 'TYPE: string COMMENT: {\\n  \"description\": \"Objeto de Custo de um conjunto de operações de CO\",\\n  \"synonyms\": \"\",\\n  \"column type\": \"STRING\",\\n  \"column content\": \"\",\\n  \"examples\": \"\"\\n}',\n",
       "      'Objeto_Parceiro': 'TYPE: string COMMENT: {\\n  \"description\": \"Objeto de custo parceiro de um conjunto de operações de CO\",\\n  \"synonyms\": \"\",\\n  \"column type\": \"STRING\",\\n  \"column content\": \"\",\\n  \"examples\": \"\"\\n}',\n",
       "      'Objeto_Parceiro_Ajustado_H': 'TYPE: string COMMENT: {\\n  \"description\": \"Campo adicional para viabilizar lógica de análise. Classifica os objetos em seu nível final na cadeia de repasse (FOLHA, MATERIALIDADE, DEMANDA) \",\\n  \"synonyms\": \"\",\\n  \"column type\": \"STRING\",\\n  \"column content\": \"\",\\n  \"examples\": \"\"\\n}',\n",
       "      'Valor': 'TYPE: float COMMENT: {\\n  \"description\": \"Valor que um objeto recebe de seu parceiro para cada linha de registro\",\\n  \"synonyms\": \"\",\\n  \"column type\": \"FLOAT\",\\n  \"column content\": \"\",\\n  \"examples\": \"\"\\n}',\n",
       "      'Moeda': 'TYPE: string COMMENT: {\\n  \"description\": \"Moeda do Valor que um objeto recebe de seu parceiro para cada linha de registro\",\\n  \"synonyms\": \"\",\\n  \"column type\": \"STRING\",\\n  \"column content\": \"\",\\n  \"examples\": \"\"\\n}',\n",
       "      'Total': 'TYPE: float COMMENT: {\\n  \"description\": \"Total do gasto do objeto parceiro\",\\n  \"synonyms\": \"\",\\n  \"column type\": \"FLOAT\",\\n  \"column content\": \"\",\\n  \"examples\": \"\"\\n}',\n",
       "      'Rateio': 'TYPE: float COMMENT: {\\n  \"description\": \"% de rateio alocado ao Objeto. Calculado com base na coluna (Valor/Total)*100 \",\\n  \"synonyms\": \"\",\\n  \"column type\": \"FLOAT\",\\n  \"column content\": \"\",\\n  \"examples\": \"\"\\n}',\n",
       "      'Rateio_Acumulado_H': 'TYPE: float COMMENT: {\\n  \"description\": \"Coluna Rateio * Rateio Acumulado do nível de repasse anterior\",\\n  \"synonyms\": \"\",\\n  \"column type\": \"FLOAT\",\\n  \"column content\": \"\",\\n  \"examples\": \"\"\\n}',\n",
       "      'Ciclo_Rateio': 'TYPE: string COMMENT: {\\n  \"description\": \"Código do Ciclo de rateio envolvido na operação\",\\n  \"synonyms\": \"\",\\n  \"column type\": \"STRING\",\\n  \"column content\": \"\",\\n  \"examples\": \"\"\\n}',\n",
       "      'Valor_Calculado_H': 'TYPE: float COMMENT: {\\n  \"description\": \"Valor Calculado (Valor * Rateio Acumulado)\",\\n  \"synonyms\": \"\",\\n  \"column type\": \"FLOAT\",\\n  \"column content\": \"\",\\n  \"examples\": \"\"\\n}',\n",
       "      'id': 'TYPE: string COMMENT: {\\n  \"description\": \"Identificador único para as linhas da tabela\",\\n  \"synonyms\": [\\n    \"chave, chave primária, key, primary key\"\\n  ],\\n  \"column type\": \"STRING\",\\n  \"column content\": \"Chave primária como string uuid\",\\n  \"examples\": \"\"\\n}',\n",
       "      'folder': 'TYPE: string COMMENT: {\\n  \"description\": \"Nome da pasta com base no período\",\\n  \"synonyms\": \"\",\\n  \"column type\": \"STRING\",\\n  \"column content\": \"Utiliz o padrão: aaaa/0mm. Exemplo: \"2015_012\"\",\\n  \"examples\": \"\"\\n}',\n",
       "      'status_processamento': 'TYPE: string COMMENT: {\\n  \"description\": \"Informação sobre status de processamento da pasta\",\\n  \"synonyms\": \"\",\\n  \"column type\": \"STRING\",\\n  \"column content\": [\\n    \"PROCESSADOS\",\\n    \"NAO_PROCESSADOS\"\\n  ],\\n  \"examples\": \"\"\\n}'},\n",
       "     'grants': [191, 361]},\n",
       "    'base_r': {'address': 'dt0047_prd.gastos.base_r_pgov_sefaz_rj_gastos',\n",
       "     'description': '\"Tabela R\"',\n",
       "     'columns': {'Mandante': 'TYPE: string COMMENT: {\\n  \"description\": \"Mandante no Sistema SAP\",\\n  \"synonyms\": \"\",\\n  \"column type\": \"STRING\",\\n  \"column content\": \"\",\\n  \"examples\": \"\"\\n}',\n",
       "      'Objeto_Pesquisado': 'TYPE: string COMMENT: {\\n  \"description\": \"Objeto de Custo a ser extraído no programa de extração de arquivos\",\\n  \"synonyms\": \"\",\\n  \"column type\": \"STRING\",\\n  \"column content\": \"\",\\n  \"examples\": \"\"\\n}',\n",
       "      'Documento_CO': 'TYPE: string COMMENT: {\\n  \"description\": \"Documento de Contabilidade de Custos (módulo CO) onde é registrada uma operação de contabilidade de custos.\",\\n  \"synonyms\": \"\",\\n  \"column type\": \"STRING\",\\n  \"column content\": \"\",\\n  \"examples\": \"\"\\n}',\n",
       "      'Item': 'TYPE: string COMMENT: {\\n  \"description\": \"Item de um documento de CO.  Representa uma partida de um documento contábil de CO\",\\n  \"synonyms\": \"\",\\n  \"column type\": \"STRING\",\\n  \"column content\": \"\",\\n  \"examples\": \"\"\\n}',\n",
       "      'Periodo': 'TYPE: int COMMENT: {\\n  \"description\": \"Período da extração\",\\n  \"synonyms\": \"\",\\n  \"column type\": \"INT\",\\n  \"column content\": \"\",\\n  \"examples\": \"\"\\n}',\n",
       "      'Exercicio': 'TYPE: int COMMENT: {\\n  \"description\": \"Exercício da extração\",\\n  \"synonyms\": \"\",\\n  \"column type\": \"INT\",\\n  \"column content\": \"\",\\n  \"examples\": \"\"\\n}',\n",
       "      'Versao': 'TYPE: string COMMENT: {\\n  \"description\": \"Agrupamento, com base na área de contabilidade de custos, de códigos dependentes do ano para dados planejados. Sempre será versão 0 – Versão planejado/real\",\\n  \"synonyms\": \"\",\\n  \"column type\": \"STRING\",\\n  \"column content\": \"\",\\n  \"examples\": \"\"\\n}',\n",
       "      'Ledger': 'TYPE: string COMMENT: {\\n  \"description\": \"Ledger para objetos de controlling.  Sempre será Ledger 0 – ledger standard\",\\n  \"synonyms\": \"\",\\n  \"column type\": \"STRING\",\\n  \"column content\": \"\",\\n  \"examples\": \"\"\\n}',\n",
       "      'Montante': 'TYPE: float COMMENT: {\\n  \"description\": \"Valor do item do documento CO \",\\n  \"synonyms\": \"\",\\n  \"column type\": \"FLOAT\",\\n  \"column content\": \"\",\\n  \"examples\": \"\"\\n}',\n",
       "      'Objeto': 'TYPE: string COMMENT: {\\n  \"description\": \"Objeto de Custo de um conjunto de operações de CO\",\\n  \"synonyms\": \"\",\\n  \"column type\": \"STRING\",\\n  \"column content\": \"\",\\n  \"examples\": \"\"\\n}',\n",
       "      'Objeto_Parceiro': 'TYPE: string COMMENT: {\\n  \"description\": \"Objeto de custo parceiro de um conjunto de operações de CO\",\\n  \"synonyms\": \"\",\\n  \"column type\": \"STRING\",\\n  \"column content\": \"\",\\n  \"examples\": \"\"\\n}',\n",
       "      'C_D': 'TYPE: string COMMENT: {\\n  \"description\": \"S – Lançamento a débito ou débito receptor; H -> Lançamento a Crédito ou crédito emissor ; A -> Liquidação de Ordem/PEP \",\\n  \"synonyms\": \"\",\\n  \"column type\": \"STRING\",\\n  \"column content\": \"\",\\n  \"examples\": \"\"\\n}',\n",
       "      'Ordenacao': 'TYPE: string COMMENT: {\\n  \"description\": \"Identificador de ligação entre os registros do arquivo de Repasses com seu registro correspondente no arquivo de Hierarquia.\",\\n  \"synonyms\": \"\",\\n  \"column type\": \"STRING\",\\n  \"column content\": \"\",\\n  \"examples\": \"\"\\n}',\n",
       "      'Pesquisa': 'TYPE: string COMMENT: {\\n  \"description\": \"Representa a quantidade de níveis macro numa árvore de repasses\",\\n  \"synonyms\": \"\",\\n  \"column type\": \"STRING\",\\n  \"column content\": \"\",\\n  \"examples\": \"\"\\n}',\n",
       "      'Moeda': 'TYPE: string COMMENT: {\\n  \"description\": \"Moeda do Valor que um objeto recebe de seu parceiro para cada linha de registro\",\\n  \"synonyms\": \"\",\\n  \"column type\": \"STRING\",\\n  \"column content\": \"\",\\n  \"examples\": \"\"\\n}',\n",
       "      'Objeto_Parceiro_Ajustado': 'TYPE: string COMMENT: {\\n  \"description\": \"Campo adicional para viabilizar lógica de análise. Classifica os objetos em seu nível final na cadeia de repasse (FOLHA, MATERIALIDADE, DEMANDA) \",\\n  \"synonyms\": \"\",\\n  \"column type\": \"STRING\",\\n  \"column content\": \"\",\\n  \"examples\": \"\"\\n}',\n",
       "      'Data': 'TYPE: date COMMENT: {\\n  \"description\": \"Data de registro do documento de CO\",\\n  \"synonyms\": \"\",\\n  \"column type\": \"DATE\",\\n  \"column content\": \"\",\\n  \"examples\": \"\"\\n}',\n",
       "      'Hora': 'TYPE: string COMMENT: {\\n  \"description\": \"Hora do registro do documento de CO\",\\n  \"synonyms\": \"\",\\n  \"column type\": \"STRING\",\\n  \"column content\": \"\",\\n  \"examples\": \"\"\\n}',\n",
       "      'Ciclo_Rateio': 'TYPE: string COMMENT: {\\n  \"description\": \"Código do Ciclo de rateio envolvido na operação\",\\n  \"synonyms\": \"\",\\n  \"column type\": \"STRING\",\\n  \"column content\": \"\",\\n  \"examples\": \"\"\\n}',\n",
       "      'Item_Rateio': 'TYPE: string COMMENT: {\\n  \"description\": \"Assume o valor ‘0” para operações que não sejam rateio e “1” para operações de rateio \",\\n  \"synonyms\": \"\",\\n  \"column type\": \"STRING\",\\n  \"column content\": \"\",\\n  \"examples\": \"\"\\n}',\n",
       "      'Data_Rateio': 'TYPE: string COMMENT: {\\n  \"description\": \"Data da operação e rateio\",\\n  \"synonyms\": \"\",\\n  \"column type\": \"STRING\",\\n  \"column content\": \"\",\\n  \"examples\": \"\"\\n}',\n",
       "      'Operacao': 'TYPE: string COMMENT: {\\n  \"description\": \"Códigos de operação do sistema SAP\",\\n  \"synonyms\": \"\",\\n  \"column type\": \"STRING\",\\n  \"column content\": \"\",\\n  \"examples\": \"\"\\n}',\n",
       "      'Classe_de_custo': 'TYPE: string COMMENT: {\\n  \"description\": \"Contas contábeis refletidas na contabilidade de custos – módulo CO\",\\n  \"synonyms\": \"\",\\n  \"column type\": \"STRING\",\\n  \"column content\": \"\",\\n  \"examples\": \"\"\\n}',\n",
       "      'Valor_Transacao': 'TYPE: float COMMENT: {\\n  \"description\": \"Valor da transação\",\\n  \"synonyms\": \"\",\\n  \"column type\": \"FLOAT\",\\n  \"column content\": \"\",\\n  \"examples\": \"\"\\n}',\n",
       "      'Moeda_Transacao': 'TYPE: string COMMENT: {\\n  \"description\": \"Moeda da transação\",\\n  \"synonyms\": \"\",\\n  \"column type\": \"STRING\",\\n  \"column content\": \"\",\\n  \"examples\": \"\"\\n}',\n",
       "      'Doc_Compra': 'TYPE: string COMMENT: {\\n  \"description\": \"Pedido de compra\",\\n  \"synonyms\": \"\",\\n  \"column type\": \"STRING\",\\n  \"column content\": \"\",\\n  \"examples\": \"\"\\n}',\n",
       "      'Item_Doc_Compra': 'TYPE: string COMMENT: {\\n  \"description\": \"Item do pedido de compra\",\\n  \"synonyms\": \"\",\\n  \"column type\": \"STRING\",\\n  \"column content\": \"\",\\n  \"examples\": \"\"\\n}',\n",
       "      'Item_Class_Cont': 'TYPE: string COMMENT: {\\n  \"description\": \"Número que define a classificação contábil de um item do documento de compras.\",\\n  \"synonyms\": \"\",\\n  \"column type\": \"STRING\",\\n  \"column content\": \"\",\\n  \"examples\": \"\"\\n}',\n",
       "      'Centro': 'TYPE: string COMMENT: {\\n  \"description\": \"Centro\",\\n  \"synonyms\": \"\",\\n  \"column type\": \"STRING\",\\n  \"column content\": \"\",\\n  \"examples\": \"\"\\n}',\n",
       "      'Material': 'TYPE: string COMMENT: {\\n  \"description\": \"Código do material\",\\n  \"synonyms\": \"\",\\n  \"column type\": \"STRING\",\\n  \"column content\": \"\",\\n  \"examples\": \"\"\\n}',\n",
       "      'Quantidade_Entrada': 'TYPE: float COMMENT: {\\n  \"description\": \"Quantidade entrada na operação\",\\n  \"synonyms\": \"\",\\n  \"column type\": \"FLOAT\",\\n  \"column content\": \"\",\\n  \"examples\": \"\"\\n}',\n",
       "      'Unidade_Medida': 'TYPE: string COMMENT: {\\n  \"description\": \"Unidade de medida\",\\n  \"synonyms\": \"\",\\n  \"column type\": \"STRING\",\\n  \"column content\": \"\",\\n  \"examples\": \"\"\\n}',\n",
       "      'Chave_subno': 'TYPE: string COMMENT: {\\n  \"description\": \"CO chave subnº\",\\n  \"synonyms\": \"\",\\n  \"column type\": \"STRING\",\\n  \"column content\": \"\",\\n  \"examples\": \"\"\\n}',\n",
       "      'Item_Doc_Ref': 'TYPE: string COMMENT: {\\n  \"description\": \"Item do documento de referência\",\\n  \"synonyms\": \"\",\\n  \"column type\": \"STRING\",\\n  \"column content\": \"\",\\n  \"examples\": \"\"\\n}',\n",
       "      'Categoria_Doc_Ref': 'TYPE: string COMMENT: {\\n  \"description\": \"Categoria do documento de referência\",\\n  \"synonyms\": \"\",\\n  \"column type\": \"STRING\",\\n  \"column content\": \"\",\\n  \"examples\": \"\"\\n}',\n",
       "      'Documento_Referencia': 'TYPE: string COMMENT: {\\n  \"description\": \"Documento de referência do documento de CO\",\\n  \"synonyms\": \"\",\\n  \"column type\": \"STRING\",\\n  \"column content\": \"\",\\n  \"examples\": \"\"\\n}',\n",
       "      'Empresa_Doc_Ref': 'TYPE: string COMMENT: {\\n  \"description\": \"Empresa do documento de referência\",\\n  \"synonyms\": \"\",\\n  \"column type\": \"STRING\",\\n  \"column content\": \"\",\\n  \"examples\": \"\"\\n}',\n",
       "      'Exercicio_Doc_Ref': 'TYPE: int COMMENT: {\\n  \"description\": \"Exercício do documento de referência\",\\n  \"synonyms\": \"\",\\n  \"column type\": \"INT\",\\n  \"column content\": \"\",\\n  \"examples\": \"\"\\n}',\n",
       "      'Tipo_Doc_Ref': 'TYPE: string COMMENT: {\\n  \"description\": \"Tipo do documento de referência de FI\",\\n  \"synonyms\": \"\",\\n  \"column type\": \"STRING\",\\n  \"column content\": \"\",\\n  \"examples\": \"\"\\n}',\n",
       "      'Conta_Contrapartida': 'TYPE: string COMMENT: {\\n  \"description\": \"Conta de contrapartida do item de registro do documento de CO\",\\n  \"synonyms\": \"\",\\n  \"column type\": \"STRING\",\\n  \"column content\": \"\",\\n  \"examples\": \"\"\\n}',\n",
       "      'Status': 'TYPE: string COMMENT: {\\n  \"description\": \"Observação do Lançamento\",\\n  \"synonyms\": \"\",\\n  \"column type\": \"STRING\",\\n  \"column content\": \"\",\\n  \"examples\": \"\"\\n}',\n",
       "      'Rateio_acumulado': 'TYPE: string COMMENT: {\\n  \"description\": \"Coluna Rateio * Rateio Acumulado do nível de repasse anterior\",\\n  \"synonyms\": \"\",\\n  \"column type\": \"STRING\",\\n  \"column content\": \"\",\\n  \"examples\": \"\"\\n}',\n",
       "      'Origem_Repasse': 'TYPE: string COMMENT: {\\n  \"description\": \"Classificação Origem – G e Repasse - R\",\\n  \"synonyms\": \"\",\\n  \"column type\": \"STRING\",\\n  \"column content\": \"\",\\n  \"examples\": \"\"\\n}',\n",
       "      'Tipo_do_objeto_de_custo': 'TYPE: string COMMENT: {\\n  \"description\": \"Tipo do objeto de custo\",\\n  \"synonyms\": \"\",\\n  \"column type\": \"STRING\",\\n  \"column content\": \"\",\\n  \"examples\": \"\"\\n}',\n",
       "      'Tipo_do_objeto_parceiro': 'TYPE: string COMMENT: {\\n  \"description\": \"Tipo do objeto parceiro\",\\n  \"synonyms\": \"\",\\n  \"column type\": \"STRING\",\\n  \"column content\": \"\",\\n  \"examples\": \"\"\\n}',\n",
       "      'Grupo_de_conta': 'TYPE: string COMMENT: {\\n  \"description\": \"Grupo de conta (4, 5 ou 6)\",\\n  \"synonyms\": \"\",\\n  \"column type\": \"STRING\",\\n  \"column content\": \"\",\\n  \"examples\": \"\"\\n}',\n",
       "      'Conta_reduzida': 'TYPE: string COMMENT: {\\n  \"description\": \"Dois primeiros dígitos das classes de custos\",\\n  \"synonyms\": \"\",\\n  \"column type\": \"STRING\",\\n  \"column content\": \"\",\\n  \"examples\": \"\"\\n}',\n",
       "      'Tipo_de_custos': 'TYPE: string COMMENT: {\\n  \"description\": \"Informação utilizada para contabilidade de parcerias\",\\n  \"synonyms\": \"\",\\n  \"column type\": \"STRING\",\\n  \"column content\": \"\",\\n  \"examples\": \"\"\\n}',\n",
       "      'Texto_breve_material': 'TYPE: string COMMENT: {\\n  \"description\": \"Texto breve do material\",\\n  \"synonyms\": \"\",\\n  \"column type\": \"STRING\",\\n  \"column content\": \"\",\\n  \"examples\": \"\"\\n}',\n",
       "      'Tipo_de_avaliacao': 'TYPE: string COMMENT: {\\n  \"description\": \"Código que identifica univocamente os estoques avaliados separadamente de um material.\",\\n  \"synonyms\": \"\",\\n  \"column type\": \"STRING\",\\n  \"column content\": \"\",\\n  \"examples\": \"\"\\n}',\n",
       "      'Contrato_basico': 'TYPE: string COMMENT: {\\n  \"description\": \"Contrato básico que subsidia a operação\",\\n  \"synonyms\": \"\",\\n  \"column type\": \"STRING\",\\n  \"column content\": \"\",\\n  \"examples\": \"\"\\n}',\n",
       "      'Instrumento_Contratual_Juridico': 'TYPE: string COMMENT: {\\n  \"description\": \"Instrumento Contratual Jurídico\",\\n  \"synonyms\": \"\",\\n  \"column type\": \"STRING\",\\n  \"column content\": \"\",\\n  \"examples\": \"\"\\n}',\n",
       "      'Fornecedor': 'TYPE: string COMMENT: {\\n  \"description\": \"Código do Fornecedor\",\\n  \"synonyms\": \"\",\\n  \"column type\": \"STRING\",\\n  \"column content\": \"\",\\n  \"examples\": \"\"\\n}',\n",
       "      'Nome_completo_do_Fornecedor': 'TYPE: string COMMENT: {\\n  \"description\": \"Nome completo do Fornecedor\",\\n  \"synonyms\": \"\",\\n  \"column type\": \"STRING\",\\n  \"column content\": \"\",\\n  \"examples\": \"\"\\n}',\n",
       "      'N_nota_fiscal': 'TYPE: string COMMENT: {\\n  \"description\": \"Nº nota fiscal\",\\n  \"synonyms\": \"\",\\n  \"column type\": \"STRING\",\\n  \"column content\": \"\",\\n  \"examples\": \"\"\\n}',\n",
       "      'N_da_NF_e': 'TYPE: string COMMENT: {\\n  \"description\": \"Nº da NF-e\",\\n  \"synonyms\": \"\",\\n  \"column type\": \"STRING\",\\n  \"column content\": \"\",\\n  \"examples\": \"\"\\n}',\n",
       "      'Protocolo_de_Recebimento_de_Nota_Fiscal': 'TYPE: string COMMENT: {\\n  \"description\": \"Protocolo de Recebimento de Nota Fiscal\",\\n  \"synonyms\": \"\",\\n  \"column type\": \"STRING\",\\n  \"column content\": \"\",\\n  \"examples\": \"\"\\n}',\n",
       "      'N_de_documento_da_fatura': 'TYPE: string COMMENT: {\\n  \"description\": \"Nº de documento da fatura - MIRO\",\\n  \"synonyms\": \"\",\\n  \"column type\": \"STRING\",\\n  \"column content\": \"\",\\n  \"examples\": \"\"\\n}',\n",
       "      'Exercicio_da_fatura': 'TYPE: string COMMENT: {\\n  \"description\": \"Exercício da fatura\",\\n  \"synonyms\": \"\",\\n  \"column type\": \"STRING\",\\n  \"column content\": \"\",\\n  \"examples\": \"\"\\n}',\n",
       "      'Folha_reg_servicos': 'TYPE: string COMMENT: {\\n  \"description\": \"Folha de registro de serviços - FRS\",\\n  \"synonyms\": \"\",\\n  \"column type\": \"STRING\",\\n  \"column content\": \"\",\\n  \"examples\": \"\"\\n}',\n",
       "      'Relatorio_de_Medicao': 'TYPE: string COMMENT: {\\n  \"description\": \"Registro de Medição - RM\",\\n  \"synonyms\": \"\",\\n  \"column type\": \"STRING\",\\n  \"column content\": \"\",\\n  \"examples\": \"\"\\n}',\n",
       "      'Doc_material': 'TYPE: string COMMENT: {\\n  \"description\": \"Documento de material - MIGO\",\\n  \"synonyms\": \"\",\\n  \"column type\": \"STRING\",\\n  \"column content\": \"\",\\n  \"examples\": \"\"\\n}',\n",
       "      'Chave_de_acesso_da_NF_e': 'TYPE: string COMMENT: {\\n  \"description\": \"Chave de acesso da NF-e\",\\n  \"synonyms\": \"\",\\n  \"column type\": \"STRING\",\\n  \"column content\": \"\",\\n  \"examples\": \"\"\\n}',\n",
       "      'Observacoes': 'TYPE: string COMMENT: {\\n  \"description\": \"Campo para controle de análise e geração do arquivo\",\\n  \"synonyms\": \"\",\\n  \"column type\": \"STRING\",\\n  \"column content\": \"\",\\n  \"examples\": \"\"\\n}',\n",
       "      'id': 'TYPE: string COMMENT: {\\n  \"description\": \"Identificador único para as linhas da tabela\",\\n  \"synonyms\": [\\n    \"chave, chave primária, key, primary key\"\\n  ],\\n  \"column type\": \"STRING\",\\n  \"column content\": \"Chave primária como string uuid\",\\n  \"examples\": \"\"\\n}',\n",
       "      'folder': 'TYPE: string COMMENT: {\\n  \"description\": \"Nome da pasta com base no período\",\\n  \"synonyms\": \"\",\\n  \"column type\": \"STRING\",\\n  \"column content\": \"Utiliz o padrão: aaaa/0mm. Exemplo: \"2015_012\"\",\\n  \"examples\": \"\"\\n}',\n",
       "      'status_processamento': 'TYPE: string COMMENT: {\\n  \"description\": \"Informação sobre status de processamento da pasta\",\\n  \"synonyms\": \"\",\\n  \"column type\": \"STRING\",\\n  \"column content\": [\\n    \"PROCESSADOS\",\\n    \"NAO_PROCESSADOS\"\\n  ],\\n  \"examples\": \"\"\\n}'},\n",
       "     'grants': [191, 361]},\n",
       "    'base_resultado': {'address': 'dt0047_prd.gastos.base_result_pgov_sefaz_rj_gastos',\n",
       "     'description': '\"Tabela resultado entre o merge das tabelas H e R\"',\n",
       "     'columns': {'Mandante': 'TYPE: string COMMENT: {\\n  \"description\": \"Mandante no Sistema SAP\",\\n  \"synonyms\": \"\",\\n  \"column type\": \"STRING\",\\n  \"column content\": \"\",\\n  \"examples\": \"\"\\n}',\n",
       "      'Objeto_Pesquisado': 'TYPE: string COMMENT: {\\n  \"description\": \"Objeto de Custo a ser extraído no programa de extração de arquivos\",\\n  \"synonyms\": \"\",\\n  \"column type\": \"STRING\",\\n  \"column content\": \"\",\\n  \"examples\": \"\"\\n}',\n",
       "      'Documento_CO': 'TYPE: string COMMENT: {\\n  \"description\": \"Documento de Contabilidade de Custos (módulo CO) onde é registrada uma operação de contabilidade de custos.\",\\n  \"synonyms\": \"\",\\n  \"column type\": \"STRING\",\\n  \"column content\": \"\",\\n  \"examples\": \"\"\\n}',\n",
       "      'Item': 'TYPE: string COMMENT: {\\n  \"description\": \"Item de um documento de CO.  Representa uma partida de um documento contábil de CO\",\\n  \"synonyms\": \"\",\\n  \"column type\": \"STRING\",\\n  \"column content\": \"\",\\n  \"examples\": \"\"\\n}',\n",
       "      'Periodo': 'TYPE: int COMMENT: {\\n  \"description\": \"Período da extração\",\\n  \"synonyms\": \"\",\\n  \"column type\": \"INT\",\\n  \"column content\": \"\",\\n  \"examples\": \"\"\\n}',\n",
       "      'Exercicio': 'TYPE: int COMMENT: {\\n  \"description\": \"Exercício da extração\",\\n  \"synonyms\": \"\",\\n  \"column type\": \"INT\",\\n  \"column content\": \"\",\\n  \"examples\": \"\"\\n}',\n",
       "      'Versao': 'TYPE: string COMMENT: {\\n  \"description\": \"Agrupamento, com base na área de contabilidade de custos, de códigos dependentes do ano para dados planejados. Sempre será versão 0 – Versão planejado/real\",\\n  \"synonyms\": \"\",\\n  \"column type\": \"STRING\",\\n  \"column content\": \"\",\\n  \"examples\": \"\"\\n}',\n",
       "      'Ledger': 'TYPE: string COMMENT: {\\n  \"description\": \"Ledger para objetos de controlling.  Sempre será Ledger 0 – ledger standard\",\\n  \"synonyms\": \"\",\\n  \"column type\": \"STRING\",\\n  \"column content\": \"\",\\n  \"examples\": \"\"\\n}',\n",
       "      'Montante': 'TYPE: float COMMENT: {\\n  \"description\": \"Valor do item do documento CO \",\\n  \"synonyms\": \"\",\\n  \"column type\": \"FLOAT\",\\n  \"column content\": \"\",\\n  \"examples\": \"\"\\n}',\n",
       "      'Objeto': 'TYPE: string COMMENT: {\\n  \"description\": \"Objeto de Custo de um conjunto de operações de CO\",\\n  \"synonyms\": \"\",\\n  \"column type\": \"STRING\",\\n  \"column content\": \"\",\\n  \"examples\": \"\"\\n}',\n",
       "      'Objeto_Parceiro': 'TYPE: string COMMENT: {\\n  \"description\": \"Objeto de custo parceiro de um conjunto de operações de CO\",\\n  \"synonyms\": \"\",\\n  \"column type\": \"STRING\",\\n  \"column content\": \"\",\\n  \"examples\": \"\"\\n}',\n",
       "      'C_D': 'TYPE: string COMMENT: {\\n  \"description\": \"S – Lançamento a débito ou débito receptor; H -> Lançamento a Crédito ou crédito emissor ; A -> Liquidação de Ordem/PEP \",\\n  \"synonyms\": \"\",\\n  \"column type\": \"STRING\",\\n  \"column content\": \"\",\\n  \"examples\": \"\"\\n}',\n",
       "      'Ordenacao': 'TYPE: string COMMENT: {\\n  \"description\": \"Identificador de ligação entre os registros do arquivo de Repasses com seu registro correspondente no arquivo de Hierarquia.\",\\n  \"synonyms\": \"\",\\n  \"column type\": \"STRING\",\\n  \"column content\": \"\",\\n  \"examples\": \"\"\\n}',\n",
       "      'Pesquisa': 'TYPE: string COMMENT: {\\n  \"description\": \"Representa a quantidade de níveis macro numa árvore de repasses\",\\n  \"synonyms\": \"\",\\n  \"column type\": \"STRING\",\\n  \"column content\": \"\",\\n  \"examples\": \"\"\\n}',\n",
       "      'Moeda': 'TYPE: string COMMENT: {\\n  \"description\": \"Moeda do Valor que um objeto recebe de seu parceiro para cada linha de registro\",\\n  \"synonyms\": \"\",\\n  \"column type\": \"STRING\",\\n  \"column content\": \"\",\\n  \"examples\": \"\"\\n}',\n",
       "      'Objeto_Parceiro_Ajustado': 'TYPE: string COMMENT: {\\n  \"description\": \"Campo adicional para viabilizar lógica de análise. Classifica os objetos em seu nível final na cadeia de repasse (FOLHA, MATERIALIDADE, DEMANDA) \",\\n  \"synonyms\": \"\",\\n  \"column type\": \"STRING\",\\n  \"column content\": \"\",\\n  \"examples\": \"\"\\n}',\n",
       "      'Data': 'TYPE: date COMMENT: {\\n  \"description\": \"Data de registro do documento de CO\",\\n  \"synonyms\": \"\",\\n  \"column type\": \"DATE\",\\n  \"column content\": \"\",\\n  \"examples\": \"\"\\n}',\n",
       "      'Hora': 'TYPE: string COMMENT: {\\n  \"description\": \"Hora do registro do documento de CO\",\\n  \"synonyms\": \"\",\\n  \"column type\": \"STRING\",\\n  \"column content\": \"\",\\n  \"examples\": \"\"\\n}',\n",
       "      'Ciclo_Rateio': 'TYPE: string COMMENT: {\\n  \"description\": \"Código do Ciclo de rateio envolvido na operação\",\\n  \"synonyms\": \"\",\\n  \"column type\": \"STRING\",\\n  \"column content\": \"\",\\n  \"examples\": \"\"\\n}',\n",
       "      'Item_Rateio': 'TYPE: string COMMENT: {\\n  \"description\": \"Assume o valor ‘0” para operações que não sejam rateio e “1” para operações de rateio \",\\n  \"synonyms\": \"\",\\n  \"column type\": \"STRING\",\\n  \"column content\": \"\",\\n  \"examples\": \"\"\\n}',\n",
       "      'Data_Rateio': 'TYPE: string COMMENT: {\\n  \"description\": \"Data da operação e rateio\",\\n  \"synonyms\": \"\",\\n  \"column type\": \"STRING\",\\n  \"column content\": \"\",\\n  \"examples\": \"\"\\n}',\n",
       "      'Operacao': 'TYPE: string COMMENT: {\\n  \"description\": \"Códigos de operação do sistema SAP\",\\n  \"synonyms\": \"\",\\n  \"column type\": \"STRING\",\\n  \"column content\": \"\",\\n  \"examples\": \"\"\\n}',\n",
       "      'Classe_de_custo': 'TYPE: string COMMENT: {\\n  \"description\": \"Contas contábeis refletidas na contabilidade de custos – módulo CO\",\\n  \"synonyms\": \"\",\\n  \"column type\": \"STRING\",\\n  \"column content\": \"\",\\n  \"examples\": \"\"\\n}',\n",
       "      'Valor_Transacao': 'TYPE: float COMMENT: {\\n  \"description\": \"Valor da transação\",\\n  \"synonyms\": \"\",\\n  \"column type\": \"FLOAT\",\\n  \"column content\": \"\",\\n  \"examples\": \"\"\\n}',\n",
       "      'Moeda_Transacao': 'TYPE: string COMMENT: {\\n  \"description\": \"Moeda da transação\",\\n  \"synonyms\": \"\",\\n  \"column type\": \"STRING\",\\n  \"column content\": \"\",\\n  \"examples\": \"\"\\n}',\n",
       "      'Doc_Compra': 'TYPE: string COMMENT: {\\n  \"description\": \"Pedido de compra\",\\n  \"synonyms\": \"\",\\n  \"column type\": \"STRING\",\\n  \"column content\": \"\",\\n  \"examples\": \"\"\\n}',\n",
       "      'Item_Doc_Compra': 'TYPE: string COMMENT: {\\n  \"description\": \"Item do pedido de compra\",\\n  \"synonyms\": \"\",\\n  \"column type\": \"STRING\",\\n  \"column content\": \"\",\\n  \"examples\": \"\"\\n}',\n",
       "      'Item_Class_Cont': 'TYPE: string COMMENT: {\\n  \"description\": \"Número que define a classificação contábil de um item do documento de compras.\",\\n  \"synonyms\": \"\",\\n  \"column type\": \"STRING\",\\n  \"column content\": \"\",\\n  \"examples\": \"\"\\n}',\n",
       "      'Centro': 'TYPE: string COMMENT: {\\n  \"description\": \"Centro\",\\n  \"synonyms\": \"\",\\n  \"column type\": \"STRING\",\\n  \"column content\": \"\",\\n  \"examples\": \"\"\\n}',\n",
       "      'Material': 'TYPE: string COMMENT: {\\n  \"description\": \"Código do material\",\\n  \"synonyms\": \"\",\\n  \"column type\": \"STRING\",\\n  \"column content\": \"\",\\n  \"examples\": \"\"\\n}',\n",
       "      'Quantidade_Entrada': 'TYPE: float COMMENT: {\\n  \"description\": \"Quantidade entrada na operação\",\\n  \"synonyms\": \"\",\\n  \"column type\": \"FLOAT\",\\n  \"column content\": \"\",\\n  \"examples\": \"\"\\n}',\n",
       "      'Unidade_Medida': 'TYPE: string COMMENT: {\\n  \"description\": \"Unidade de medida\",\\n  \"synonyms\": \"\",\\n  \"column type\": \"STRING\",\\n  \"column content\": \"\",\\n  \"examples\": \"\"\\n}',\n",
       "      'Chave_subno': 'TYPE: string COMMENT: {\\n  \"description\": \"CO chave subnº\",\\n  \"synonyms\": \"\",\\n  \"column type\": \"STRING\",\\n  \"column content\": \"\",\\n  \"examples\": \"\"\\n}',\n",
       "      'Item_Doc_Ref': 'TYPE: string COMMENT: {\\n  \"description\": \"Item do documento de referência\",\\n  \"synonyms\": \"\",\\n  \"column type\": \"STRING\",\\n  \"column content\": \"\",\\n  \"examples\": \"\"\\n}',\n",
       "      'Categoria_Doc_Ref': 'TYPE: string COMMENT: {\\n  \"description\": \"Categoria do documento de referência\",\\n  \"synonyms\": \"\",\\n  \"column type\": \"STRING\",\\n  \"column content\": \"\",\\n  \"examples\": \"\"\\n}',\n",
       "      'Documento_Referencia': 'TYPE: string COMMENT: {\\n  \"description\": \"Documento de referência do documento de CO\",\\n  \"synonyms\": \"\",\\n  \"column type\": \"STRING\",\\n  \"column content\": \"\",\\n  \"examples\": \"\"\\n}',\n",
       "      'Empresa_Doc_Ref': 'TYPE: string COMMENT: {\\n  \"description\": \"Empresa do documento de referência\",\\n  \"synonyms\": \"\",\\n  \"column type\": \"STRING\",\\n  \"column content\": \"\",\\n  \"examples\": \"\"\\n}',\n",
       "      'Exercicio_Doc_Ref': 'TYPE: int COMMENT: {\\n  \"description\": \"Exercício do documento de referência\",\\n  \"synonyms\": \"\",\\n  \"column type\": \"INT\",\\n  \"column content\": \"\",\\n  \"examples\": \"\"\\n}',\n",
       "      'Tipo_Doc_Ref': 'TYPE: string COMMENT: {\\n  \"description\": \"Tipo do documento de referência de FI\",\\n  \"synonyms\": \"\",\\n  \"column type\": \"STRING\",\\n  \"column content\": \"\",\\n  \"examples\": \"\"\\n}',\n",
       "      'Conta_Contrapartida': 'TYPE: string COMMENT: {\\n  \"description\": \"Conta de contrapartida do item de registro do documento de CO\",\\n  \"synonyms\": \"\",\\n  \"column type\": \"STRING\",\\n  \"column content\": \"\",\\n  \"examples\": \"\"\\n}',\n",
       "      'Status': 'TYPE: string COMMENT: {\\n  \"description\": \"Observação do Lançamento\",\\n  \"synonyms\": \"\",\\n  \"column type\": \"STRING\",\\n  \"column content\": \"\",\\n  \"examples\": \"\"\\n}',\n",
       "      'Rateio_acumulado': 'TYPE: string COMMENT: {\\n  \"description\": \"Coluna Rateio * Rateio Acumulado do nível de repasse anterior\",\\n  \"synonyms\": \"\",\\n  \"column type\": \"STRING\",\\n  \"column content\": \"\",\\n  \"examples\": \"\"\\n}',\n",
       "      'Origem_Repasse': 'TYPE: string COMMENT: {\\n  \"description\": \"Classificação Origem – G e Repasse - R\",\\n  \"synonyms\": \"\",\\n  \"column type\": \"STRING\",\\n  \"column content\": \"\",\\n  \"examples\": \"\"\\n}',\n",
       "      'Tipo_do_objeto_de_custo': 'TYPE: string COMMENT: {\\n  \"description\": \"Tipo do objeto de custo\",\\n  \"synonyms\": \"\",\\n  \"column type\": \"STRING\",\\n  \"column content\": \"\",\\n  \"examples\": \"\"\\n}',\n",
       "      'Tipo_do_objeto_parceiro': 'TYPE: string COMMENT: {\\n  \"description\": \"Tipo do objeto parceiro\",\\n  \"synonyms\": \"\",\\n  \"column type\": \"STRING\",\\n  \"column content\": \"\",\\n  \"examples\": \"\"\\n}',\n",
       "      'Grupo_de_conta': 'TYPE: string COMMENT: {\\n  \"description\": \"Grupo de conta (4, 5 ou 6)\",\\n  \"synonyms\": \"\",\\n  \"column type\": \"STRING\",\\n  \"column content\": \"\",\\n  \"examples\": \"\"\\n}',\n",
       "      'Conta_reduzida': 'TYPE: string COMMENT: {\\n  \"description\": \"Dois primeiros dígitos das classes de custos\",\\n  \"synonyms\": \"\",\\n  \"column type\": \"STRING\",\\n  \"column content\": \"\",\\n  \"examples\": \"\"\\n}',\n",
       "      'Tipo_de_custos': 'TYPE: string COMMENT: {\\n  \"description\": \"Informação utilizada para contabilidade de parcerias\",\\n  \"synonyms\": \"\",\\n  \"column type\": \"STRING\",\\n  \"column content\": \"\",\\n  \"examples\": \"\"\\n}',\n",
       "      'Texto_breve_material': 'TYPE: string COMMENT: {\\n  \"description\": \"Texto breve do material\",\\n  \"synonyms\": \"\",\\n  \"column type\": \"STRING\",\\n  \"column content\": \"\",\\n  \"examples\": \"\"\\n}',\n",
       "      'Tipo_de_avaliacao': 'TYPE: string COMMENT: {\\n  \"description\": \"Código que identifica univocamente os estoques avaliados separadamente de um material.\",\\n  \"synonyms\": \"\",\\n  \"column type\": \"STRING\",\\n  \"column content\": \"\",\\n  \"examples\": \"\"\\n}',\n",
       "      'Contrato_basico': 'TYPE: string COMMENT: {\\n  \"description\": \"Contrato básico que subsidia a operação\",\\n  \"synonyms\": \"\",\\n  \"column type\": \"STRING\",\\n  \"column content\": \"\",\\n  \"examples\": \"\"\\n}',\n",
       "      'Instrumento_Contratual_Juridico': 'TYPE: string COMMENT: {\\n  \"description\": \"Instrumento Contratual Jurídico\",\\n  \"synonyms\": \"\",\\n  \"column type\": \"STRING\",\\n  \"column content\": \"\",\\n  \"examples\": \"\"\\n}',\n",
       "      'Fornecedor': 'TYPE: string COMMENT: {\\n  \"description\": \"Código do Fornecedor\",\\n  \"synonyms\": \"\",\\n  \"column type\": \"STRING\",\\n  \"column content\": \"\",\\n  \"examples\": \"\"\\n}',\n",
       "      'Nome_completo_do_Fornecedor': 'TYPE: string COMMENT: {\\n  \"description\": \"Nome completo do Fornecedor\",\\n  \"synonyms\": \"\",\\n  \"column type\": \"STRING\",\\n  \"column content\": \"\",\\n  \"examples\": \"\"\\n}',\n",
       "      'N_nota_fiscal': 'TYPE: string COMMENT: {\\n  \"description\": \"Nº nota fiscal\",\\n  \"synonyms\": \"\",\\n  \"column type\": \"STRING\",\\n  \"column content\": \"\",\\n  \"examples\": \"\"\\n}',\n",
       "      'N_da_NF_e': 'TYPE: string COMMENT: {\\n  \"description\": \"Nº da NF-e\",\\n  \"synonyms\": \"\",\\n  \"column type\": \"STRING\",\\n  \"column content\": \"\",\\n  \"examples\": \"\"\\n}',\n",
       "      'Protocolo_de_Recebimento_de_Nota_Fiscal': 'TYPE: string COMMENT: {\\n  \"description\": \"Protocolo de Recebimento de Nota Fiscal\",\\n  \"synonyms\": \"\",\\n  \"column type\": \"STRING\",\\n  \"column content\": \"\",\\n  \"examples\": \"\"\\n}',\n",
       "      'N_de_documento_da_fatura': 'TYPE: string COMMENT: {\\n  \"description\": \"Nº de documento da fatura - MIRO\",\\n  \"synonyms\": \"\",\\n  \"column type\": \"STRING\",\\n  \"column content\": \"\",\\n  \"examples\": \"\"\\n}',\n",
       "      'Exercicio_da_fatura': 'TYPE: string COMMENT: {\\n  \"description\": \"Exercício da fatura\",\\n  \"synonyms\": \"\",\\n  \"column type\": \"STRING\",\\n  \"column content\": \"\",\\n  \"examples\": \"\"\\n}',\n",
       "      'Folha_reg_servicos': 'TYPE: string COMMENT: {\\n  \"description\": \"Folha de registro de serviços - FRS\",\\n  \"synonyms\": \"\",\\n  \"column type\": \"STRING\",\\n  \"column content\": \"\",\\n  \"examples\": \"\"\\n}',\n",
       "      'Relatorio_de_Medicao': 'TYPE: string COMMENT: {\\n  \"description\": \"Registro de Medição - RM\",\\n  \"synonyms\": \"\",\\n  \"column type\": \"STRING\",\\n  \"column content\": \"\",\\n  \"examples\": \"\"\\n}',\n",
       "      'Doc_material': 'TYPE: string COMMENT: {\\n  \"description\": \"Documento de material - MIGO\",\\n  \"synonyms\": \"\",\\n  \"column type\": \"STRING\",\\n  \"column content\": \"\",\\n  \"examples\": \"\"\\n}',\n",
       "      'Chave_de_acesso_da_NF_e': 'TYPE: string COMMENT: {\\n  \"description\": \"Chave de acesso da NF-e\",\\n  \"synonyms\": \"\",\\n  \"column type\": \"STRING\",\\n  \"column content\": \"\",\\n  \"examples\": \"\"\\n}',\n",
       "      'Observacoes': 'TYPE: string COMMENT: {\\n  \"description\": \"Campo para controle de análise e geração do arquivo\",\\n  \"synonyms\": \"\",\\n  \"column type\": \"STRING\",\\n  \"column content\": \"\",\\n  \"examples\": \"\"\\n}',\n",
       "      'Objeto_Parceiro_Ajustado_H': 'TYPE: string COMMENT: {\\n  \"description\": \"Campo adicional para viabilizar lógica de análise. Classifica os objetos em seu nível final na cadeia de repasse (FOLHA, MATERIALIDADE, DEMANDA) \",\\n  \"synonyms\": \"\",\\n  \"column type\": \"STRING\",\\n  \"column content\": \"\",\\n  \"examples\": \"\"\\n}',\n",
       "      'Rateio_Acumulado_H': 'TYPE: float COMMENT: {\\n  \"description\": \"Coluna Rateio * Rateio Acumulado do nível de repasse anterior\",\\n  \"synonyms\": \"\",\\n  \"column type\": \"FLOAT\",\\n  \"column content\": \"\",\\n  \"examples\": \"\"\\n}',\n",
       "      'Valor_Calculado_H': 'TYPE: float COMMENT: {\\n  \"description\": \"Valor Calculado (Valor * Rateio Acumulado)\",\\n  \"synonyms\": \"\",\\n  \"column type\": \"FLOAT\",\\n  \"column content\": \"\",\\n  \"examples\": \"\"\\n}',\n",
       "      'Valor_Calculado_R': 'TYPE: float COMMENT: {\\n  \"description\": \"Valor Calculado (Montante * Rateio Acumulado)\",\\n  \"synonyms\": \"\",\\n  \"column type\": \"FLOAT\",\\n  \"column content\": \"\",\\n  \"examples\": \"\"\\n}',\n",
       "      'id': 'TYPE: string COMMENT: {\\n  \"description\": \"Identificador único para as linhas da tabela\",\\n  \"synonyms\": [\\n    \"chave, chave primária, key, primary key\"\\n  ],\\n  \"column type\": \"STRING\",\\n  \"column content\": \"Chave primária como string uuid\",\\n  \"examples\": \"\"\\n}',\n",
       "      'folder': 'TYPE: string COMMENT: {\\n  \"description\": \"Nome da pasta com base no período\",\\n  \"synonyms\": \"\",\\n  \"column type\": \"STRING\",\\n  \"column content\": \"Utiliz o padrão: aaaa/0mm. Exemplo: \"2015_012\"\",\\n  \"examples\": \"\"\\n}',\n",
       "      'status_processamento': 'TYPE: string COMMENT: {\\n  \"description\": \"Informação sobre status de processamento da pasta\",\\n  \"synonyms\": \"\",\\n  \"column type\": \"STRING\",\\n  \"column content\": [\\n    \"PROCESSADOS\",\\n    \"NAO_PROCESSADOS\"\\n  ],\\n  \"examples\": \"\"\\n}'},\n",
       "     'grants': [191, 361]}}},\n",
       "  'Estoque_Produtos': {'process_description': 'Análise das contas de estoques de produtos registradas na transação CKM3 para montagem do custeio e outras análises relacionadas.',\n",
       "   'relationships': '',\n",
       "   'tables': {'ckm3_custeio': {'address': 'dt0047_prd.custeio.base_acumulada_custeio_ckm3',\n",
       "     'description': '\"CKM3\"',\n",
       "     'columns': {'classificao': 'TYPE: string COMMENT: {\\n  \"description\": \"\",\\n  \"synonyms\": \"\",\\n  \"column type\": \"STRING\",\\n  \"column content\": \"\",\\n  \"examples\": \"\"\\n}',\n",
       "      'agrupamento_grupo_de_mercadorias': 'TYPE: string COMMENT: {\\n  \"description\": \"\",\\n  \"synonyms\": \"\",\\n  \"column type\": \"STRING\",\\n  \"column content\": \"\",\\n  \"examples\": \"\"\\n}',\n",
       "      'grupo_de_mercadorias': 'TYPE: string COMMENT: {\\n  \"description\": \"\",\\n  \"synonyms\": \"\",\\n  \"column type\": \"STRING\",\\n  \"column content\": \"\",\\n  \"examples\": \"\"\\n}',\n",
       "      'desc_gr_merc': 'TYPE: string COMMENT: {\\n  \"description\": \"\",\\n  \"synonyms\": \"\",\\n  \"column type\": \"STRING\",\\n  \"column content\": \"\",\\n  \"examples\": \"\"\\n}',\n",
       "      'centro_de_lucro': 'TYPE: string COMMENT: {\\n  \"description\": \"\",\\n  \"synonyms\": \"\",\\n  \"column type\": \"STRING\",\\n  \"column content\": \"\",\\n  \"examples\": \"\"\\n}',\n",
       "      'desc_clucro': 'TYPE: string COMMENT: {\\n  \"description\": \"\",\\n  \"synonyms\": \"\",\\n  \"column type\": \"STRING\",\\n  \"column content\": \"\",\\n  \"examples\": \"\"\\n}',\n",
       "      'classe_de_avaliacao': 'TYPE: string COMMENT: {\\n  \"description\": \"\",\\n  \"synonyms\": \"\",\\n  \"column type\": \"STRING\",\\n  \"column content\": \"\",\\n  \"examples\": \"\"\\n}',\n",
       "      'desc_classe_aval': 'TYPE: string COMMENT: {\\n  \"description\": \"\",\\n  \"synonyms\": \"\",\\n  \"column type\": \"STRING\",\\n  \"column content\": \"\",\\n  \"examples\": \"\"\\n}',\n",
       "      'centro': 'TYPE: string COMMENT: {\\n  \"description\": \"\",\\n  \"synonyms\": \"\",\\n  \"column type\": \"STRING\",\\n  \"column content\": \"\",\\n  \"examples\": \"\"\\n}',\n",
       "      'desc_centro': 'TYPE: string COMMENT: {\\n  \"description\": \"\",\\n  \"synonyms\": \"\",\\n  \"column type\": \"STRING\",\\n  \"column content\": \"\",\\n  \"examples\": \"\"\\n}',\n",
       "      'tp_material': 'TYPE: string COMMENT: {\\n  \"description\": \"\",\\n  \"synonyms\": \"\",\\n  \"column type\": \"STRING\",\\n  \"column content\": \"\",\\n  \"examples\": \"\"\\n}',\n",
       "      'un_medida': 'TYPE: string COMMENT: {\\n  \"description\": \"\",\\n  \"synonyms\": \"\",\\n  \"column type\": \"STRING\",\\n  \"column content\": \"\",\\n  \"examples\": \"\"\\n}',\n",
       "      'material': 'TYPE: string COMMENT: {\\n  \"description\": \"\",\\n  \"synonyms\": \"\",\\n  \"column type\": \"STRING\",\\n  \"column content\": \"\",\\n  \"examples\": \"\"\\n}',\n",
       "      'desc_material': 'TYPE: string COMMENT: {\\n  \"description\": \"\",\\n  \"synonyms\": \"\",\\n  \"column type\": \"STRING\",\\n  \"column content\": \"\",\\n  \"examples\": \"\"\\n}',\n",
       "      'tipo_de_avaliacao': 'TYPE: string COMMENT: {\\n  \"description\": \"\",\\n  \"synonyms\": \"\",\\n  \"column type\": \"STRING\",\\n  \"column content\": \"\",\\n  \"examples\": \"\"\\n}',\n",
       "      'exercicio_periodo': 'TYPE: string COMMENT: {\\n  \"description\": \"\",\\n  \"synonyms\": \"\",\\n  \"column type\": \"STRING\",\\n  \"column content\": \"\",\\n  \"examples\": \"\"\\n}',\n",
       "      'quantidade_em_umb_moeda_10': 'TYPE: float COMMENT: {\\n  \"description\": \"\",\\n  \"synonyms\": \"\",\\n  \"column type\": \"FLOAT\",\\n  \"column content\": \"\",\\n  \"examples\": \"\"\\n}',\n",
       "      'valor_moeda_10': 'TYPE: float COMMENT: {\\n  \"description\": \"\",\\n  \"synonyms\": \"\",\\n  \"column type\": \"FLOAT\",\\n  \"column content\": \"\",\\n  \"examples\": \"\"\\n}',\n",
       "      'dif__preco_nivel_unico_moeda_10': 'TYPE: float COMMENT: {\\n  \"description\": \"\",\\n  \"synonyms\": \"\",\\n  \"column type\": \"FLOAT\",\\n  \"column content\": \"\",\\n  \"examples\": \"\"\\n}',\n",
       "      'dif__preco_multinivel_moeda_10': 'TYPE: float COMMENT: {\\n  \"description\": \"\",\\n  \"synonyms\": \"\",\\n  \"column type\": \"FLOAT\",\\n  \"column content\": \"\",\\n  \"examples\": \"\"\\n}',\n",
       "      'custo_total_do_material_moeda_10': 'TYPE: float COMMENT: {\\n  \"description\": \"\",\\n  \"synonyms\": \"\",\\n  \"column type\": \"FLOAT\",\\n  \"column content\": \"\",\\n  \"examples\": \"\"\\n}',\n",
       "      'custo_total_do_material_moeda_12': 'TYPE: float COMMENT: {\\n  \"description\": \"\",\\n  \"synonyms\": \"\",\\n  \"column type\": \"FLOAT\",\\n  \"column content\": \"\",\\n  \"examples\": \"\"\\n}',\n",
       "      'custo_total_do_material_moeda_30': 'TYPE: float COMMENT: {\\n  \"description\": \"\",\\n  \"synonyms\": \"\",\\n  \"column type\": \"FLOAT\",\\n  \"column content\": \"\",\\n  \"examples\": \"\"\\n}',\n",
       "      'custo_unit_umb': 'TYPE: float COMMENT: {\\n  \"description\": \"\",\\n  \"synonyms\": \"\",\\n  \"column type\": \"FLOAT\",\\n  \"column content\": \"\",\\n  \"examples\": \"\"\\n}',\n",
       "      'chave_m20': 'TYPE: string COMMENT: {\\n  \"description\": \"\",\\n  \"synonyms\": \"\",\\n  \"column type\": \"STRING\",\\n  \"column content\": \"\",\\n  \"examples\": \"\"\\n}',\n",
       "      'fator': 'TYPE: float COMMENT: {\\n  \"description\": \"\",\\n  \"synonyms\": \"\",\\n  \"column type\": \"FLOAT\",\\n  \"column content\": \"\",\\n  \"examples\": \"\"\\n}',\n",
       "      'quant_m20': 'TYPE: float COMMENT: {\\n  \"description\": \"\",\\n  \"synonyms\": \"\",\\n  \"column type\": \"FLOAT\",\\n  \"column content\": \"\",\\n  \"examples\": \"\"\\n}',\n",
       "      'valor_reais': 'TYPE: float COMMENT: {\\n  \"description\": \"\",\\n  \"synonyms\": \"\",\\n  \"column type\": \"FLOAT\",\\n  \"column content\": \"\",\\n  \"examples\": \"\"\\n}',\n",
       "      'conta': 'TYPE: string COMMENT: {\\n  \"description\": \"\",\\n  \"synonyms\": \"\",\\n  \"column type\": \"STRING\",\\n  \"column content\": \"\",\\n  \"examples\": \"\"\\n}',\n",
       "      'tipo': 'TYPE: string COMMENT: {\\n  \"description\": \"\",\\n  \"synonyms\": \"\",\\n  \"column type\": \"STRING\",\\n  \"column content\": \"\",\\n  \"examples\": \"\"\\n}',\n",
       "      'grupamento': 'TYPE: string COMMENT: {\\n  \"description\": \"\",\\n  \"synonyms\": \"\",\\n  \"column type\": \"STRING\",\\n  \"column content\": \"\",\\n  \"examples\": \"\"\\n}',\n",
       "      'uo': 'TYPE: string COMMENT: {\\n  \"description\": \"\",\\n  \"synonyms\": \"\",\\n  \"column type\": \"STRING\",\\n  \"column content\": \"\",\\n  \"examples\": \"\"\\n}',\n",
       "      'c_unit': 'TYPE: string COMMENT: {\\n  \"description\": \"\",\\n  \"synonyms\": \"\",\\n  \"column type\": \"STRING\",\\n  \"column content\": \"\",\\n  \"examples\": \"\"\\n}',\n",
       "      'es': 'TYPE: string COMMENT: {\\n  \"description\": \"\",\\n  \"synonyms\": \"\",\\n  \"column type\": \"STRING\",\\n  \"column content\": \"\",\\n  \"examples\": \"\"\\n}',\n",
       "      'empresa': 'TYPE: string COMMENT: {\\n  \"description\": \"\",\\n  \"synonyms\": \"\",\\n  \"column type\": \"STRING\",\\n  \"column content\": \"\",\\n  \"examples\": \"\"\\n}',\n",
       "      'ano': 'TYPE: int COMMENT: {\\n  \"description\": \"\",\\n  \"synonyms\": \"\",\\n  \"column type\": \"INT\",\\n  \"column content\": \"\",\\n  \"examples\": \"\"\\n}',\n",
       "      'periodo': 'TYPE: int COMMENT: {\\n  \"description\": \"\",\\n  \"synonyms\": \"\",\\n  \"column type\": \"INT\",\\n  \"column content\": \"\",\\n  \"examples\": \"\"\\n}',\n",
       "      'ab_eep_ge': 'TYPE: string COMMENT: {\\n  \"description\": \"\",\\n  \"synonyms\": \"\",\\n  \"column type\": \"STRING\",\\n  \"column content\": \"\",\\n  \"examples\": \"\"\\n}',\n",
       "      'mes_ano': 'TYPE: string COMMENT: {\\n  \"description\": \"\",\\n  \"synonyms\": \"\",\\n  \"column type\": \"STRING\",\\n  \"column content\": \"\",\\n  \"examples\": \"\"\\n}',\n",
       "      'origem': 'TYPE: string COMMENT: {\\n  \"description\": \"\",\\n  \"synonyms\": \"\",\\n  \"column type\": \"STRING\",\\n  \"column content\": \"\",\\n  \"examples\": \"\"\\n}'},\n",
       "     'grants': [411, 191]}}}},\n",
       " 'config_initial': {'connection': {'server_hostname': 'adb-671799829240675.15.azuredatabricks.net',\n",
       "   'http_path': '/sql/1.0/warehouses/1fd972f888afd086'},\n",
       "  'users_access': {'table': 'dtcore_prd.aida.acesso_usuario',\n",
       "   'profile_prefix': 'GDB_DLKC_PRD_PFL_'},\n",
       "  'data_sources': {'intimacoes_sefaz_rj_pgov_gastos': {'process_description': 'Rateio de gastos auditados pela SEFAZ-RJ relacionados às participações governamentais',\n",
       "    'relationships': 'A tabela 1 se relaciona com a 2 usando o campo abc',\n",
       "    'tables': {'base_h': {'address': 'dt0047_prd.gastos.base_h_pgov_sefaz_rj_gastos',\n",
       "      'description': '\"Tabela H\"',\n",
       "      'columns': {'Mandante': 'TYPE: string COMMENT: {\\n  \"description\": \"Mandante no Sistema SAP\",\\n  \"synonyms\": \"\",\\n  \"column type\": \"STRING\",\\n  \"column content\": \"\",\\n  \"examples\": \"\"\\n}',\n",
       "       'Objeto_Pesquisado': 'TYPE: string COMMENT: {\\n  \"description\": \"Objeto de Custo a ser extraído no programa de extração de arquivos\",\\n  \"synonyms\": \"\",\\n  \"column type\": \"STRING\",\\n  \"column content\": \"\",\\n  \"examples\": \"\"\\n}',\n",
       "       'Periodo': 'TYPE: int COMMENT: {\\n  \"description\": \"Período da extração\",\\n  \"synonyms\": \"\",\\n  \"column type\": \"INT\",\\n  \"column content\": \"\",\\n  \"examples\": \"\"\\n}',\n",
       "       'Exercicio': 'TYPE: int COMMENT: {\\n  \"description\": \"Exercício da extração\",\\n  \"synonyms\": \"\",\\n  \"column type\": \"INT\",\\n  \"column content\": \"\",\\n  \"examples\": \"\"\\n}',\n",
       "       'Etapa': 'TYPE: int COMMENT: {\\n  \"description\": \"Representa etapas macro de repasse de um fluxo ou árvore de repasses\",\\n  \"synonyms\": \"\",\\n  \"column type\": \"INT\",\\n  \"column content\": \"\",\\n  \"examples\": \"\"\\n}',\n",
       "       'Node1_H': 'TYPE: string COMMENT: {\\n  \"description\": \"Identação ou quebra dos subníveis de uma árvore de repasses\",\\n  \"synonyms\": \"\",\\n  \"column type\": \"STRING\",\\n  \"column content\": \"\",\\n  \"examples\": \"\"\\n}',\n",
       "       'Node2': 'TYPE: string COMMENT: {\\n  \"description\": \"último subnível de uma cadeia de repasses, usado para lógica de agregação dos repasses\",\\n  \"synonyms\": \"\",\\n  \"column type\": \"STRING\",\\n  \"column content\": \"\",\\n  \"examples\": \"\"\\n}',\n",
       "       'Ordenacao': 'TYPE: string COMMENT: {\\n  \"description\": \"Identificador de ligação entre os registros do arquivo de Repasses com seu registro correspondente no arquivo de Hierarquia.\",\\n  \"synonyms\": \"\",\\n  \"column type\": \"STRING\",\\n  \"column content\": \"\",\\n  \"examples\": \"\"\\n}',\n",
       "       'Pesquisa': 'TYPE: string COMMENT: {\\n  \"description\": \"Representa a quantidade de níveis macro numa árvore de repasses\",\\n  \"synonyms\": \"\",\\n  \"column type\": \"STRING\",\\n  \"column content\": \"\",\\n  \"examples\": \"\"\\n}',\n",
       "       'Node_Pai': 'TYPE: string COMMENT: {\\n  \"description\": \"Representa a cadeia de repasses até o penúltimo subnível, usado para a lógica de agregação dos repasses\",\\n  \"synonyms\": \"\",\\n  \"column type\": \"STRING\",\\n  \"column content\": \"\",\\n  \"examples\": \"\"\\n}',\n",
       "       'Objeto': 'TYPE: string COMMENT: {\\n  \"description\": \"Objeto de Custo de um conjunto de operações de CO\",\\n  \"synonyms\": \"\",\\n  \"column type\": \"STRING\",\\n  \"column content\": \"\",\\n  \"examples\": \"\"\\n}',\n",
       "       'Objeto_Parceiro': 'TYPE: string COMMENT: {\\n  \"description\": \"Objeto de custo parceiro de um conjunto de operações de CO\",\\n  \"synonyms\": \"\",\\n  \"column type\": \"STRING\",\\n  \"column content\": \"\",\\n  \"examples\": \"\"\\n}',\n",
       "       'Objeto_Parceiro_Ajustado_H': 'TYPE: string COMMENT: {\\n  \"description\": \"Campo adicional para viabilizar lógica de análise. Classifica os objetos em seu nível final na cadeia de repasse (FOLHA, MATERIALIDADE, DEMANDA) \",\\n  \"synonyms\": \"\",\\n  \"column type\": \"STRING\",\\n  \"column content\": \"\",\\n  \"examples\": \"\"\\n}',\n",
       "       'Valor': 'TYPE: float COMMENT: {\\n  \"description\": \"Valor que um objeto recebe de seu parceiro para cada linha de registro\",\\n  \"synonyms\": \"\",\\n  \"column type\": \"FLOAT\",\\n  \"column content\": \"\",\\n  \"examples\": \"\"\\n}',\n",
       "       'Moeda': 'TYPE: string COMMENT: {\\n  \"description\": \"Moeda do Valor que um objeto recebe de seu parceiro para cada linha de registro\",\\n  \"synonyms\": \"\",\\n  \"column type\": \"STRING\",\\n  \"column content\": \"\",\\n  \"examples\": \"\"\\n}',\n",
       "       'Total': 'TYPE: float COMMENT: {\\n  \"description\": \"Total do gasto do objeto parceiro\",\\n  \"synonyms\": \"\",\\n  \"column type\": \"FLOAT\",\\n  \"column content\": \"\",\\n  \"examples\": \"\"\\n}',\n",
       "       'Rateio': 'TYPE: float COMMENT: {\\n  \"description\": \"% de rateio alocado ao Objeto. Calculado com base na coluna (Valor/Total)*100 \",\\n  \"synonyms\": \"\",\\n  \"column type\": \"FLOAT\",\\n  \"column content\": \"\",\\n  \"examples\": \"\"\\n}',\n",
       "       'Rateio_Acumulado_H': 'TYPE: float COMMENT: {\\n  \"description\": \"Coluna Rateio * Rateio Acumulado do nível de repasse anterior\",\\n  \"synonyms\": \"\",\\n  \"column type\": \"FLOAT\",\\n  \"column content\": \"\",\\n  \"examples\": \"\"\\n}',\n",
       "       'Ciclo_Rateio': 'TYPE: string COMMENT: {\\n  \"description\": \"Código do Ciclo de rateio envolvido na operação\",\\n  \"synonyms\": \"\",\\n  \"column type\": \"STRING\",\\n  \"column content\": \"\",\\n  \"examples\": \"\"\\n}',\n",
       "       'Valor_Calculado_H': 'TYPE: float COMMENT: {\\n  \"description\": \"Valor Calculado (Valor * Rateio Acumulado)\",\\n  \"synonyms\": \"\",\\n  \"column type\": \"FLOAT\",\\n  \"column content\": \"\",\\n  \"examples\": \"\"\\n}',\n",
       "       'id': 'TYPE: string COMMENT: {\\n  \"description\": \"Identificador único para as linhas da tabela\",\\n  \"synonyms\": [\\n    \"chave, chave primária, key, primary key\"\\n  ],\\n  \"column type\": \"STRING\",\\n  \"column content\": \"Chave primária como string uuid\",\\n  \"examples\": \"\"\\n}',\n",
       "       'folder': 'TYPE: string COMMENT: {\\n  \"description\": \"Nome da pasta com base no período\",\\n  \"synonyms\": \"\",\\n  \"column type\": \"STRING\",\\n  \"column content\": \"Utiliz o padrão: aaaa/0mm. Exemplo: \"2015_012\"\",\\n  \"examples\": \"\"\\n}',\n",
       "       'status_processamento': 'TYPE: string COMMENT: {\\n  \"description\": \"Informação sobre status de processamento da pasta\",\\n  \"synonyms\": \"\",\\n  \"column type\": \"STRING\",\\n  \"column content\": [\\n    \"PROCESSADOS\",\\n    \"NAO_PROCESSADOS\"\\n  ],\\n  \"examples\": \"\"\\n}'},\n",
       "      'grants': [191, 361]},\n",
       "     'base_r': {'address': 'dt0047_prd.gastos.base_r_pgov_sefaz_rj_gastos',\n",
       "      'description': '\"Tabela R\"',\n",
       "      'columns': {'Mandante': 'TYPE: string COMMENT: {\\n  \"description\": \"Mandante no Sistema SAP\",\\n  \"synonyms\": \"\",\\n  \"column type\": \"STRING\",\\n  \"column content\": \"\",\\n  \"examples\": \"\"\\n}',\n",
       "       'Objeto_Pesquisado': 'TYPE: string COMMENT: {\\n  \"description\": \"Objeto de Custo a ser extraído no programa de extração de arquivos\",\\n  \"synonyms\": \"\",\\n  \"column type\": \"STRING\",\\n  \"column content\": \"\",\\n  \"examples\": \"\"\\n}',\n",
       "       'Documento_CO': 'TYPE: string COMMENT: {\\n  \"description\": \"Documento de Contabilidade de Custos (módulo CO) onde é registrada uma operação de contabilidade de custos.\",\\n  \"synonyms\": \"\",\\n  \"column type\": \"STRING\",\\n  \"column content\": \"\",\\n  \"examples\": \"\"\\n}',\n",
       "       'Item': 'TYPE: string COMMENT: {\\n  \"description\": \"Item de um documento de CO.  Representa uma partida de um documento contábil de CO\",\\n  \"synonyms\": \"\",\\n  \"column type\": \"STRING\",\\n  \"column content\": \"\",\\n  \"examples\": \"\"\\n}',\n",
       "       'Periodo': 'TYPE: int COMMENT: {\\n  \"description\": \"Período da extração\",\\n  \"synonyms\": \"\",\\n  \"column type\": \"INT\",\\n  \"column content\": \"\",\\n  \"examples\": \"\"\\n}',\n",
       "       'Exercicio': 'TYPE: int COMMENT: {\\n  \"description\": \"Exercício da extração\",\\n  \"synonyms\": \"\",\\n  \"column type\": \"INT\",\\n  \"column content\": \"\",\\n  \"examples\": \"\"\\n}',\n",
       "       'Versao': 'TYPE: string COMMENT: {\\n  \"description\": \"Agrupamento, com base na área de contabilidade de custos, de códigos dependentes do ano para dados planejados. Sempre será versão 0 – Versão planejado/real\",\\n  \"synonyms\": \"\",\\n  \"column type\": \"STRING\",\\n  \"column content\": \"\",\\n  \"examples\": \"\"\\n}',\n",
       "       'Ledger': 'TYPE: string COMMENT: {\\n  \"description\": \"Ledger para objetos de controlling.  Sempre será Ledger 0 – ledger standard\",\\n  \"synonyms\": \"\",\\n  \"column type\": \"STRING\",\\n  \"column content\": \"\",\\n  \"examples\": \"\"\\n}',\n",
       "       'Montante': 'TYPE: float COMMENT: {\\n  \"description\": \"Valor do item do documento CO \",\\n  \"synonyms\": \"\",\\n  \"column type\": \"FLOAT\",\\n  \"column content\": \"\",\\n  \"examples\": \"\"\\n}',\n",
       "       'Objeto': 'TYPE: string COMMENT: {\\n  \"description\": \"Objeto de Custo de um conjunto de operações de CO\",\\n  \"synonyms\": \"\",\\n  \"column type\": \"STRING\",\\n  \"column content\": \"\",\\n  \"examples\": \"\"\\n}',\n",
       "       'Objeto_Parceiro': 'TYPE: string COMMENT: {\\n  \"description\": \"Objeto de custo parceiro de um conjunto de operações de CO\",\\n  \"synonyms\": \"\",\\n  \"column type\": \"STRING\",\\n  \"column content\": \"\",\\n  \"examples\": \"\"\\n}',\n",
       "       'C_D': 'TYPE: string COMMENT: {\\n  \"description\": \"S – Lançamento a débito ou débito receptor; H -> Lançamento a Crédito ou crédito emissor ; A -> Liquidação de Ordem/PEP \",\\n  \"synonyms\": \"\",\\n  \"column type\": \"STRING\",\\n  \"column content\": \"\",\\n  \"examples\": \"\"\\n}',\n",
       "       'Ordenacao': 'TYPE: string COMMENT: {\\n  \"description\": \"Identificador de ligação entre os registros do arquivo de Repasses com seu registro correspondente no arquivo de Hierarquia.\",\\n  \"synonyms\": \"\",\\n  \"column type\": \"STRING\",\\n  \"column content\": \"\",\\n  \"examples\": \"\"\\n}',\n",
       "       'Pesquisa': 'TYPE: string COMMENT: {\\n  \"description\": \"Representa a quantidade de níveis macro numa árvore de repasses\",\\n  \"synonyms\": \"\",\\n  \"column type\": \"STRING\",\\n  \"column content\": \"\",\\n  \"examples\": \"\"\\n}',\n",
       "       'Moeda': 'TYPE: string COMMENT: {\\n  \"description\": \"Moeda do Valor que um objeto recebe de seu parceiro para cada linha de registro\",\\n  \"synonyms\": \"\",\\n  \"column type\": \"STRING\",\\n  \"column content\": \"\",\\n  \"examples\": \"\"\\n}',\n",
       "       'Objeto_Parceiro_Ajustado': 'TYPE: string COMMENT: {\\n  \"description\": \"Campo adicional para viabilizar lógica de análise. Classifica os objetos em seu nível final na cadeia de repasse (FOLHA, MATERIALIDADE, DEMANDA) \",\\n  \"synonyms\": \"\",\\n  \"column type\": \"STRING\",\\n  \"column content\": \"\",\\n  \"examples\": \"\"\\n}',\n",
       "       'Data': 'TYPE: date COMMENT: {\\n  \"description\": \"Data de registro do documento de CO\",\\n  \"synonyms\": \"\",\\n  \"column type\": \"DATE\",\\n  \"column content\": \"\",\\n  \"examples\": \"\"\\n}',\n",
       "       'Hora': 'TYPE: string COMMENT: {\\n  \"description\": \"Hora do registro do documento de CO\",\\n  \"synonyms\": \"\",\\n  \"column type\": \"STRING\",\\n  \"column content\": \"\",\\n  \"examples\": \"\"\\n}',\n",
       "       'Ciclo_Rateio': 'TYPE: string COMMENT: {\\n  \"description\": \"Código do Ciclo de rateio envolvido na operação\",\\n  \"synonyms\": \"\",\\n  \"column type\": \"STRING\",\\n  \"column content\": \"\",\\n  \"examples\": \"\"\\n}',\n",
       "       'Item_Rateio': 'TYPE: string COMMENT: {\\n  \"description\": \"Assume o valor ‘0” para operações que não sejam rateio e “1” para operações de rateio \",\\n  \"synonyms\": \"\",\\n  \"column type\": \"STRING\",\\n  \"column content\": \"\",\\n  \"examples\": \"\"\\n}',\n",
       "       'Data_Rateio': 'TYPE: string COMMENT: {\\n  \"description\": \"Data da operação e rateio\",\\n  \"synonyms\": \"\",\\n  \"column type\": \"STRING\",\\n  \"column content\": \"\",\\n  \"examples\": \"\"\\n}',\n",
       "       'Operacao': 'TYPE: string COMMENT: {\\n  \"description\": \"Códigos de operação do sistema SAP\",\\n  \"synonyms\": \"\",\\n  \"column type\": \"STRING\",\\n  \"column content\": \"\",\\n  \"examples\": \"\"\\n}',\n",
       "       'Classe_de_custo': 'TYPE: string COMMENT: {\\n  \"description\": \"Contas contábeis refletidas na contabilidade de custos – módulo CO\",\\n  \"synonyms\": \"\",\\n  \"column type\": \"STRING\",\\n  \"column content\": \"\",\\n  \"examples\": \"\"\\n}',\n",
       "       'Valor_Transacao': 'TYPE: float COMMENT: {\\n  \"description\": \"Valor da transação\",\\n  \"synonyms\": \"\",\\n  \"column type\": \"FLOAT\",\\n  \"column content\": \"\",\\n  \"examples\": \"\"\\n}',\n",
       "       'Moeda_Transacao': 'TYPE: string COMMENT: {\\n  \"description\": \"Moeda da transação\",\\n  \"synonyms\": \"\",\\n  \"column type\": \"STRING\",\\n  \"column content\": \"\",\\n  \"examples\": \"\"\\n}',\n",
       "       'Doc_Compra': 'TYPE: string COMMENT: {\\n  \"description\": \"Pedido de compra\",\\n  \"synonyms\": \"\",\\n  \"column type\": \"STRING\",\\n  \"column content\": \"\",\\n  \"examples\": \"\"\\n}',\n",
       "       'Item_Doc_Compra': 'TYPE: string COMMENT: {\\n  \"description\": \"Item do pedido de compra\",\\n  \"synonyms\": \"\",\\n  \"column type\": \"STRING\",\\n  \"column content\": \"\",\\n  \"examples\": \"\"\\n}',\n",
       "       'Item_Class_Cont': 'TYPE: string COMMENT: {\\n  \"description\": \"Número que define a classificação contábil de um item do documento de compras.\",\\n  \"synonyms\": \"\",\\n  \"column type\": \"STRING\",\\n  \"column content\": \"\",\\n  \"examples\": \"\"\\n}',\n",
       "       'Centro': 'TYPE: string COMMENT: {\\n  \"description\": \"Centro\",\\n  \"synonyms\": \"\",\\n  \"column type\": \"STRING\",\\n  \"column content\": \"\",\\n  \"examples\": \"\"\\n}',\n",
       "       'Material': 'TYPE: string COMMENT: {\\n  \"description\": \"Código do material\",\\n  \"synonyms\": \"\",\\n  \"column type\": \"STRING\",\\n  \"column content\": \"\",\\n  \"examples\": \"\"\\n}',\n",
       "       'Quantidade_Entrada': 'TYPE: float COMMENT: {\\n  \"description\": \"Quantidade entrada na operação\",\\n  \"synonyms\": \"\",\\n  \"column type\": \"FLOAT\",\\n  \"column content\": \"\",\\n  \"examples\": \"\"\\n}',\n",
       "       'Unidade_Medida': 'TYPE: string COMMENT: {\\n  \"description\": \"Unidade de medida\",\\n  \"synonyms\": \"\",\\n  \"column type\": \"STRING\",\\n  \"column content\": \"\",\\n  \"examples\": \"\"\\n}',\n",
       "       'Chave_subno': 'TYPE: string COMMENT: {\\n  \"description\": \"CO chave subnº\",\\n  \"synonyms\": \"\",\\n  \"column type\": \"STRING\",\\n  \"column content\": \"\",\\n  \"examples\": \"\"\\n}',\n",
       "       'Item_Doc_Ref': 'TYPE: string COMMENT: {\\n  \"description\": \"Item do documento de referência\",\\n  \"synonyms\": \"\",\\n  \"column type\": \"STRING\",\\n  \"column content\": \"\",\\n  \"examples\": \"\"\\n}',\n",
       "       'Categoria_Doc_Ref': 'TYPE: string COMMENT: {\\n  \"description\": \"Categoria do documento de referência\",\\n  \"synonyms\": \"\",\\n  \"column type\": \"STRING\",\\n  \"column content\": \"\",\\n  \"examples\": \"\"\\n}',\n",
       "       'Documento_Referencia': 'TYPE: string COMMENT: {\\n  \"description\": \"Documento de referência do documento de CO\",\\n  \"synonyms\": \"\",\\n  \"column type\": \"STRING\",\\n  \"column content\": \"\",\\n  \"examples\": \"\"\\n}',\n",
       "       'Empresa_Doc_Ref': 'TYPE: string COMMENT: {\\n  \"description\": \"Empresa do documento de referência\",\\n  \"synonyms\": \"\",\\n  \"column type\": \"STRING\",\\n  \"column content\": \"\",\\n  \"examples\": \"\"\\n}',\n",
       "       'Exercicio_Doc_Ref': 'TYPE: int COMMENT: {\\n  \"description\": \"Exercício do documento de referência\",\\n  \"synonyms\": \"\",\\n  \"column type\": \"INT\",\\n  \"column content\": \"\",\\n  \"examples\": \"\"\\n}',\n",
       "       'Tipo_Doc_Ref': 'TYPE: string COMMENT: {\\n  \"description\": \"Tipo do documento de referência de FI\",\\n  \"synonyms\": \"\",\\n  \"column type\": \"STRING\",\\n  \"column content\": \"\",\\n  \"examples\": \"\"\\n}',\n",
       "       'Conta_Contrapartida': 'TYPE: string COMMENT: {\\n  \"description\": \"Conta de contrapartida do item de registro do documento de CO\",\\n  \"synonyms\": \"\",\\n  \"column type\": \"STRING\",\\n  \"column content\": \"\",\\n  \"examples\": \"\"\\n}',\n",
       "       'Status': 'TYPE: string COMMENT: {\\n  \"description\": \"Observação do Lançamento\",\\n  \"synonyms\": \"\",\\n  \"column type\": \"STRING\",\\n  \"column content\": \"\",\\n  \"examples\": \"\"\\n}',\n",
       "       'Rateio_acumulado': 'TYPE: string COMMENT: {\\n  \"description\": \"Coluna Rateio * Rateio Acumulado do nível de repasse anterior\",\\n  \"synonyms\": \"\",\\n  \"column type\": \"STRING\",\\n  \"column content\": \"\",\\n  \"examples\": \"\"\\n}',\n",
       "       'Origem_Repasse': 'TYPE: string COMMENT: {\\n  \"description\": \"Classificação Origem – G e Repasse - R\",\\n  \"synonyms\": \"\",\\n  \"column type\": \"STRING\",\\n  \"column content\": \"\",\\n  \"examples\": \"\"\\n}',\n",
       "       'Tipo_do_objeto_de_custo': 'TYPE: string COMMENT: {\\n  \"description\": \"Tipo do objeto de custo\",\\n  \"synonyms\": \"\",\\n  \"column type\": \"STRING\",\\n  \"column content\": \"\",\\n  \"examples\": \"\"\\n}',\n",
       "       'Tipo_do_objeto_parceiro': 'TYPE: string COMMENT: {\\n  \"description\": \"Tipo do objeto parceiro\",\\n  \"synonyms\": \"\",\\n  \"column type\": \"STRING\",\\n  \"column content\": \"\",\\n  \"examples\": \"\"\\n}',\n",
       "       'Grupo_de_conta': 'TYPE: string COMMENT: {\\n  \"description\": \"Grupo de conta (4, 5 ou 6)\",\\n  \"synonyms\": \"\",\\n  \"column type\": \"STRING\",\\n  \"column content\": \"\",\\n  \"examples\": \"\"\\n}',\n",
       "       'Conta_reduzida': 'TYPE: string COMMENT: {\\n  \"description\": \"Dois primeiros dígitos das classes de custos\",\\n  \"synonyms\": \"\",\\n  \"column type\": \"STRING\",\\n  \"column content\": \"\",\\n  \"examples\": \"\"\\n}',\n",
       "       'Tipo_de_custos': 'TYPE: string COMMENT: {\\n  \"description\": \"Informação utilizada para contabilidade de parcerias\",\\n  \"synonyms\": \"\",\\n  \"column type\": \"STRING\",\\n  \"column content\": \"\",\\n  \"examples\": \"\"\\n}',\n",
       "       'Texto_breve_material': 'TYPE: string COMMENT: {\\n  \"description\": \"Texto breve do material\",\\n  \"synonyms\": \"\",\\n  \"column type\": \"STRING\",\\n  \"column content\": \"\",\\n  \"examples\": \"\"\\n}',\n",
       "       'Tipo_de_avaliacao': 'TYPE: string COMMENT: {\\n  \"description\": \"Código que identifica univocamente os estoques avaliados separadamente de um material.\",\\n  \"synonyms\": \"\",\\n  \"column type\": \"STRING\",\\n  \"column content\": \"\",\\n  \"examples\": \"\"\\n}',\n",
       "       'Contrato_basico': 'TYPE: string COMMENT: {\\n  \"description\": \"Contrato básico que subsidia a operação\",\\n  \"synonyms\": \"\",\\n  \"column type\": \"STRING\",\\n  \"column content\": \"\",\\n  \"examples\": \"\"\\n}',\n",
       "       'Instrumento_Contratual_Juridico': 'TYPE: string COMMENT: {\\n  \"description\": \"Instrumento Contratual Jurídico\",\\n  \"synonyms\": \"\",\\n  \"column type\": \"STRING\",\\n  \"column content\": \"\",\\n  \"examples\": \"\"\\n}',\n",
       "       'Fornecedor': 'TYPE: string COMMENT: {\\n  \"description\": \"Código do Fornecedor\",\\n  \"synonyms\": \"\",\\n  \"column type\": \"STRING\",\\n  \"column content\": \"\",\\n  \"examples\": \"\"\\n}',\n",
       "       'Nome_completo_do_Fornecedor': 'TYPE: string COMMENT: {\\n  \"description\": \"Nome completo do Fornecedor\",\\n  \"synonyms\": \"\",\\n  \"column type\": \"STRING\",\\n  \"column content\": \"\",\\n  \"examples\": \"\"\\n}',\n",
       "       'N_nota_fiscal': 'TYPE: string COMMENT: {\\n  \"description\": \"Nº nota fiscal\",\\n  \"synonyms\": \"\",\\n  \"column type\": \"STRING\",\\n  \"column content\": \"\",\\n  \"examples\": \"\"\\n}',\n",
       "       'N_da_NF_e': 'TYPE: string COMMENT: {\\n  \"description\": \"Nº da NF-e\",\\n  \"synonyms\": \"\",\\n  \"column type\": \"STRING\",\\n  \"column content\": \"\",\\n  \"examples\": \"\"\\n}',\n",
       "       'Protocolo_de_Recebimento_de_Nota_Fiscal': 'TYPE: string COMMENT: {\\n  \"description\": \"Protocolo de Recebimento de Nota Fiscal\",\\n  \"synonyms\": \"\",\\n  \"column type\": \"STRING\",\\n  \"column content\": \"\",\\n  \"examples\": \"\"\\n}',\n",
       "       'N_de_documento_da_fatura': 'TYPE: string COMMENT: {\\n  \"description\": \"Nº de documento da fatura - MIRO\",\\n  \"synonyms\": \"\",\\n  \"column type\": \"STRING\",\\n  \"column content\": \"\",\\n  \"examples\": \"\"\\n}',\n",
       "       'Exercicio_da_fatura': 'TYPE: string COMMENT: {\\n  \"description\": \"Exercício da fatura\",\\n  \"synonyms\": \"\",\\n  \"column type\": \"STRING\",\\n  \"column content\": \"\",\\n  \"examples\": \"\"\\n}',\n",
       "       'Folha_reg_servicos': 'TYPE: string COMMENT: {\\n  \"description\": \"Folha de registro de serviços - FRS\",\\n  \"synonyms\": \"\",\\n  \"column type\": \"STRING\",\\n  \"column content\": \"\",\\n  \"examples\": \"\"\\n}',\n",
       "       'Relatorio_de_Medicao': 'TYPE: string COMMENT: {\\n  \"description\": \"Registro de Medição - RM\",\\n  \"synonyms\": \"\",\\n  \"column type\": \"STRING\",\\n  \"column content\": \"\",\\n  \"examples\": \"\"\\n}',\n",
       "       'Doc_material': 'TYPE: string COMMENT: {\\n  \"description\": \"Documento de material - MIGO\",\\n  \"synonyms\": \"\",\\n  \"column type\": \"STRING\",\\n  \"column content\": \"\",\\n  \"examples\": \"\"\\n}',\n",
       "       'Chave_de_acesso_da_NF_e': 'TYPE: string COMMENT: {\\n  \"description\": \"Chave de acesso da NF-e\",\\n  \"synonyms\": \"\",\\n  \"column type\": \"STRING\",\\n  \"column content\": \"\",\\n  \"examples\": \"\"\\n}',\n",
       "       'Observacoes': 'TYPE: string COMMENT: {\\n  \"description\": \"Campo para controle de análise e geração do arquivo\",\\n  \"synonyms\": \"\",\\n  \"column type\": \"STRING\",\\n  \"column content\": \"\",\\n  \"examples\": \"\"\\n}',\n",
       "       'id': 'TYPE: string COMMENT: {\\n  \"description\": \"Identificador único para as linhas da tabela\",\\n  \"synonyms\": [\\n    \"chave, chave primária, key, primary key\"\\n  ],\\n  \"column type\": \"STRING\",\\n  \"column content\": \"Chave primária como string uuid\",\\n  \"examples\": \"\"\\n}',\n",
       "       'folder': 'TYPE: string COMMENT: {\\n  \"description\": \"Nome da pasta com base no período\",\\n  \"synonyms\": \"\",\\n  \"column type\": \"STRING\",\\n  \"column content\": \"Utiliz o padrão: aaaa/0mm. Exemplo: \"2015_012\"\",\\n  \"examples\": \"\"\\n}',\n",
       "       'status_processamento': 'TYPE: string COMMENT: {\\n  \"description\": \"Informação sobre status de processamento da pasta\",\\n  \"synonyms\": \"\",\\n  \"column type\": \"STRING\",\\n  \"column content\": [\\n    \"PROCESSADOS\",\\n    \"NAO_PROCESSADOS\"\\n  ],\\n  \"examples\": \"\"\\n}'},\n",
       "      'grants': [191, 361]},\n",
       "     'base_resultado': {'address': 'dt0047_prd.gastos.base_result_pgov_sefaz_rj_gastos',\n",
       "      'description': '\"Tabela resultado entre o merge das tabelas H e R\"',\n",
       "      'columns': {'Mandante': 'TYPE: string COMMENT: {\\n  \"description\": \"Mandante no Sistema SAP\",\\n  \"synonyms\": \"\",\\n  \"column type\": \"STRING\",\\n  \"column content\": \"\",\\n  \"examples\": \"\"\\n}',\n",
       "       'Objeto_Pesquisado': 'TYPE: string COMMENT: {\\n  \"description\": \"Objeto de Custo a ser extraído no programa de extração de arquivos\",\\n  \"synonyms\": \"\",\\n  \"column type\": \"STRING\",\\n  \"column content\": \"\",\\n  \"examples\": \"\"\\n}',\n",
       "       'Documento_CO': 'TYPE: string COMMENT: {\\n  \"description\": \"Documento de Contabilidade de Custos (módulo CO) onde é registrada uma operação de contabilidade de custos.\",\\n  \"synonyms\": \"\",\\n  \"column type\": \"STRING\",\\n  \"column content\": \"\",\\n  \"examples\": \"\"\\n}',\n",
       "       'Item': 'TYPE: string COMMENT: {\\n  \"description\": \"Item de um documento de CO.  Representa uma partida de um documento contábil de CO\",\\n  \"synonyms\": \"\",\\n  \"column type\": \"STRING\",\\n  \"column content\": \"\",\\n  \"examples\": \"\"\\n}',\n",
       "       'Periodo': 'TYPE: int COMMENT: {\\n  \"description\": \"Período da extração\",\\n  \"synonyms\": \"\",\\n  \"column type\": \"INT\",\\n  \"column content\": \"\",\\n  \"examples\": \"\"\\n}',\n",
       "       'Exercicio': 'TYPE: int COMMENT: {\\n  \"description\": \"Exercício da extração\",\\n  \"synonyms\": \"\",\\n  \"column type\": \"INT\",\\n  \"column content\": \"\",\\n  \"examples\": \"\"\\n}',\n",
       "       'Versao': 'TYPE: string COMMENT: {\\n  \"description\": \"Agrupamento, com base na área de contabilidade de custos, de códigos dependentes do ano para dados planejados. Sempre será versão 0 – Versão planejado/real\",\\n  \"synonyms\": \"\",\\n  \"column type\": \"STRING\",\\n  \"column content\": \"\",\\n  \"examples\": \"\"\\n}',\n",
       "       'Ledger': 'TYPE: string COMMENT: {\\n  \"description\": \"Ledger para objetos de controlling.  Sempre será Ledger 0 – ledger standard\",\\n  \"synonyms\": \"\",\\n  \"column type\": \"STRING\",\\n  \"column content\": \"\",\\n  \"examples\": \"\"\\n}',\n",
       "       'Montante': 'TYPE: float COMMENT: {\\n  \"description\": \"Valor do item do documento CO \",\\n  \"synonyms\": \"\",\\n  \"column type\": \"FLOAT\",\\n  \"column content\": \"\",\\n  \"examples\": \"\"\\n}',\n",
       "       'Objeto': 'TYPE: string COMMENT: {\\n  \"description\": \"Objeto de Custo de um conjunto de operações de CO\",\\n  \"synonyms\": \"\",\\n  \"column type\": \"STRING\",\\n  \"column content\": \"\",\\n  \"examples\": \"\"\\n}',\n",
       "       'Objeto_Parceiro': 'TYPE: string COMMENT: {\\n  \"description\": \"Objeto de custo parceiro de um conjunto de operações de CO\",\\n  \"synonyms\": \"\",\\n  \"column type\": \"STRING\",\\n  \"column content\": \"\",\\n  \"examples\": \"\"\\n}',\n",
       "       'C_D': 'TYPE: string COMMENT: {\\n  \"description\": \"S – Lançamento a débito ou débito receptor; H -> Lançamento a Crédito ou crédito emissor ; A -> Liquidação de Ordem/PEP \",\\n  \"synonyms\": \"\",\\n  \"column type\": \"STRING\",\\n  \"column content\": \"\",\\n  \"examples\": \"\"\\n}',\n",
       "       'Ordenacao': 'TYPE: string COMMENT: {\\n  \"description\": \"Identificador de ligação entre os registros do arquivo de Repasses com seu registro correspondente no arquivo de Hierarquia.\",\\n  \"synonyms\": \"\",\\n  \"column type\": \"STRING\",\\n  \"column content\": \"\",\\n  \"examples\": \"\"\\n}',\n",
       "       'Pesquisa': 'TYPE: string COMMENT: {\\n  \"description\": \"Representa a quantidade de níveis macro numa árvore de repasses\",\\n  \"synonyms\": \"\",\\n  \"column type\": \"STRING\",\\n  \"column content\": \"\",\\n  \"examples\": \"\"\\n}',\n",
       "       'Moeda': 'TYPE: string COMMENT: {\\n  \"description\": \"Moeda do Valor que um objeto recebe de seu parceiro para cada linha de registro\",\\n  \"synonyms\": \"\",\\n  \"column type\": \"STRING\",\\n  \"column content\": \"\",\\n  \"examples\": \"\"\\n}',\n",
       "       'Objeto_Parceiro_Ajustado': 'TYPE: string COMMENT: {\\n  \"description\": \"Campo adicional para viabilizar lógica de análise. Classifica os objetos em seu nível final na cadeia de repasse (FOLHA, MATERIALIDADE, DEMANDA) \",\\n  \"synonyms\": \"\",\\n  \"column type\": \"STRING\",\\n  \"column content\": \"\",\\n  \"examples\": \"\"\\n}',\n",
       "       'Data': 'TYPE: date COMMENT: {\\n  \"description\": \"Data de registro do documento de CO\",\\n  \"synonyms\": \"\",\\n  \"column type\": \"DATE\",\\n  \"column content\": \"\",\\n  \"examples\": \"\"\\n}',\n",
       "       'Hora': 'TYPE: string COMMENT: {\\n  \"description\": \"Hora do registro do documento de CO\",\\n  \"synonyms\": \"\",\\n  \"column type\": \"STRING\",\\n  \"column content\": \"\",\\n  \"examples\": \"\"\\n}',\n",
       "       'Ciclo_Rateio': 'TYPE: string COMMENT: {\\n  \"description\": \"Código do Ciclo de rateio envolvido na operação\",\\n  \"synonyms\": \"\",\\n  \"column type\": \"STRING\",\\n  \"column content\": \"\",\\n  \"examples\": \"\"\\n}',\n",
       "       'Item_Rateio': 'TYPE: string COMMENT: {\\n  \"description\": \"Assume o valor ‘0” para operações que não sejam rateio e “1” para operações de rateio \",\\n  \"synonyms\": \"\",\\n  \"column type\": \"STRING\",\\n  \"column content\": \"\",\\n  \"examples\": \"\"\\n}',\n",
       "       'Data_Rateio': 'TYPE: string COMMENT: {\\n  \"description\": \"Data da operação e rateio\",\\n  \"synonyms\": \"\",\\n  \"column type\": \"STRING\",\\n  \"column content\": \"\",\\n  \"examples\": \"\"\\n}',\n",
       "       'Operacao': 'TYPE: string COMMENT: {\\n  \"description\": \"Códigos de operação do sistema SAP\",\\n  \"synonyms\": \"\",\\n  \"column type\": \"STRING\",\\n  \"column content\": \"\",\\n  \"examples\": \"\"\\n}',\n",
       "       'Classe_de_custo': 'TYPE: string COMMENT: {\\n  \"description\": \"Contas contábeis refletidas na contabilidade de custos – módulo CO\",\\n  \"synonyms\": \"\",\\n  \"column type\": \"STRING\",\\n  \"column content\": \"\",\\n  \"examples\": \"\"\\n}',\n",
       "       'Valor_Transacao': 'TYPE: float COMMENT: {\\n  \"description\": \"Valor da transação\",\\n  \"synonyms\": \"\",\\n  \"column type\": \"FLOAT\",\\n  \"column content\": \"\",\\n  \"examples\": \"\"\\n}',\n",
       "       'Moeda_Transacao': 'TYPE: string COMMENT: {\\n  \"description\": \"Moeda da transação\",\\n  \"synonyms\": \"\",\\n  \"column type\": \"STRING\",\\n  \"column content\": \"\",\\n  \"examples\": \"\"\\n}',\n",
       "       'Doc_Compra': 'TYPE: string COMMENT: {\\n  \"description\": \"Pedido de compra\",\\n  \"synonyms\": \"\",\\n  \"column type\": \"STRING\",\\n  \"column content\": \"\",\\n  \"examples\": \"\"\\n}',\n",
       "       'Item_Doc_Compra': 'TYPE: string COMMENT: {\\n  \"description\": \"Item do pedido de compra\",\\n  \"synonyms\": \"\",\\n  \"column type\": \"STRING\",\\n  \"column content\": \"\",\\n  \"examples\": \"\"\\n}',\n",
       "       'Item_Class_Cont': 'TYPE: string COMMENT: {\\n  \"description\": \"Número que define a classificação contábil de um item do documento de compras.\",\\n  \"synonyms\": \"\",\\n  \"column type\": \"STRING\",\\n  \"column content\": \"\",\\n  \"examples\": \"\"\\n}',\n",
       "       'Centro': 'TYPE: string COMMENT: {\\n  \"description\": \"Centro\",\\n  \"synonyms\": \"\",\\n  \"column type\": \"STRING\",\\n  \"column content\": \"\",\\n  \"examples\": \"\"\\n}',\n",
       "       'Material': 'TYPE: string COMMENT: {\\n  \"description\": \"Código do material\",\\n  \"synonyms\": \"\",\\n  \"column type\": \"STRING\",\\n  \"column content\": \"\",\\n  \"examples\": \"\"\\n}',\n",
       "       'Quantidade_Entrada': 'TYPE: float COMMENT: {\\n  \"description\": \"Quantidade entrada na operação\",\\n  \"synonyms\": \"\",\\n  \"column type\": \"FLOAT\",\\n  \"column content\": \"\",\\n  \"examples\": \"\"\\n}',\n",
       "       'Unidade_Medida': 'TYPE: string COMMENT: {\\n  \"description\": \"Unidade de medida\",\\n  \"synonyms\": \"\",\\n  \"column type\": \"STRING\",\\n  \"column content\": \"\",\\n  \"examples\": \"\"\\n}',\n",
       "       'Chave_subno': 'TYPE: string COMMENT: {\\n  \"description\": \"CO chave subnº\",\\n  \"synonyms\": \"\",\\n  \"column type\": \"STRING\",\\n  \"column content\": \"\",\\n  \"examples\": \"\"\\n}',\n",
       "       'Item_Doc_Ref': 'TYPE: string COMMENT: {\\n  \"description\": \"Item do documento de referência\",\\n  \"synonyms\": \"\",\\n  \"column type\": \"STRING\",\\n  \"column content\": \"\",\\n  \"examples\": \"\"\\n}',\n",
       "       'Categoria_Doc_Ref': 'TYPE: string COMMENT: {\\n  \"description\": \"Categoria do documento de referência\",\\n  \"synonyms\": \"\",\\n  \"column type\": \"STRING\",\\n  \"column content\": \"\",\\n  \"examples\": \"\"\\n}',\n",
       "       'Documento_Referencia': 'TYPE: string COMMENT: {\\n  \"description\": \"Documento de referência do documento de CO\",\\n  \"synonyms\": \"\",\\n  \"column type\": \"STRING\",\\n  \"column content\": \"\",\\n  \"examples\": \"\"\\n}',\n",
       "       'Empresa_Doc_Ref': 'TYPE: string COMMENT: {\\n  \"description\": \"Empresa do documento de referência\",\\n  \"synonyms\": \"\",\\n  \"column type\": \"STRING\",\\n  \"column content\": \"\",\\n  \"examples\": \"\"\\n}',\n",
       "       'Exercicio_Doc_Ref': 'TYPE: int COMMENT: {\\n  \"description\": \"Exercício do documento de referência\",\\n  \"synonyms\": \"\",\\n  \"column type\": \"INT\",\\n  \"column content\": \"\",\\n  \"examples\": \"\"\\n}',\n",
       "       'Tipo_Doc_Ref': 'TYPE: string COMMENT: {\\n  \"description\": \"Tipo do documento de referência de FI\",\\n  \"synonyms\": \"\",\\n  \"column type\": \"STRING\",\\n  \"column content\": \"\",\\n  \"examples\": \"\"\\n}',\n",
       "       'Conta_Contrapartida': 'TYPE: string COMMENT: {\\n  \"description\": \"Conta de contrapartida do item de registro do documento de CO\",\\n  \"synonyms\": \"\",\\n  \"column type\": \"STRING\",\\n  \"column content\": \"\",\\n  \"examples\": \"\"\\n}',\n",
       "       'Status': 'TYPE: string COMMENT: {\\n  \"description\": \"Observação do Lançamento\",\\n  \"synonyms\": \"\",\\n  \"column type\": \"STRING\",\\n  \"column content\": \"\",\\n  \"examples\": \"\"\\n}',\n",
       "       'Rateio_acumulado': 'TYPE: string COMMENT: {\\n  \"description\": \"Coluna Rateio * Rateio Acumulado do nível de repasse anterior\",\\n  \"synonyms\": \"\",\\n  \"column type\": \"STRING\",\\n  \"column content\": \"\",\\n  \"examples\": \"\"\\n}',\n",
       "       'Origem_Repasse': 'TYPE: string COMMENT: {\\n  \"description\": \"Classificação Origem – G e Repasse - R\",\\n  \"synonyms\": \"\",\\n  \"column type\": \"STRING\",\\n  \"column content\": \"\",\\n  \"examples\": \"\"\\n}',\n",
       "       'Tipo_do_objeto_de_custo': 'TYPE: string COMMENT: {\\n  \"description\": \"Tipo do objeto de custo\",\\n  \"synonyms\": \"\",\\n  \"column type\": \"STRING\",\\n  \"column content\": \"\",\\n  \"examples\": \"\"\\n}',\n",
       "       'Tipo_do_objeto_parceiro': 'TYPE: string COMMENT: {\\n  \"description\": \"Tipo do objeto parceiro\",\\n  \"synonyms\": \"\",\\n  \"column type\": \"STRING\",\\n  \"column content\": \"\",\\n  \"examples\": \"\"\\n}',\n",
       "       'Grupo_de_conta': 'TYPE: string COMMENT: {\\n  \"description\": \"Grupo de conta (4, 5 ou 6)\",\\n  \"synonyms\": \"\",\\n  \"column type\": \"STRING\",\\n  \"column content\": \"\",\\n  \"examples\": \"\"\\n}',\n",
       "       'Conta_reduzida': 'TYPE: string COMMENT: {\\n  \"description\": \"Dois primeiros dígitos das classes de custos\",\\n  \"synonyms\": \"\",\\n  \"column type\": \"STRING\",\\n  \"column content\": \"\",\\n  \"examples\": \"\"\\n}',\n",
       "       'Tipo_de_custos': 'TYPE: string COMMENT: {\\n  \"description\": \"Informação utilizada para contabilidade de parcerias\",\\n  \"synonyms\": \"\",\\n  \"column type\": \"STRING\",\\n  \"column content\": \"\",\\n  \"examples\": \"\"\\n}',\n",
       "       'Texto_breve_material': 'TYPE: string COMMENT: {\\n  \"description\": \"Texto breve do material\",\\n  \"synonyms\": \"\",\\n  \"column type\": \"STRING\",\\n  \"column content\": \"\",\\n  \"examples\": \"\"\\n}',\n",
       "       'Tipo_de_avaliacao': 'TYPE: string COMMENT: {\\n  \"description\": \"Código que identifica univocamente os estoques avaliados separadamente de um material.\",\\n  \"synonyms\": \"\",\\n  \"column type\": \"STRING\",\\n  \"column content\": \"\",\\n  \"examples\": \"\"\\n}',\n",
       "       'Contrato_basico': 'TYPE: string COMMENT: {\\n  \"description\": \"Contrato básico que subsidia a operação\",\\n  \"synonyms\": \"\",\\n  \"column type\": \"STRING\",\\n  \"column content\": \"\",\\n  \"examples\": \"\"\\n}',\n",
       "       'Instrumento_Contratual_Juridico': 'TYPE: string COMMENT: {\\n  \"description\": \"Instrumento Contratual Jurídico\",\\n  \"synonyms\": \"\",\\n  \"column type\": \"STRING\",\\n  \"column content\": \"\",\\n  \"examples\": \"\"\\n}',\n",
       "       'Fornecedor': 'TYPE: string COMMENT: {\\n  \"description\": \"Código do Fornecedor\",\\n  \"synonyms\": \"\",\\n  \"column type\": \"STRING\",\\n  \"column content\": \"\",\\n  \"examples\": \"\"\\n}',\n",
       "       'Nome_completo_do_Fornecedor': 'TYPE: string COMMENT: {\\n  \"description\": \"Nome completo do Fornecedor\",\\n  \"synonyms\": \"\",\\n  \"column type\": \"STRING\",\\n  \"column content\": \"\",\\n  \"examples\": \"\"\\n}',\n",
       "       'N_nota_fiscal': 'TYPE: string COMMENT: {\\n  \"description\": \"Nº nota fiscal\",\\n  \"synonyms\": \"\",\\n  \"column type\": \"STRING\",\\n  \"column content\": \"\",\\n  \"examples\": \"\"\\n}',\n",
       "       'N_da_NF_e': 'TYPE: string COMMENT: {\\n  \"description\": \"Nº da NF-e\",\\n  \"synonyms\": \"\",\\n  \"column type\": \"STRING\",\\n  \"column content\": \"\",\\n  \"examples\": \"\"\\n}',\n",
       "       'Protocolo_de_Recebimento_de_Nota_Fiscal': 'TYPE: string COMMENT: {\\n  \"description\": \"Protocolo de Recebimento de Nota Fiscal\",\\n  \"synonyms\": \"\",\\n  \"column type\": \"STRING\",\\n  \"column content\": \"\",\\n  \"examples\": \"\"\\n}',\n",
       "       'N_de_documento_da_fatura': 'TYPE: string COMMENT: {\\n  \"description\": \"Nº de documento da fatura - MIRO\",\\n  \"synonyms\": \"\",\\n  \"column type\": \"STRING\",\\n  \"column content\": \"\",\\n  \"examples\": \"\"\\n}',\n",
       "       'Exercicio_da_fatura': 'TYPE: string COMMENT: {\\n  \"description\": \"Exercício da fatura\",\\n  \"synonyms\": \"\",\\n  \"column type\": \"STRING\",\\n  \"column content\": \"\",\\n  \"examples\": \"\"\\n}',\n",
       "       'Folha_reg_servicos': 'TYPE: string COMMENT: {\\n  \"description\": \"Folha de registro de serviços - FRS\",\\n  \"synonyms\": \"\",\\n  \"column type\": \"STRING\",\\n  \"column content\": \"\",\\n  \"examples\": \"\"\\n}',\n",
       "       'Relatorio_de_Medicao': 'TYPE: string COMMENT: {\\n  \"description\": \"Registro de Medição - RM\",\\n  \"synonyms\": \"\",\\n  \"column type\": \"STRING\",\\n  \"column content\": \"\",\\n  \"examples\": \"\"\\n}',\n",
       "       'Doc_material': 'TYPE: string COMMENT: {\\n  \"description\": \"Documento de material - MIGO\",\\n  \"synonyms\": \"\",\\n  \"column type\": \"STRING\",\\n  \"column content\": \"\",\\n  \"examples\": \"\"\\n}',\n",
       "       'Chave_de_acesso_da_NF_e': 'TYPE: string COMMENT: {\\n  \"description\": \"Chave de acesso da NF-e\",\\n  \"synonyms\": \"\",\\n  \"column type\": \"STRING\",\\n  \"column content\": \"\",\\n  \"examples\": \"\"\\n}',\n",
       "       'Observacoes': 'TYPE: string COMMENT: {\\n  \"description\": \"Campo para controle de análise e geração do arquivo\",\\n  \"synonyms\": \"\",\\n  \"column type\": \"STRING\",\\n  \"column content\": \"\",\\n  \"examples\": \"\"\\n}',\n",
       "       'Objeto_Parceiro_Ajustado_H': 'TYPE: string COMMENT: {\\n  \"description\": \"Campo adicional para viabilizar lógica de análise. Classifica os objetos em seu nível final na cadeia de repasse (FOLHA, MATERIALIDADE, DEMANDA) \",\\n  \"synonyms\": \"\",\\n  \"column type\": \"STRING\",\\n  \"column content\": \"\",\\n  \"examples\": \"\"\\n}',\n",
       "       'Rateio_Acumulado_H': 'TYPE: float COMMENT: {\\n  \"description\": \"Coluna Rateio * Rateio Acumulado do nível de repasse anterior\",\\n  \"synonyms\": \"\",\\n  \"column type\": \"FLOAT\",\\n  \"column content\": \"\",\\n  \"examples\": \"\"\\n}',\n",
       "       'Valor_Calculado_H': 'TYPE: float COMMENT: {\\n  \"description\": \"Valor Calculado (Valor * Rateio Acumulado)\",\\n  \"synonyms\": \"\",\\n  \"column type\": \"FLOAT\",\\n  \"column content\": \"\",\\n  \"examples\": \"\"\\n}',\n",
       "       'Valor_Calculado_R': 'TYPE: float COMMENT: {\\n  \"description\": \"Valor Calculado (Montante * Rateio Acumulado)\",\\n  \"synonyms\": \"\",\\n  \"column type\": \"FLOAT\",\\n  \"column content\": \"\",\\n  \"examples\": \"\"\\n}',\n",
       "       'id': 'TYPE: string COMMENT: {\\n  \"description\": \"Identificador único para as linhas da tabela\",\\n  \"synonyms\": [\\n    \"chave, chave primária, key, primary key\"\\n  ],\\n  \"column type\": \"STRING\",\\n  \"column content\": \"Chave primária como string uuid\",\\n  \"examples\": \"\"\\n}',\n",
       "       'folder': 'TYPE: string COMMENT: {\\n  \"description\": \"Nome da pasta com base no período\",\\n  \"synonyms\": \"\",\\n  \"column type\": \"STRING\",\\n  \"column content\": \"Utiliz o padrão: aaaa/0mm. Exemplo: \"2015_012\"\",\\n  \"examples\": \"\"\\n}',\n",
       "       'status_processamento': 'TYPE: string COMMENT: {\\n  \"description\": \"Informação sobre status de processamento da pasta\",\\n  \"synonyms\": \"\",\\n  \"column type\": \"STRING\",\\n  \"column content\": [\\n    \"PROCESSADOS\",\\n    \"NAO_PROCESSADOS\"\\n  ],\\n  \"examples\": \"\"\\n}'},\n",
       "      'grants': [191, 361]}}},\n",
       "   'Estoque_Produtos': {'process_description': 'Análise das contas de estoques de produtos registradas na transação CKM3 para montagem do custeio e outras análises relacionadas.',\n",
       "    'relationships': '',\n",
       "    'tables': {'ckm3_custeio': {'address': 'dt0047_prd.custeio.base_acumulada_custeio_ckm3',\n",
       "      'description': '\"CKM3\"',\n",
       "      'columns': {'classificao': 'TYPE: string COMMENT: {\\n  \"description\": \"\",\\n  \"synonyms\": \"\",\\n  \"column type\": \"STRING\",\\n  \"column content\": \"\",\\n  \"examples\": \"\"\\n}',\n",
       "       'agrupamento_grupo_de_mercadorias': 'TYPE: string COMMENT: {\\n  \"description\": \"\",\\n  \"synonyms\": \"\",\\n  \"column type\": \"STRING\",\\n  \"column content\": \"\",\\n  \"examples\": \"\"\\n}',\n",
       "       'grupo_de_mercadorias': 'TYPE: string COMMENT: {\\n  \"description\": \"\",\\n  \"synonyms\": \"\",\\n  \"column type\": \"STRING\",\\n  \"column content\": \"\",\\n  \"examples\": \"\"\\n}',\n",
       "       'desc_gr_merc': 'TYPE: string COMMENT: {\\n  \"description\": \"\",\\n  \"synonyms\": \"\",\\n  \"column type\": \"STRING\",\\n  \"column content\": \"\",\\n  \"examples\": \"\"\\n}',\n",
       "       'centro_de_lucro': 'TYPE: string COMMENT: {\\n  \"description\": \"\",\\n  \"synonyms\": \"\",\\n  \"column type\": \"STRING\",\\n  \"column content\": \"\",\\n  \"examples\": \"\"\\n}',\n",
       "       'desc_clucro': 'TYPE: string COMMENT: {\\n  \"description\": \"\",\\n  \"synonyms\": \"\",\\n  \"column type\": \"STRING\",\\n  \"column content\": \"\",\\n  \"examples\": \"\"\\n}',\n",
       "       'classe_de_avaliacao': 'TYPE: string COMMENT: {\\n  \"description\": \"\",\\n  \"synonyms\": \"\",\\n  \"column type\": \"STRING\",\\n  \"column content\": \"\",\\n  \"examples\": \"\"\\n}',\n",
       "       'desc_classe_aval': 'TYPE: string COMMENT: {\\n  \"description\": \"\",\\n  \"synonyms\": \"\",\\n  \"column type\": \"STRING\",\\n  \"column content\": \"\",\\n  \"examples\": \"\"\\n}',\n",
       "       'centro': 'TYPE: string COMMENT: {\\n  \"description\": \"\",\\n  \"synonyms\": \"\",\\n  \"column type\": \"STRING\",\\n  \"column content\": \"\",\\n  \"examples\": \"\"\\n}',\n",
       "       'desc_centro': 'TYPE: string COMMENT: {\\n  \"description\": \"\",\\n  \"synonyms\": \"\",\\n  \"column type\": \"STRING\",\\n  \"column content\": \"\",\\n  \"examples\": \"\"\\n}',\n",
       "       'tp_material': 'TYPE: string COMMENT: {\\n  \"description\": \"\",\\n  \"synonyms\": \"\",\\n  \"column type\": \"STRING\",\\n  \"column content\": \"\",\\n  \"examples\": \"\"\\n}',\n",
       "       'un_medida': 'TYPE: string COMMENT: {\\n  \"description\": \"\",\\n  \"synonyms\": \"\",\\n  \"column type\": \"STRING\",\\n  \"column content\": \"\",\\n  \"examples\": \"\"\\n}',\n",
       "       'material': 'TYPE: string COMMENT: {\\n  \"description\": \"\",\\n  \"synonyms\": \"\",\\n  \"column type\": \"STRING\",\\n  \"column content\": \"\",\\n  \"examples\": \"\"\\n}',\n",
       "       'desc_material': 'TYPE: string COMMENT: {\\n  \"description\": \"\",\\n  \"synonyms\": \"\",\\n  \"column type\": \"STRING\",\\n  \"column content\": \"\",\\n  \"examples\": \"\"\\n}',\n",
       "       'tipo_de_avaliacao': 'TYPE: string COMMENT: {\\n  \"description\": \"\",\\n  \"synonyms\": \"\",\\n  \"column type\": \"STRING\",\\n  \"column content\": \"\",\\n  \"examples\": \"\"\\n}',\n",
       "       'exercicio_periodo': 'TYPE: string COMMENT: {\\n  \"description\": \"\",\\n  \"synonyms\": \"\",\\n  \"column type\": \"STRING\",\\n  \"column content\": \"\",\\n  \"examples\": \"\"\\n}',\n",
       "       'quantidade_em_umb_moeda_10': 'TYPE: float COMMENT: {\\n  \"description\": \"\",\\n  \"synonyms\": \"\",\\n  \"column type\": \"FLOAT\",\\n  \"column content\": \"\",\\n  \"examples\": \"\"\\n}',\n",
       "       'valor_moeda_10': 'TYPE: float COMMENT: {\\n  \"description\": \"\",\\n  \"synonyms\": \"\",\\n  \"column type\": \"FLOAT\",\\n  \"column content\": \"\",\\n  \"examples\": \"\"\\n}',\n",
       "       'dif__preco_nivel_unico_moeda_10': 'TYPE: float COMMENT: {\\n  \"description\": \"\",\\n  \"synonyms\": \"\",\\n  \"column type\": \"FLOAT\",\\n  \"column content\": \"\",\\n  \"examples\": \"\"\\n}',\n",
       "       'dif__preco_multinivel_moeda_10': 'TYPE: float COMMENT: {\\n  \"description\": \"\",\\n  \"synonyms\": \"\",\\n  \"column type\": \"FLOAT\",\\n  \"column content\": \"\",\\n  \"examples\": \"\"\\n}',\n",
       "       'custo_total_do_material_moeda_10': 'TYPE: float COMMENT: {\\n  \"description\": \"\",\\n  \"synonyms\": \"\",\\n  \"column type\": \"FLOAT\",\\n  \"column content\": \"\",\\n  \"examples\": \"\"\\n}',\n",
       "       'custo_total_do_material_moeda_12': 'TYPE: float COMMENT: {\\n  \"description\": \"\",\\n  \"synonyms\": \"\",\\n  \"column type\": \"FLOAT\",\\n  \"column content\": \"\",\\n  \"examples\": \"\"\\n}',\n",
       "       'custo_total_do_material_moeda_30': 'TYPE: float COMMENT: {\\n  \"description\": \"\",\\n  \"synonyms\": \"\",\\n  \"column type\": \"FLOAT\",\\n  \"column content\": \"\",\\n  \"examples\": \"\"\\n}',\n",
       "       'custo_unit_umb': 'TYPE: float COMMENT: {\\n  \"description\": \"\",\\n  \"synonyms\": \"\",\\n  \"column type\": \"FLOAT\",\\n  \"column content\": \"\",\\n  \"examples\": \"\"\\n}',\n",
       "       'chave_m20': 'TYPE: string COMMENT: {\\n  \"description\": \"\",\\n  \"synonyms\": \"\",\\n  \"column type\": \"STRING\",\\n  \"column content\": \"\",\\n  \"examples\": \"\"\\n}',\n",
       "       'fator': 'TYPE: float COMMENT: {\\n  \"description\": \"\",\\n  \"synonyms\": \"\",\\n  \"column type\": \"FLOAT\",\\n  \"column content\": \"\",\\n  \"examples\": \"\"\\n}',\n",
       "       'quant_m20': 'TYPE: float COMMENT: {\\n  \"description\": \"\",\\n  \"synonyms\": \"\",\\n  \"column type\": \"FLOAT\",\\n  \"column content\": \"\",\\n  \"examples\": \"\"\\n}',\n",
       "       'valor_reais': 'TYPE: float COMMENT: {\\n  \"description\": \"\",\\n  \"synonyms\": \"\",\\n  \"column type\": \"FLOAT\",\\n  \"column content\": \"\",\\n  \"examples\": \"\"\\n}',\n",
       "       'conta': 'TYPE: string COMMENT: {\\n  \"description\": \"\",\\n  \"synonyms\": \"\",\\n  \"column type\": \"STRING\",\\n  \"column content\": \"\",\\n  \"examples\": \"\"\\n}',\n",
       "       'tipo': 'TYPE: string COMMENT: {\\n  \"description\": \"\",\\n  \"synonyms\": \"\",\\n  \"column type\": \"STRING\",\\n  \"column content\": \"\",\\n  \"examples\": \"\"\\n}',\n",
       "       'grupamento': 'TYPE: string COMMENT: {\\n  \"description\": \"\",\\n  \"synonyms\": \"\",\\n  \"column type\": \"STRING\",\\n  \"column content\": \"\",\\n  \"examples\": \"\"\\n}',\n",
       "       'uo': 'TYPE: string COMMENT: {\\n  \"description\": \"\",\\n  \"synonyms\": \"\",\\n  \"column type\": \"STRING\",\\n  \"column content\": \"\",\\n  \"examples\": \"\"\\n}',\n",
       "       'c_unit': 'TYPE: string COMMENT: {\\n  \"description\": \"\",\\n  \"synonyms\": \"\",\\n  \"column type\": \"STRING\",\\n  \"column content\": \"\",\\n  \"examples\": \"\"\\n}',\n",
       "       'es': 'TYPE: string COMMENT: {\\n  \"description\": \"\",\\n  \"synonyms\": \"\",\\n  \"column type\": \"STRING\",\\n  \"column content\": \"\",\\n  \"examples\": \"\"\\n}',\n",
       "       'empresa': 'TYPE: string COMMENT: {\\n  \"description\": \"\",\\n  \"synonyms\": \"\",\\n  \"column type\": \"STRING\",\\n  \"column content\": \"\",\\n  \"examples\": \"\"\\n}',\n",
       "       'ano': 'TYPE: int COMMENT: {\\n  \"description\": \"\",\\n  \"synonyms\": \"\",\\n  \"column type\": \"INT\",\\n  \"column content\": \"\",\\n  \"examples\": \"\"\\n}',\n",
       "       'periodo': 'TYPE: int COMMENT: {\\n  \"description\": \"\",\\n  \"synonyms\": \"\",\\n  \"column type\": \"INT\",\\n  \"column content\": \"\",\\n  \"examples\": \"\"\\n}',\n",
       "       'ab_eep_ge': 'TYPE: string COMMENT: {\\n  \"description\": \"\",\\n  \"synonyms\": \"\",\\n  \"column type\": \"STRING\",\\n  \"column content\": \"\",\\n  \"examples\": \"\"\\n}',\n",
       "       'mes_ano': 'TYPE: string COMMENT: {\\n  \"description\": \"\",\\n  \"synonyms\": \"\",\\n  \"column type\": \"STRING\",\\n  \"column content\": \"\",\\n  \"examples\": \"\"\\n}',\n",
       "       'origem': 'TYPE: string COMMENT: {\\n  \"description\": \"\",\\n  \"synonyms\": \"\",\\n  \"column type\": \"STRING\",\\n  \"column content\": \"\",\\n  \"examples\": \"\"\\n}'},\n",
       "      'grants': [411, 191]}}}}}}"
      ]
     },
     "execution_count": 40,
     "metadata": {},
     "output_type": "execute_result"
    }
   ],
   "source": [
    "agent_work.agents['Analytics Databricks']['agent'].database_manager.__dict__"
   ]
  },
  {
   "cell_type": "code",
   "execution_count": 13,
   "metadata": {},
   "outputs": [],
   "source": [
    "import dill\n",
    "import base64\n",
    "user_BaseAgent = base64.b64encode(dill.dumps(agent_work)).decode('utf-8')"
   ]
  },
  {
   "cell_type": "code",
   "execution_count": 30,
   "metadata": {},
   "outputs": [
    {
     "name": "stdout",
     "output_type": "stream",
     "text": [
      "crew_work\n",
      "eef99fa1-0441-43c2-8475-61fc8606dfdc\n",
      "\u001b[4m\u001b[1m\u001b[34mAgent: CHAT ANALISTA\n",
      "\u001b[0m\n",
      "    Executando tool: remake_user_question\n",
      "\u001b[0m\n",
      "    tool param: {'query_input': 'o que foi respondido a intimaçãoes na RAF 55668100', 'motivation': 'A pergunta precisa de mais contexto ou detalhes específicos para ser respondida corretamente.'}\n",
      "\u001b[0m\n",
      "\u001b[1manswer: Para responder à sua pergunta sobre o que foi respondido às intimações relacionadas ao caso RAF 55668100, vou precisar consultar a base de dados de intimações da SEFAZ-RJ.\n",
      "\u001b[0m\n",
      "\u001b[4m\u001b[1m\u001b[34mAgent: DOCUMENTOS DATABRICKS\n",
      "\u001b[0m\n",
      "    Executando tool: rag_complement\n",
      "\u001b[0m\n",
      "    tool param: {'query_input': 'o que foi respondido a intimaçãoes na RAF 55668100'}\n",
      "\u001b[0m\n",
      "    Executando tool: _get_collection_name\n",
      "\u001b[0m\n",
      "    tool result: intimacoes_sefaz_rj\n",
      "\u001b[0m\n",
      "    Executando tool: _generate_sql_with_filters\n",
      "\u001b[0m\n",
      "    tool result: {'query': 'SELECT COUNT(*) AS count FROM dt0047_prd.chat_bot.intimacoes_fiscais_pgov_sefaz_rj_file_base AS file_base', 'filters': [\"file_base.raf = '55668100'\", \"file_base.raf LIKE '55668100%'\"]}\n",
      "\u001b[0m\n",
      "    Executando tool: KnowledgeBase.test_filters\n",
      "\u001b[0m\n",
      "    tool result: 6 rows returned using:\n",
      "    WHERE file_base.raf = '55668100'\n",
      "\n",
      "    Executando tool: llm.get_embeddings\n",
      "\u001b[0m\n",
      "    tool result: vector embedding generated\n",
      "\u001b[0m\n",
      "    Executando tool: KnowledgeBase.similarity_search\n",
      "\u001b[0m\n",
      "    tool result: vector embedding returned\n",
      "\u001b[0m\n",
      "    Executando tool: _select_relevant_documents\n",
      "\u001b[0m\n",
      "    tool result: {'relevant_documents': ['AN_556681002_01.PDF', 'AN_556681001_01.PDF', 'CARTA_FISC_PGCOMEX_0065_assinada.pdf', 'CARTA_TRIBUT_TPG_IAF_FISC_PGCOMEX_85_2023_assinada.pdf']}\n",
      "\n",
      "    tool result: 4 ducuments used\n",
      "\u001b[0m\n",
      "\u001b[1manswer: As respostas às intimações relacionadas ao caso RAF 556681-00 incluem a apresentação de documentos fiscais, registros no SAP, explicações contábeis sobre DAPP e provisões, e a composição de notas fiscais. As intimações 556681-00/1 e 556681-00/2 solicitaram a abertura de valores até a identificação dos números dos contratos/nota fiscal, apresentação de notas fiscais relacionadas aos gastos, e explicações detalhadas sobre lançamentos e deduções. As respostas foram entregues em várias datas, incluindo 31 de março de 2023, 30 de maio de 2023, 2 de junho de 2023 e 28 de julho de 2023.\n",
      "\u001b[0m\n"
     ]
    }
   ],
   "source": [
    "BaseAgent.crew_work(\"\"\"\n",
    "o que foi respondido a intimaçãoes na RAF 55668100\n",
    "\"\"\")"
   ]
  }
 ],
 "metadata": {
  "kernelspec": {
   "display_name": ".venv",
   "language": "python",
   "name": "python3"
  },
  "language_info": {
   "codemirror_mode": {
    "name": "ipython",
    "version": 3
   },
   "file_extension": ".py",
   "mimetype": "text/x-python",
   "name": "python",
   "nbconvert_exporter": "python",
   "pygments_lexer": "ipython3",
   "version": "3.11.1"
  }
 },
 "nbformat": 4,
 "nbformat_minor": 2
}
