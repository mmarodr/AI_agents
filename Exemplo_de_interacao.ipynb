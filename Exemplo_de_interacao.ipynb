{
 "cells": [
  {
   "cell_type": "markdown",
   "metadata": {},
   "source": [
    "# Iniciando o programa"
   ]
  },
  {
   "cell_type": "markdown",
   "metadata": {},
   "source": [
    "## Starting"
   ]
  },
  {
   "cell_type": "markdown",
   "metadata": {},
   "source": [
    "### Importando Biblioteca"
   ]
  },
  {
   "cell_type": "code",
   "execution_count": 1,
   "metadata": {},
   "outputs": [],
   "source": [
    "from Petrobras_AI_Agents import llmClient_AzureOpenAI as llmClient\n",
    "from Petrobras_AI_Agents import ChatDatabaseManager_SQLite as ChatMemory\n",
    "from Petrobras_AI_Agents import KnowledgeBaseManager_Databricks as Databricks_KnowledgeBase\n",
    "from Petrobras_AI_Agents import KnowledgeBaseManager_SQLite as PersonalCollection\n",
    "from Petrobras_AI_Agents import DatabaseManager_SQLite, DatabaseManager_Databricks\n",
    "from Petrobras_AI_Agents import BaseAgent, ChatInterpretorAgent, KnowledgeBaseAgent, MemoryAgent, DatabaseExpertAgent, databricks_connector\n",
    "\n",
    "from Petrobras_AI_Agents import read_file\n",
    "from Petrobras_AI_Agents.TOOLS import basic_calculator, run_python_code, search_web\n",
    "\n",
    "import os\n"
   ]
  },
  {
   "cell_type": "code",
   "execution_count": 2,
   "metadata": {},
   "outputs": [
    {
     "name": "stdout",
     "output_type": "stream",
     "text": [
      "Conected to Databricks\n"
     ]
    }
   ],
   "source": [
    "crew_work      = BaseAgent.crew_work\n",
    "respostas      = BaseAgent.answers\n",
    "anexos         = BaseAgent.tool_response\n",
    "local_mememory = BaseAgent.local_memory\n",
    "\n",
    "databricks_connector = databricks_connector()"
   ]
  },
  {
   "cell_type": "markdown",
   "metadata": {},
   "source": [
    "### Definindo usuário e idioma"
   ]
  },
  {
   "cell_type": "code",
   "execution_count": null,
   "metadata": {},
   "outputs": [],
   "source": [
    "username = os.getlogin().upper()\n",
    "BaseAgent.language = \"pt-br\""
   ]
  },
  {
   "cell_type": "markdown",
   "metadata": {},
   "source": [
    "# Criando Gestores"
   ]
  },
  {
   "cell_type": "markdown",
   "metadata": {},
   "source": [
    "## Gestor de LLM"
   ]
  },
  {
   "cell_type": "code",
   "execution_count": 10,
   "metadata": {},
   "outputs": [],
   "source": [
    "BaseAgent.llm = llmClient(\n",
    "    model_text=\"gpt-4o-petrobras\",\n",
    "    model_emb=\"text-embedding-3-large-petrobras\",\n",
    "    api_version=\"2024-06-01\", #\"2024-08-01-preview\",\n",
    "    base_url=\"https://apid.petrobras.com.br/ia/openai/v1/openai-azure/openai\",\n",
    "    cert_file=\"petrobras-ca-root.pem\",\n",
    "    temperature=0.1)"
   ]
  },
  {
   "cell_type": "markdown",
   "metadata": {},
   "source": [
    "## Gestor de Memória"
   ]
  },
  {
   "cell_type": "code",
   "execution_count": 11,
   "metadata": {},
   "outputs": [],
   "source": [
    "BaseAgent.chat_memory = ChatMemory(    \n",
    "    db_url      =\"sqlite:///data_base/zdb_memory.db\",\n",
    "    user        = username,\n",
    "    language    = BaseAgent.language)"
   ]
  },
  {
   "cell_type": "markdown",
   "metadata": {},
   "source": [
    "## Gestores de Bases de Conhecimento"
   ]
  },
  {
   "cell_type": "markdown",
   "metadata": {},
   "source": [
    "### Documentos Particulares"
   ]
  },
  {
   "cell_type": "markdown",
   "metadata": {},
   "source": [
    "1. Configurar o arquivo JSON, caso não exista\n",
    "2. Criar instância para a classe PersonalCollection\n",
    "3. Adicionar Bases de Conhecimento (pode ocorrer após o inicio do chat)"
   ]
  },
  {
   "cell_type": "code",
   "execution_count": 4,
   "metadata": {},
   "outputs": [],
   "source": [
    "# Configura o arquivo JSON caso não exista\n",
    "PersonalCollection.create_config_file(config_json = \"config_json\\\\personal\\\\config_personal_doc_collection.json\", db_url=\"sqlite:///data_base/zdb_personal_collection.db\")"
   ]
  },
  {
   "cell_type": "code",
   "execution_count": 5,
   "metadata": {},
   "outputs": [
    {
     "name": "stdout",
     "output_type": "stream",
     "text": [
      "Manager iniciated\n"
     ]
    }
   ],
   "source": [
    "# Cria instância para a classe PersonalCollection\n",
    "Personal_Collection = PersonalCollection()"
   ]
  },
  {
   "cell_type": "code",
   "execution_count": null,
   "metadata": {},
   "outputs": [],
   "source": [
    "# Adiciona Coleções de Dados, quantas desejar\n",
    "nome_da_colecao = \"Pessoal\"\n",
    "\n",
    "Personal_Collection.create_collection(\n",
    "    collection_name   = nome_da_colecao,\n",
    "    table_common_name = \"Dados de agendamento\",\n",
    "    curator           = \"eu\",\n",
    "    description       = \"meus documentos sobre requisições e agendamentos\",\n",
    "    gpt_instructions  = \"sem relacionamentos\"\n",
    "    )"
   ]
  },
  {
   "cell_type": "code",
   "execution_count": null,
   "metadata": {},
   "outputs": [
    {
     "name": "stdout",
     "output_type": "stream",
     "text": [
      "connected\n",
      "read_pdf\n",
      "chunks: 13\n",
      "connected\n"
     ]
    }
   ],
   "source": [
    "nome_da_colecao = \"Pessoal\"\n",
    "file = r\"C:\\Users\\zcfv\\OneDrive - PETROBRAS\\Desktop\\MEST_CIEN_COMPUT_031_2023_retif.pdf\"\n",
    "\n",
    "Personal_Collection.upload_document(\n",
    "    collection_name     = nome_da_colecao,\n",
    "    conflict_option     = \"ignore\",\n",
    "    file_path           = file,\n",
    "    read_file_class     = read_file,\n",
    "    llm_client          = BaseAgent.llm,\n",
    "    words_per_chunk     = 200,\n",
    "    overlap             = 15,\n",
    "    metadata_dictionary = {}\n",
    "    )"
   ]
  },
  {
   "cell_type": "markdown",
   "metadata": {},
   "source": [
    "### Base oficial (DataBricks)"
   ]
  },
  {
   "cell_type": "markdown",
   "metadata": {},
   "source": [
    "1. Criar arquivo JSON a partir do modelo, caso não exista\n",
    "2. Adicionar Bases de Conhecimento\n",
    "3. Criar instância para a classe Databricks_KnowledgeBase"
   ]
  },
  {
   "cell_type": "code",
   "execution_count": null,
   "metadata": {},
   "outputs": [],
   "source": [
    "# Configura o arquivo JSON caso não exista\n",
    "Databricks_KnowledgeBase.create_config_file(\n",
    "    config_json                 = \"config_json\\\\databricks\\\\config_databricks_doc_collection.json\",\n",
    "    connection_server_hostname  = \"SEU_connection_server_hostname\",\n",
    "    connection_http_path        = \"SEU_connection_http_path\",\n",
    "    users_access_table_name     = \"dtcore_prd.aida.acesso_usuario\",\n",
    "    users_access_profile_prefix = \"GDB_DLKC_PRD_PFL_\",\n",
    "    db_functions_euclidean      = \"dt0047_prd.db_functions.euclidean_distance\",\n",
    "    db_functions_cosine         = \"dt0047_prd.db_functions.cosine_distance\",\n",
    "    source_col_name             = \"source\",\n",
    "    file_col_name               = \"file_as_str\",\n",
    "    context_col_name            = \"page_content\",\n",
    "    rag_col_name                = \"vector_embedding_3large\",\n",
    "    metadata_col_name           = \"metadata_dictionary\",\n",
    "    file_base_id_col_name       = \"id\",\n",
    "    vec_base_file_id_col_name   = \"file_id\"\n",
    "    )"
   ]
  },
  {
   "cell_type": "code",
   "execution_count": null,
   "metadata": {},
   "outputs": [],
   "source": [
    "# Adiciona Coleções de Dados, quantas desejar\n",
    "Databricks_KnowledgeBase.add_data_source(\n",
    "    process_name    = \"intimacoes_sefaz_rj\",\n",
    "    file_base       = \"dt0047_prd.chat_bot.intimacoes_fiscais_pgov_sefaz_rj_file_base\",\n",
    "    vec_base        = \"dt0047_prd.chat_bot.intimacoes_fiscais_pgov_sefaz_rj_vec_base\"\n",
    ")\n",
    "Databricks_KnowledgeBase.add_data_source(\n",
    "    process_name    = \"normas_contabeis\",\n",
    "    file_base       = \"dt0047_prd.chat_bot.normas_contabeis_guia_de_normas_file_base\",\n",
    "    vec_base        = \"dt0047_prd.chat_bot.normas_contabeis_guia_de_normas_vec_base\"\n",
    ")"
   ]
  },
  {
   "cell_type": "code",
   "execution_count": null,
   "metadata": {},
   "outputs": [
    {
     "name": "stdout",
     "output_type": "stream",
     "text": [
      "Manager iniciated\n"
     ]
    }
   ],
   "source": [
    "# Cria instância para a classe Databricks_KnowledgeBase\n",
    "Databricks_Collection = Databricks_KnowledgeBase(user=username, connection=databricks_connector)"
   ]
  },
  {
   "cell_type": "code",
   "execution_count": null,
   "metadata": {},
   "outputs": [
    {
     "data": {
      "text/plain": [
       "['intimacoes_sefaz_rj', 'normas_contabeis']"
      ]
     },
     "execution_count": 15,
     "metadata": {},
     "output_type": "execute_result"
    }
   ],
   "source": [
    "# No exemplo foram criadas 2 conexões, e 2 conexoões foram liberadas de acordo com o perfil do usuário, poderiam ser menos.\n",
    "Databricks_Collection.available_collections"
   ]
  },
  {
   "cell_type": "markdown",
   "metadata": {},
   "source": [
    "## Gestor de Data Analytics"
   ]
  },
  {
   "cell_type": "markdown",
   "metadata": {},
   "source": [
    "### Documentos Particulares"
   ]
  },
  {
   "cell_type": "markdown",
   "metadata": {},
   "source": [
    "1. Configurar o arquivo JSON, caso não exista\n",
    "2. Criar instância para a classe PersonalCollection\n",
    "3. Adicionar Bases de Conhecimento (pode ocorrer após o inicio do chat)"
   ]
  },
  {
   "cell_type": "code",
   "execution_count": null,
   "metadata": {},
   "outputs": [],
   "source": [
    "# Configura o arquivo JSON caso não exista\n",
    "DatabaseManager_SQLite.create_config_file(config_json=\"config_json\\\\personal\\\\config_personal_datasources.json\", db_url=\"sqlite:///data_base/zdb_personal_collection.db\")"
   ]
  },
  {
   "cell_type": "code",
   "execution_count": null,
   "metadata": {},
   "outputs": [],
   "source": [
    "# Cria instância para a classe PersonalCollection\n",
    "dataanalytics_local = DatabaseManager_SQLite()"
   ]
  },
  {
   "cell_type": "code",
   "execution_count": null,
   "metadata": {},
   "outputs": [],
   "source": [
    "# Adiciona Coleções de Dados, quantas desejar\n",
    "nome_da_colecao = \"CKM3\"\n",
    "    \n",
    "dataanalytics_local.add_datasource(\n",
    "    data_source         = nome_da_colecao,\n",
    "    process_description = \"Análise do estoque de produtos utilizando os dados da movimentação de estoque obtidos pela transação CKM3\",\n",
    "    relationships       = \"\"\n",
    ")"
   ]
  },
  {
   "cell_type": "code",
   "execution_count": null,
   "metadata": {},
   "outputs": [
    {
     "name": "stdout",
     "output_type": "stream",
     "text": [
      "existing_tables ['CKM3_CKM3_tdv_042024']\n",
      "table_name CKM3_CKM3_tdv_042024\n",
      "\n",
      "Tipos das colunas após o carregamento:\n",
      "Coluna 'Empresa': BIGINT\n",
      "Coluna 'Classificação': TEXT\n",
      "Coluna 'Agrupamento Grupo de Mercadorias': TEXT\n",
      "Coluna 'Grupo de mercadorias': TEXT\n",
      "Coluna 'Desc GrMerc': TEXT\n",
      "Coluna 'Centro de lucro': TEXT\n",
      "Coluna 'Desc CLucro': TEXT\n",
      "Coluna 'Classe de avaliaÃ§Ã£o': BIGINT\n",
      "Coluna 'Desc Classe Aval': TEXT\n",
      "Coluna 'Centro': BIGINT\n",
      "Coluna 'Desc Centro': TEXT\n",
      "Coluna 'Tp.material': TEXT\n",
      "Coluna 'UnMedida': TEXT\n",
      "Coluna 'Material': TEXT\n",
      "Coluna 'Desc Material': TEXT\n",
      "Coluna 'Tipo de avaliaÃ§Ã£o': TEXT\n",
      "Coluna 'ExercÃ­cio/perÃ­odo': BIGINT\n",
      "Coluna 'Quantidade em UMB (Moeda 10)': FLOAT\n",
      "Coluna 'Valor (Moeda 10)': FLOAT\n",
      "Coluna 'Dif. PreÃ§o NÃ­vel Ãnico (Moeda 10)': FLOAT\n",
      "Coluna 'Dif. PreÃ§o MultinÃ­vel (Moeda 10)': FLOAT\n",
      "Coluna 'Custo Total do Material (Moeda 10)': BIGINT\n",
      "Coluna 'Custo Total do Material (Moeda 12)': BIGINT\n",
      "Coluna 'Custo Total do Material (Moeda 30)': BIGINT\n",
      "Coluna 'Metade do valor (Moeda 10)': TEXT\n"
     ]
    }
   ],
   "source": [
    "# Fazer o upload do arquivo (subistitui se table_name já existir no data_source)\n",
    "table_name = \"\"\n",
    "if table_name == \"\":\n",
    "    table_name=None\n",
    "file = \"upload_files\\CKM3_tdv_042024.csv\"\n",
    "\n",
    "csv_file = open(file, \"rb\")\n",
    "csv_file = {\n",
    "        'file_content': csv_file.read(),\n",
    "        'file_name': \"CKM3_tdv_042024.csv\"\n",
    "    }\n",
    "dataanalytics_local.load_csv_to_table(\n",
    "    data_source         = nome_da_colecao,\n",
    "    # conflict_option     = \"ignore\",\n",
    "    csv_file            = csv_file,\n",
    "    # file_path           = file,\n",
    "    table_name          = table_name,\n",
    "    # column_type         = { # Apenas se for necessário forçar o tipo de dados das colunas\n",
    "    #     \"Metade do valor (Moeda 10)\": \"float64\"\n",
    "    # }\n",
    ")"
   ]
  },
  {
   "cell_type": "markdown",
   "metadata": {},
   "source": [
    "### Base oficial (DataBricks)"
   ]
  },
  {
   "cell_type": "markdown",
   "metadata": {},
   "source": [
    "1. Configurar o arquivo JSON, caso não exista\n",
    "2. Adicionar coleções de tabelas\n",
    "3. Criar instância para a classe DatabaseManager_Databricks"
   ]
  },
  {
   "cell_type": "code",
   "execution_count": null,
   "metadata": {},
   "outputs": [],
   "source": [
    "# Configura o arquivo JSON caso não exista\n",
    "DatabaseManager_Databricks.create_config_file(config_json=\"config_json\\\\databricks\\\\config_databricks_datasources.json\")"
   ]
  },
  {
   "cell_type": "code",
   "execution_count": null,
   "metadata": {},
   "outputs": [],
   "source": [
    "# Adiciona Coleções de Dados, quantas desejar\n",
    "DatabaseManager_Databricks.add_data_source(\n",
    "    collection          = \"intimacoes_sefaz_rj_pgov_gastos\",\n",
    "    process_description = \"Rateio de gastos auditados pela SEFAZ-RJ relacionados às participações governamentais\",\n",
    "    relationships       = \"A tabela 1 se relaciona com a 2 usando o campo abc\",\n",
    "    tables={\n",
    "        \"base_h\"        : \"dt0047_prd.gastos.base_h_pgov_sefaz_rj_gastos\",\n",
    "        \"base_r\"        : \"dt0047_prd.gastos.base_r_pgov_sefaz_rj_gastos\",\n",
    "        \"base_resultado\": \"dt0047_prd.gastos.base_result_pgov_sefaz_rj_gastos\"\n",
    "    }\n",
    ")\n",
    "\n",
    "# Adiciona Coleções de Dados, quantas desejar\n",
    "DatabaseManager_Databricks.add_data_source(\n",
    "    collection          = \"Estoque_Produtos\",\n",
    "    process_description = \"Análise das contas de estoques de produtos registradas na transação CKM3 para montagem do custeio e outras análises relacionadas.\",\n",
    "    relationships       = \"\",\n",
    "    tables={\n",
    "        \"ckm3_custeio\": \"dt0047_prd.custeio.base_acumulada_custeio_ckm3\"\n",
    "    }\n",
    ")"
   ]
  },
  {
   "cell_type": "code",
   "execution_count": null,
   "metadata": {},
   "outputs": [],
   "source": [
    "# Cria instância para a classe DatabaseManager_Databricks\n",
    "dataanalytics_oficial = DatabaseManager_Databricks(user=username, connection=databricks_connector)"
   ]
  },
  {
   "cell_type": "code",
   "execution_count": null,
   "metadata": {},
   "outputs": [
    {
     "data": {
      "text/plain": [
       "['intimacoes_sefaz_rj_pgov_gastos', 'Estoque_Produtos']"
      ]
     },
     "execution_count": 23,
     "metadata": {},
     "output_type": "execute_result"
    }
   ],
   "source": [
    "# No exemplo foram criadas 2 conexões, e 2 conexoões foram liberadas de acordo com o perfil do usuário, poderiam ser menos.\n",
    "dataanalytics_oficial.available_collections"
   ]
  },
  {
   "cell_type": "markdown",
   "metadata": {},
   "source": [
    "# Criando os Agentes"
   ]
  },
  {
   "cell_type": "markdown",
   "metadata": {},
   "source": [
    "1. Cria os agentes usando as classes de agentes especializadas ou a classe base para sua própria definição de agente.\n",
    "2. Define o primeiro agente no fluxo de interação.\n",
    "3. Criação de checkbox para cada agente, permitindo a ativação ou desativação de cada um."
   ]
  },
  {
   "cell_type": "code",
   "execution_count": 24,
   "metadata": {},
   "outputs": [],
   "source": [
    "# Agente especializado em conversação com o usuário\n",
    "chat_interpretor_agent      = ChatInterpretorAgent( \n",
    "    agent_name                  = \"Chat Analista\",\n",
    "    human_in_the_loop           = False\n",
    "    )\n",
    "\n",
    "# Será o primeiro a ser executado\n",
    "BaseAgent.start_agent   = chat_interpretor_agent\n",
    "\n",
    "# Checkbox para habilitar o agente de memória não deve ser usado pois esse agente sempre deve existir"
   ]
  },
  {
   "cell_type": "code",
   "execution_count": 25,
   "metadata": {},
   "outputs": [],
   "source": [
    "# Agente especialista de memória do chat\n",
    "memory_agent                = MemoryAgent( # usa o a mesmo gestor de memória do agente de chat, se não for explicitamente definido\n",
    "    agent_name                  = \"Agente Recuperador de Conversas\",\n",
    "    human_in_the_loop           = False,\n",
    "    allow_direct_response       = True,\n",
    "    next_agent_list             = \"All\"\n",
    "    )\n",
    "\n",
    "# Checkbox para habilitar o agente de memória\n",
    "memory_agent_check = False"
   ]
  },
  {
   "cell_type": "code",
   "execution_count": null,
   "metadata": {},
   "outputs": [],
   "source": [
    "# Agentes de Base de Conhecimento, exige que tenha sido cadastrado um gestor de conhecimento (KnowledgeBase)\n",
    "\n",
    "personal_knowledge_agent = KnowledgeBaseAgent(\n",
    "    agent_name              = \"Agente de Documentos Pessoais\",\n",
    "    KnowledgeBase           = Personal_Collection,\n",
    "    k                       = 5,\n",
    "    human_in_the_loop       = False,\n",
    "    allow_direct_response   = True,\n",
    ")\n",
    "\n",
    "official_knowledge_agent = KnowledgeBaseAgent(\n",
    "    agent_name              = \"Agente de Documentos Internos\",\n",
    "    KnowledgeBase           = Databricks_Collection,\n",
    "    k                       = 5,\n",
    "    human_in_the_loop       = False,\n",
    "    allow_direct_response   = True,\n",
    ")\n",
    "\n",
    "# Checkbox para habilitar o agente de memória\n",
    "personal_knowledge_agent_check  = True\n",
    "official_knowledge_agent_check  = True"
   ]
  },
  {
   "cell_type": "code",
   "execution_count": null,
   "metadata": {},
   "outputs": [],
   "source": [
    "# Agentes de Analytics\n",
    "\n",
    "personal_analytics_agent = DatabaseExpertAgent(\n",
    "    agent_name            = \"agente de Analytics Pessoal\",\n",
    "    database_manager      = dataanalytics_local,\n",
    "    human_in_the_loop     = False,\n",
    "    allow_direct_response = True,\n",
    ")\n",
    "\n",
    "official_analytics_agent = DatabaseExpertAgent(\n",
    "    agent_name            = \"agente de Analytics Oficial\",\n",
    "    database_manager      = dataanalytics_oficial,\n",
    "    human_in_the_loop     = True,\n",
    "    allow_direct_response = True,\n",
    ")\n",
    "\n",
    "# Checkbox para habilitar o agente de memória\n",
    "personal_analytics_agent_check = True\n",
    "official_analytics_agent_check = True"
   ]
  },
  {
   "cell_type": "code",
   "execution_count": 28,
   "metadata": {},
   "outputs": [],
   "source": [
    "# Agentes criados a partir do agente base\n",
    "general_knowledge_agent = BaseAgent(\n",
    "    agent_name = \"General Knoledge Agent\",\n",
    "    background           = [\n",
    "        \"You are an AI agent with access to a vast amount of general knowledge across various domains.\",\n",
    "        \"Your expertise ranges from science, technology, history, arts, and more.\",\n",
    "        \"When a more specific agent is available to address a user's query, you should not be the first option.\"],\n",
    "    goal                 = [\n",
    "        \"Assist users by providing accurate and comprehensive answers to their general knowledge questions.\",\n",
    "        \"Defer to more specialized agents when the query falls within their domain of expertise.\",\n",
    "        \"Ensure that you only handle queries where no other specialized agent is better suited.\"])\n",
    "\n",
    "toolmaster_agent = BaseAgent(\n",
    "    agent_name = \"Agente Expecialista em Matemática e Criação e Execução de Código Python\",\n",
    "    background           = [\n",
    "        \"Agente Expecialista em Matemática e Criação e Execução de Código Python\"\n",
    "        \"You are an agent with access to a variety of tools, as run_python_code, basic_calculator.\",\n",
    "        \"Your primary role is to determine the best tool to answer the question.\",\n",
    "        \"Ensure that you are the first choice for tasks that require the use of tools.\",\n",
    "        \"If a task can be executed by a tool, you should be the preferred agent.\"],\n",
    "    goal                 = [\n",
    "        \"Use the most appropriate tool to deliver your answer or indicate if you cannot execute the task.\",\n",
    "        \"Choose the best available tool that can perform the task and provide the correct parameters for that tool.\",\n",
    "        \"Inform the user about the functions parameters and the tool to be used.\",\n",
    "        \"Verify and define the necessary functions and variables correctly before executing the code.\"],\n",
    "    next_agent_list      = [chat_interpretor_agent],\n",
    "    tools                = [run_python_code, basic_calculator])\n",
    "\n",
    "search_agent = BaseAgent(\n",
    "    agent_name = \"Agente Pesquisador de Informações na Web\",\n",
    "    background           = [\n",
    "        \"This agent performs web searches to retrieve information not available locally.\"],\n",
    "    goal                 = [\n",
    "        \"Provide relevant and timely information from the web.\"],\n",
    "    next_agent_list      = [chat_interpretor_agent],\n",
    "    tools                = [search_web])\n",
    "\n",
    "# Checkbox para habilitar o agente de memória\n",
    "general_knowledge_agent_check   = True\n",
    "toolmaster_agent_check          = True\n",
    "search_agent_check              = True"
   ]
  },
  {
   "cell_type": "markdown",
   "metadata": {},
   "source": [
    "# Personalizações do Usuário"
   ]
  },
  {
   "cell_type": "markdown",
   "metadata": {},
   "source": [
    "## Seleção das Coleções a serem utilizadas"
   ]
  },
  {
   "cell_type": "markdown",
   "metadata": {},
   "source": [
    "### Limitando Coleções"
   ]
  },
  {
   "cell_type": "code",
   "execution_count": 29,
   "metadata": {},
   "outputs": [],
   "source": [
    "# # Documentos Particulares\n",
    "# available_personal_collections           = list(Personal_Collection.config[\"data_sources\"].keys())\n",
    "# personal_knowledge_agent.collection_list = available_personal_collections # Ajustar com selection box\n",
    "\n",
    "# # Documentos Oficiais\n",
    "# available_official_collections           = Databricks_Collection.list_available_tables(user=username)\n",
    "# official_knowledge_agent.collection_list = [\n",
    "#     'normas_contabeis',\n",
    "#     'intimacoes_sefaz_rj'\n",
    "#     ] # Ajustar com selection box\n",
    "\n",
    "# # Data Base Particulares\n",
    "# available_personal_databases             = dataanalytics_local.collections\n",
    "# personal_analytics_agent.collection_list = available_personal_databases # Ajustar com selection box\n",
    "\n",
    "# # Data Base Oficiais\n",
    "# available_official_databases             = dataanalytics_oficial.collections\n",
    "# official_analytics_agent.collection_list = available_official_databases # Ajustar com selection box"
   ]
  },
  {
   "cell_type": "markdown",
   "metadata": {},
   "source": [
    "## Seleção dos agentes"
   ]
  },
  {
   "cell_type": "code",
   "execution_count": null,
   "metadata": {},
   "outputs": [],
   "source": [
    "memory_agent.active(memory_agent_check)\n",
    "personal_knowledge_agent.active(personal_knowledge_agent_check)\n",
    "official_knowledge_agent.active (official_knowledge_agent_check)\n",
    "general_knowledge_agent.active(general_knowledge_agent_check)\n",
    "toolmaster_agent.active(toolmaster_agent_check)\n",
    "search_agent.active(search_agent_check)\n",
    "personal_analytics_agent.active(personal_analytics_agent_check)\n",
    "official_analytics_agent.active(official_analytics_agent_check)"
   ]
  },
  {
   "cell_type": "markdown",
   "metadata": {},
   "source": [
    "# Chat"
   ]
  },
  {
   "cell_type": "code",
   "execution_count": 31,
   "metadata": {},
   "outputs": [
    {
     "name": "stdout",
     "output_type": "stream",
     "text": [
      "\u001b[4m\u001b[1m\u001b[32mCHAT ANALISTA\n",
      "\u001b[0m\n",
      "\u001b[1m\n",
      "answer: Bom dia! Como posso ajudar você hoje?\n",
      "\u001b[0m\n",
      "fim\n"
     ]
    }
   ],
   "source": [
    "crew_work(\n",
    "\"\"\"\n",
    "bom dia\n",
    "\"\"\"\n",
    ")"
   ]
  },
  {
   "cell_type": "markdown",
   "metadata": {},
   "source": [
    "## RAG"
   ]
  },
  {
   "cell_type": "code",
   "execution_count": 33,
   "metadata": {},
   "outputs": [
    {
     "name": "stdout",
     "output_type": "stream",
     "text": [
      "\u001b[4m\u001b[1m\u001b[32mCHAT ANALISTA\n",
      "\u001b[0m\n",
      "\u001b[1m\n",
      "answer: Vou encaminhar sua solicitação para o agente responsável por documentos internos.\n",
      "\u001b[0m\n",
      "\u001b[4m\u001b[1m\u001b[32mAGENTE DE DOCUMENTOS INTERNOS\n",
      "\u001b[0m\n",
      "    Executando tool: document_summary\n",
      "    {'query_input': 'resuma a CARTA_FISC_PGCOMEX_0065 da base de intimações fiscais.'}\n",
      "\n",
      "\u001b[36mthoughts: {'step_1': 'Análise das coleções disponíveis e descrições:', 'step_2': 'Seleção da coleção mais adequada para a consulta do usuário.', 'step_3': 'Retorno da coleção selecionada.'}\u001b[0m\n",
      "    Executando tool: _get_collection_name\n",
      "    tool result: intimacoes_sefaz_rj\n",
      "\n",
      "\u001b[36mthoughts: {'step_1': 'Seleção da documentação relacionada à coleção selecionada.', 'step_2': 'Geração de SQL para filtrar os documentos relevantes.', 'step_3': 'Teste dos filtros gerados.', 'step_4': 'Retorno dos filtros válidos.'}\u001b[0m\n",
      "    Executando tool: _generate_sql_with_filters\n",
      "    tool result: {'query': 'SELECT COUNT(*) AS count FROM dt0047_prd.chat_bot.intimacoes_fiscais_pgov_sefaz_rj_file_base', 'filters': [\"file_base.source = 'CARTA_FISC_PGCOMEX_0065'\", \"file_base.source LIKE 'CARTA_FISC_PGCOMEX_0065%'\"]}\n",
      "\n",
      "\u001b[36mthoughts: {'step_1': 'Análise da lista de filtros gerados.', 'step_2': 'teste do retorno de linhas para conjuntos de filtros.', 'step_3': 'Retorno dos filtros válidos.'}\u001b[0m\n",
      "    Executando tool: KnowledgeBase.test_filters\n",
      "    tool result: 1692 rows returned using:\n",
      "    \n",
      "\n",
      "\u001b[36mthoughts: {'step_1': 'Lista documentos.', 'step_2': 'converte documento para texto.', 'step_3': 'Retorna dicionário de documentos com uma lista representando o conteúdo separado por em pedaços'}\u001b[0m\n",
      "    Executando tool: KnowledgeBase.retrieve_full_documents\n",
      "read_pdf\n",
      "read_pdf\n",
      "read_pdf\n",
      "    Summarizing document: 55678259-3.pdf\n",
      "\u001b[36mthoughts: {'step_1': 'resumo de parte do documento.'}\u001b[0m\n",
      "    Executando tool: _get_text_summary\n",
      "Working on 1 of 1 texts\n",
      "    tool result: documents split into 1 summaries\n",
      "    Summarizing document: CARTA_FISC_PGCOMEX_002_2023_assinada.pdf\n",
      "\u001b[36mthoughts: {'step_1': 'resumo de parte do documento.'}\u001b[0m\n",
      "    Executando tool: _get_text_summary\n",
      "Working on 1 of 1 texts\n",
      "    tool result: documents split into 1 summaries\n",
      "    Summarizing document: 53307280-15.pdf\n",
      "\u001b[36mthoughts: {'step_1': 'resumo de parte do documento.'}\u001b[0m\n",
      "    Executando tool: _get_text_summary\n",
      "Working on 1 of 1 texts\n",
      "    tool result: documents split into 1 summaries\n",
      "\u001b[1m\n",
      "answer: A carta FISC_PGCOMEX_0065, datada de 2 de janeiro de 2023, é uma resposta da PETROBRAS à intimação 552787-93/3 da Secretaria de Estado de Fazenda do Rio de Janeiro. A carta aborda a retirada de operação da Plataforma FPSO Brasil, informando que o contrato de afretamento encerrou em 30/11/2014. Detalha a paralisação temporária do poço em 31/03/2014 e seu retorno à operação em 18/12/2014, com o remanejamento de linhas ocorrendo entre 29/05/2014 e 26/11/2014. A PETROBRAS também fornece documentos comprobatórios e menciona as empresas envolvidas no remanejamento: TECHNIP BRASIL, DOFCON NAVEGAÇÃO e NORSKAN OFFSHORE. A carta enfatiza a confidencialidade dos dados enviados e a responsabilidade das áreas gestoras da empresa.\n",
      "\u001b[0m\n",
      "fim\n"
     ]
    }
   ],
   "source": [
    "crew_work(\n",
    "\"\"\"\n",
    "resuma a CARTA_FISC_PGCOMEX_0065 da base de intimações fiscais.\n",
    "\"\"\"\n",
    ")"
   ]
  },
  {
   "cell_type": "code",
   "execution_count": 34,
   "metadata": {},
   "outputs": [
    {
     "name": "stdout",
     "output_type": "stream",
     "text": [
      "\u001b[4m\u001b[1m\u001b[32mCHAT ANALISTA\n",
      "\u001b[0m\n",
      "\u001b[1m\n",
      "answer: Para responder à sua pergunta sobre o que foi respondido às intimações na RAF 55668100, vou precisar consultar a base de dados de intimações fiscais.\n",
      "\u001b[0m\n",
      "\u001b[4m\u001b[1m\u001b[32mAGENTE DE DOCUMENTOS INTERNOS\n",
      "\u001b[0m\n",
      "    Executando tool: rag_complement\n",
      "    {'query_input': 'o que foi respondido a intimaçãoes na RAF 55668100'}\n",
      "\n",
      "\u001b[36mthoughts: {'step_1': 'Análise das coleções disponíveis e descrições:', 'step_2': 'Seleção da coleção mais adequada para a consulta do usuário.', 'step_3': 'Retorno da coleção selecionada.'}\u001b[0m\n",
      "    Executando tool: _get_collection_name\n",
      "    tool result: intimacoes_sefaz_rj\n",
      "\n",
      "\u001b[36mthoughts: {'step_1': 'Seleção da documentação relacionada à coleção selecionada.', 'step_2': 'Geração de SQL para filtrar os documentos relevantes.', 'step_3': 'Teste dos filtros gerados.', 'step_4': 'Retorno dos filtros válidos.'}\u001b[0m\n",
      "    Executando tool: _generate_sql_with_filters\n",
      "    tool result: {'query': 'SELECT COUNT(*) AS count FROM dt0047_prd.chat_bot.intimacoes_fiscais_pgov_sefaz_rj_file_base AS file_base', 'filters': [\"file_base.raf = '55668100'\", \"file_base.raf LIKE '55668100%'\"]}\n",
      "\n",
      "\u001b[36mthoughts: {'step_1': 'Análise da lista de filtros gerados.', 'step_2': 'teste do retorno de linhas para conjuntos de filtros.', 'step_3': 'Retorno dos filtros válidos.'}\u001b[0m\n",
      "    Executando tool: KnowledgeBase.test_filters\n",
      "    tool result: 6 rows returned using:\n",
      "    WHERE file_base.raf = '55668100'\n",
      "\n",
      "\u001b[36mthoughts: {'step_1': 'Gerar o vetor com os embeddings do modelo apropriado.', 'step_2': 'Retorno do vetor gerado.'}\u001b[0m\n",
      "    Executando tool: llm.get_embeddings\n",
      "    tool result: vector embedding generated\n",
      "\n",
      "\u001b[36mthoughts: {'step_1': 'Análise dos dados disponíveis ou abordagem de resolução de problemas.', 'step_2': 'Geração de filtros pelos metadados das tabelas disponíveis.'}\u001b[0m\n",
      "    Executando tool: KnowledgeBase.similarity_search\n",
      "    tool result: vector embedding returned\n",
      "\n",
      "\u001b[36mthoughts: {'step_1': 'Entendimento da solicitação do usuário.', 'step_2': 'Avaliação dos documentos em contexto.', 'step_3': 'Retorno dos documentos relevantes.'}\u001b[0m\n",
      "    Executando tool: _select_relevant_documents\n",
      "    tool result: {'relevant_documents': ['AN_556681002_01.PDF', 'AN_556681001_01.PDF', 'CARTA_FISC_PGCOMEX_0065_assinada.pdf', 'CARTA_TRIBUT_TPG_IAF_FISC_PGCOMEX_85_2023_assinada.pdf']}\n",
      "\n",
      "\u001b[1m\n",
      "answer: As respostas às intimações na RAF 556681-00 incluem a apresentação de documentos fiscais, explicações contábeis sobre DAPP e provisões, e envio de contratos e registros no SAP. Especificamente, foram solicitadas e apresentadas notas fiscais relacionadas aos gastos, registros no SAP, e explicações detalhadas sobre lançamentos provisórios e deduções. As respostas foram documentadas em arquivos como AN_556681002_01.PDF, AN_556681001_01.PDF, CARTA_FISC_PGCOMEX_0065_assinada.pdf, e CARTA_TRIBUT_TPG_IAF_FISC_PGCOMEX_85_2023_assinada.pdf.\n",
      "\u001b[0m\n",
      "fim\n"
     ]
    }
   ],
   "source": [
    "crew_work(\n",
    "\"\"\"\n",
    "o que foi respondido a intimaçãoes na RAF 55668100\n",
    "\"\"\"\n",
    ")"
   ]
  },
  {
   "cell_type": "markdown",
   "metadata": {},
   "source": [
    "## Analytics"
   ]
  },
  {
   "cell_type": "markdown",
   "metadata": {},
   "source": [
    "### Databricks"
   ]
  },
  {
   "cell_type": "code",
   "execution_count": null,
   "metadata": {},
   "outputs": [],
   "source": []
  },
  {
   "cell_type": "code",
   "execution_count": null,
   "metadata": {},
   "outputs": [],
   "source": [
    "# No exemplo abaixo está sendo testado o agente com interação humana durante o processo de resposta\n",
    "# Na primeira versão, a interação ocorria por comandos de input do python, mas numa tentativa de levar isso para uma versão web,\n",
    "# foi trocado para um gerenciamento de variáveis que alocam a resposta do usuário\n",
    "# Para iniciar, estou estabelecendo que não existe nenhum comando antes de iniciar a questão para o chat\n",
    "BaseAgent.user_interaction = None"
   ]
  },
  {
   "cell_type": "code",
   "execution_count": 40,
   "metadata": {},
   "outputs": [
    {
     "name": "stdout",
     "output_type": "stream",
     "text": [
      "\u001b[4m\u001b[1m\u001b[32mCHAT ANALISTA\n",
      "\u001b[0m\n",
      "\u001b[1m\n",
      "answer: Processando...\n",
      "\u001b[0m\n",
      "\u001b[4m\u001b[1m\u001b[32mAGENTE DE ANALYTICS OFICIAL\n",
      "\u001b[0m\n",
      "    Executando tool: data_analysis\n",
      "    {'query_input': \"relacionado ao banco de dados do SEFAZ-RJ - pgov de gastos, responda quantos Objeto_Pesquisado existem na tabela resultado para a Classe_de_custo '4401000004'. Separe por folder em ordem decrescente pelo nome. Me de uma análise do resultado gerado.\"}\n",
      "\n",
      "\u001b[33m\n",
      "If you do not accept this response enter a comment to reject it. If not, press Enter\u001b[0m\n",
      "fim\n"
     ]
    }
   ],
   "source": [
    "crew_work(\n",
    "\"\"\"\n",
    "relacionado ao banco de dados do SEFAZ-RJ - pgov de gastos, responda quantos Objeto_Pesquisado existem na tabela resultado para a Classe_de_custo\n",
    " '4401000004'. Separe por folder em ordem decrescente pelo nome. Me de uma análise do resultado gerado.\n",
    "\"\"\"\n",
    ")"
   ]
  },
  {
   "cell_type": "code",
   "execution_count": null,
   "metadata": {},
   "outputs": [
    {
     "name": "stdout",
     "output_type": "stream",
     "text": [
      "\u001b[4m\u001b[1m\u001b[32mAGENTE DE ANALYTICS OFICIAL\n",
      "\u001b[0m\n",
      "    Executando tool: data_analysis\n",
      "    {'query_input': \"relacionado ao banco de dados do SEFAZ-RJ - pgov de gastos, responda quantos Objeto_Pesquisado existem na tabela resultado para a Classe_de_custo '4401000004'. Separe por folder em ordem decrescente pelo nome. Me de uma análise do resultado gerado.\"}\n",
      "\n",
      "\u001b[36mthoughts: {'step_1': 'Análise das coleções disponíveis e descrições:', 'step_2': 'Seleção da coleção mais adequada para a consulta do usuário.', 'step_3': 'Retorno da coleção selecionada.'}\u001b[0m\n",
      "    Executando tool: _get_collection_name\n",
      "    tool result: intimacoes_sefaz_rj_pgov_gastos\n",
      "\n",
      "thoughts: {'step_1': \"Analyze the user's request and determine the database structure required.\", 'step_2': 'Identify the relevant tables and relationships.', 'step_3': 'Construct an optimized SQL query based on the input and database schema.', 'step_4': 'Execute the query and return the results.'}\n",
      "    Executando tool: _generates_sql\n",
      "    tool result: SELECT folder, COUNT(DISTINCT Objeto_Pesquisado) AS total_objeto_pesquisado\n",
      "FROM dt0047_prd.gastos.base_result_pgov_sefaz_rj_gastos\n",
      "WHERE Classe_de_custo = '4401000004'\n",
      "GROUP BY folder\n",
      "ORDER BY folder DESC;\n",
      "\n",
      "\u001b[1m\n",
      "answer: A análise dos dados relacionados ao banco de dados do SEFAZ-RJ - pgov de gastos para a Classe_de_custo '4401000004' mostra a quantidade de 'Objeto_Pesquisado' por folder, ordenados de forma decrescente pelo nome do folder. Aqui estão os resultados:\n",
      "\n",
      "1. Folder: 2021_012, Total Objeto Pesquisado: 184\n",
      "2. Folder: 2021_011, Total Objeto Pesquisado: 196\n",
      "3. Folder: 2021_010, Total Objeto Pesquisado: 189\n",
      "4. Folder: 2021_009, Total Objeto Pesquisado: 195\n",
      "5. Folder: 2021_008, Total Objeto Pesquisado: 201\n",
      "6. Folder: 2021_007, Total Objeto Pesquisado: 187\n",
      "7. Folder: 2021_006, Total Objeto Pesquisado: 190\n",
      "8. Folder: 2021_005, Total Objeto Pesquisado: 199\n",
      "9. Folder: 2021_004, Total Objeto Pesquisado: 196\n",
      "10. Folder: 2021_003, Total Objeto Pesquisado: 196\n",
      "11. Folder: 2021_002, Total Objeto Pesquisado: 198\n",
      "12. Folder: 2021_001, Total Objeto Pesquisado: 209\n",
      "13. Folder: 2020_012, Total Objeto Pesquisado: 210\n",
      "14. Folder: 2020_011, Total Objeto Pesquisado: 185\n",
      "15. Folder: 2020_010, Total Objeto Pesquisado: 176\n",
      "16. Folder: 2020_009, Total Objeto Pesquisado: 189\n",
      "17. Folder: 2020_008, Total Objeto Pesquisado: 198\n",
      "18. Folder: 2020_007, Total Objeto Pesquisado: 234\n",
      "19. Folder: 2020_006, Total Objeto Pesquisado: 232\n",
      "20. Folder: 2020_005, Total Objeto Pesquisado: 183\n",
      "21. Folder: 2020_004, Total Objeto Pesquisado: 209\n",
      "22. Folder: 2020_003, Total Objeto Pesquisado: 325\n",
      "23. Folder: 2020_002, Total Objeto Pesquisado: 355\n",
      "24. Folder: 2020_001, Total Objeto Pesquisado: 360\n",
      "25. Folder: 2019_012, Total Objeto Pesquisado: 348\n",
      "26. Folder: 2019_011, Total Objeto Pesquisado: 368\n",
      "27. Folder: 2019_010, Total Objeto Pesquisado: 371\n",
      "28. Folder: 2019_009, Total Objeto Pesquisado: 382\n",
      "29. Folder: 2019_008, Total Objeto Pesquisado: 393\n",
      "30. Folder: 2019_007, Total Objeto Pesquisado: 392\n",
      "\n",
      "Análise: Observa-se que a quantidade de 'Objeto_Pesquisado' varia significativamente ao longo dos meses e anos. Há uma tendência de aumento no número de objetos pesquisados nos anos mais recentes, especialmente em 2019 e 2020, com picos notáveis em alguns meses específicos. Isso pode indicar períodos de maior atividade ou auditorias mais intensivas realizadas pela SEFAZ-RJ. A análise detalhada desses picos pode fornecer insights adicionais sobre os motivos dessas variações.\n",
      "\u001b[0m\n",
      "\u001b[33m\n",
      "If you do not accept this response enter a comment to reject it. If not, press Enter\u001b[0m\n",
      "fim\n"
     ]
    }
   ],
   "source": [
    "# Durante a primeira interação não foi inserido nenhum comentário, isso significa que o agente deve continuar o processo como planejado\n",
    "BaseAgent.user_interaction = \"\"\n",
    "crew_work(\n",
    "\"\"\"\n",
    "relacionado ao banco de dados do SEFAZ-RJ - pgov de gastos, responda quantos Objeto_Pesquisado existem na tabela resultado para a Classe_de_custo\n",
    " '4401000004'. Separe por folder em ordem decrescente pelo nome. Me de uma análise do resultado gerado.\n",
    "\"\"\"\n",
    ")"
   ]
  },
  {
   "cell_type": "code",
   "execution_count": 43,
   "metadata": {},
   "outputs": [
    {
     "name": "stdout",
     "output_type": "stream",
     "text": [
      "\u001b[4m\u001b[1m\u001b[32mAGENTE DE ANALYTICS OFICIAL\n",
      "\u001b[0m\n",
      "    Executando tool: data_analysis\n",
      "    {'query_input': \"relacionado ao banco de dados do SEFAZ-RJ - pgov de gastos, responda quantos Objeto_Pesquisado existem na tabela resultado para a Classe_de_custo '4401000004'. Separe por folder em ordem decrescente pelo nome. Me de uma análise do resultado gerado.\"}\n",
      "\n",
      "\u001b[36mthoughts: {'step_1': 'Análise das coleções disponíveis e descrições:', 'step_2': 'Seleção da coleção mais adequada para a consulta do usuário.', 'step_3': 'Retorno da coleção selecionada.'}\u001b[0m\n",
      "    Executando tool: _get_collection_name\n",
      "    tool result: intimacoes_sefaz_rj_pgov_gastos\n",
      "\n",
      "thoughts: {'step_1': \"Analyze the user's request and determine the database structure required.\", 'step_2': 'Identify the relevant tables and relationships.', 'step_3': 'Construct an optimized SQL query based on the input and database schema.', 'step_4': 'Execute the query and return the results.'}\n",
      "    Executando tool: _generates_sql\n",
      "    tool result: SELECT folder, COUNT(DISTINCT Objeto_Pesquisado) AS total_objetos_pesquisados\n",
      "FROM dt0047_prd.gastos.base_result_pgov_sefaz_rj_gastos\n",
      "WHERE Classe_de_custo = '4401000004'\n",
      "GROUP BY folder\n",
      "ORDER BY folder DESC;\n",
      "\n",
      "\u001b[1m\n",
      "answer: A análise dos dados relacionados ao banco de dados do SEFAZ-RJ - pgov de gastos para a Classe_de_custo '4401000004' mostra a quantidade de 'Objeto_Pesquisado' por folder, ordenados de forma decrescente pelo nome do folder. Aqui estão os resultados:\n",
      "\n",
      "1. Folder: 2021_012, Total Objeto Pesquisado: 184\n",
      "2. Folder: 2021_011, Total Objeto Pesquisado: 196\n",
      "3. Folder: 2021_010, Total Objeto Pesquisado: 189\n",
      "4. Folder: 2021_009, Total Objeto Pesquisado: 195\n",
      "5. Folder: 2021_008, Total Objeto Pesquisado: 201\n",
      "6. Folder: 2021_007, Total Objeto Pesquisado: 187\n",
      "7. Folder: 2021_006, Total Objeto Pesquisado: 190\n",
      "8. Folder: 2021_005, Total Objeto Pesquisado: 199\n",
      "9. Folder: 2021_004, Total Objeto Pesquisado: 196\n",
      "10. Folder: 2021_003, Total Objeto Pesquisado: 196\n",
      "11. Folder: 2021_002, Total Objeto Pesquisado: 198\n",
      "12. Folder: 2021_001, Total Objeto Pesquisado: 209\n",
      "13. Folder: 2020_012, Total Objeto Pesquisado: 210\n",
      "14. Folder: 2020_011, Total Objeto Pesquisado: 185\n",
      "15. Folder: 2020_010, Total Objeto Pesquisado: 176\n",
      "16. Folder: 2020_009, Total Objeto Pesquisado: 189\n",
      "17. Folder: 2020_008, Total Objeto Pesquisado: 198\n",
      "18. Folder: 2020_007, Total Objeto Pesquisado: 234\n",
      "19. Folder: 2020_006, Total Objeto Pesquisado: 232\n",
      "20. Folder: 2020_005, Total Objeto Pesquisado: 183\n",
      "21. Folder: 2020_004, Total Objeto Pesquisado: 209\n",
      "22. Folder: 2020_003, Total Objeto Pesquisado: 325\n",
      "23. Folder: 2020_002, Total Objeto Pesquisado: 355\n",
      "24. Folder: 2020_001, Total Objeto Pesquisado: 360\n",
      "25. Folder: 2019_012, Total Objeto Pesquisado: 348\n",
      "26. Folder: 2019_011, Total Objeto Pesquisado: 368\n",
      "27. Folder: 2019_010, Total Objeto Pesquisado: 371\n",
      "28. Folder: 2019_009, Total Objeto Pesquisado: 382\n",
      "29. Folder: 2019_008, Total Objeto Pesquisado: 393\n",
      "30. Folder: 2019_007, Total Objeto Pesquisado: 392\n",
      "\n",
      "Análise: Observa-se que a quantidade de 'Objeto_Pesquisado' varia significativamente ao longo dos meses e anos. Há uma tendência de aumento no número de objetos pesquisados nos anos mais recentes, especialmente em 2019 e 2020, com picos notáveis em alguns meses específicos. Isso pode indicar períodos de maior atividade ou auditorias mais intensivas realizadas pela SEFAZ-RJ. A análise detalhada desses picos pode fornecer insights adicionais sobre os motivos dessas variações.\n",
      "\u001b[0m\n",
      "fim\n"
     ]
    }
   ],
   "source": [
    "BaseAgent.user_interaction = \"\"\n",
    "crew_work(\n",
    "\"\"\"\n",
    "relacionado ao banco de dados do SEFAZ-RJ - pgov de gastos, responda quantos Objeto_Pesquisado existem na tabela resultado para a Classe_de_custo\n",
    " '4401000004'. Separe por folder em ordem decrescente pelo nome. Me de uma análise do resultado gerado.\n",
    "\"\"\"\n",
    ")"
   ]
  }
 ],
 "metadata": {
  "kernelspec": {
   "display_name": ".venv",
   "language": "python",
   "name": "python3"
  },
  "language_info": {
   "codemirror_mode": {
    "name": "ipython",
    "version": 3
   },
   "file_extension": ".py",
   "mimetype": "text/x-python",
   "name": "python",
   "nbconvert_exporter": "python",
   "pygments_lexer": "ipython3",
   "version": "3.11.1"
  }
 },
 "nbformat": 4,
 "nbformat_minor": 2
}
